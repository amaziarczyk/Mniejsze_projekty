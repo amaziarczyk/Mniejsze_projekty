{
  "nbformat": 4,
  "nbformat_minor": 0,
  "metadata": {
    "colab": {
      "name": "Segmentacja_klientów.ipynb",
      "provenance": [],
      "collapsed_sections": [
        "ydisxW7373Jh"
      ],
      "mount_file_id": "157C9GLFkL1LQnbgV7azpDRD_OdaJEWwt",
      "authorship_tag": "ABX9TyM7DWtmp+3nkQDXbiVl8j1d",
      "include_colab_link": true
    },
    "kernelspec": {
      "name": "python3",
      "display_name": "Python 3"
    },
    "language_info": {
      "name": "python"
    }
  },
  "cells": [
    {
      "cell_type": "markdown",
      "metadata": {
        "id": "view-in-github",
        "colab_type": "text"
      },
      "source": [
        "<a href=\"https://colab.research.google.com/github/amaziarczyk/Mniejsze_projekty/blob/master/Pozosta%C5%82e_projekty/Segmentacja_klient%C3%B3w.ipynb\" target=\"_parent\"><img src=\"https://colab.research.google.com/assets/colab-badge.svg\" alt=\"Open In Colab\"/></a>"
      ]
    },
    {
      "cell_type": "markdown",
      "metadata": {
        "id": "ydisxW7373Jh"
      },
      "source": [
        "##Akcja segmentacja \n",
        "\n",
        "\n",
        "\n"
      ]
    },
    {
      "cell_type": "markdown",
      "metadata": {
        "id": "Zea0C4VY7rcr"
      },
      "source": [
        " \n",
        "Celem jest wykorzystanie uczenia nienadzorowanego do wykonania segmentacji klientó\n",
        " \n",
        "    * CustomerID - unikalny identyfikator klienta\n",
        "    * Profit - jaką profitowość przynosi klient, wartość bez jednostki, im wyższa wartość tym lepiej\n",
        "    * Recency - ile dni temu było ostatnie zamówienie klienta, ilość w dniach, im niższa wartość tym lepiej\n",
        "    * Frequency\t - jak często klient zamawiał produkty, wartość bez jednostki, im wyższa wartość tym lepiej\n",
        "    * Monetary\t- całkowita wartość zamówionych produktów przez klienta, jednostka PLN, im wyższa wartość tym lepiej\n",
        "    * Variance - ilość różnorodnych produktów, które zostały zamówione przez klienta, wartość bez jednostki, im wyższa wartość tym lepiej\n"
      ]
    },
    {
      "cell_type": "markdown",
      "metadata": {
        "id": "vLbX2xnL7a0w"
      },
      "source": [
        "##Roziwązanie zdania\n"
      ]
    },
    {
      "cell_type": "code",
      "metadata": {
        "id": "OyHhIVnxbV73"
      },
      "source": [
        "#import bibliotek\n",
        "import pandas as pd\n",
        "import numpy as np\n",
        "import sklearn\n",
        "import plotly.express as px\n",
        "import matplotlib.pyplot as plt"
      ],
      "execution_count": null,
      "outputs": []
    },
    {
      "cell_type": "code",
      "metadata": {
        "colab": {
          "base_uri": "https://localhost:8080/",
          "height": 206
        },
        "id": "oTVq0MFzbkcY",
        "outputId": "eb7aeaee-a375-4f64-ff51-8c73309c3283"
      },
      "source": [
        "#Załadowanie i wyświetlenie pierwszych 5 wierszy ze zbioru danych. Konieczne jest użycie separatora między zmiennymi \";\"\n",
        "url='/content/drive/MyDrive/Asseco/Wyzwania Data Science_Machine Learning/Customers.csv'\n",
        "df2=pd.read_csv(url, sep=\";\")\n",
        "df2.head()"
      ],
      "execution_count": null,
      "outputs": [
        {
          "output_type": "execute_result",
          "data": {
            "text/html": [
              "<div>\n",
              "<style scoped>\n",
              "    .dataframe tbody tr th:only-of-type {\n",
              "        vertical-align: middle;\n",
              "    }\n",
              "\n",
              "    .dataframe tbody tr th {\n",
              "        vertical-align: top;\n",
              "    }\n",
              "\n",
              "    .dataframe thead th {\n",
              "        text-align: right;\n",
              "    }\n",
              "</style>\n",
              "<table border=\"1\" class=\"dataframe\">\n",
              "  <thead>\n",
              "    <tr style=\"text-align: right;\">\n",
              "      <th></th>\n",
              "      <th>CustomerId</th>\n",
              "      <th>Profit</th>\n",
              "      <th>Recency</th>\n",
              "      <th>Frequency</th>\n",
              "      <th>Monetary</th>\n",
              "      <th>Variance</th>\n",
              "    </tr>\n",
              "  </thead>\n",
              "  <tbody>\n",
              "    <tr>\n",
              "      <th>0</th>\n",
              "      <td>1</td>\n",
              "      <td>187</td>\n",
              "      <td>63</td>\n",
              "      <td>1</td>\n",
              "      <td>2349,06</td>\n",
              "      <td>2</td>\n",
              "    </tr>\n",
              "    <tr>\n",
              "      <th>1</th>\n",
              "      <td>2</td>\n",
              "      <td>96</td>\n",
              "      <td>10</td>\n",
              "      <td>6</td>\n",
              "      <td>922,62</td>\n",
              "      <td>4</td>\n",
              "    </tr>\n",
              "    <tr>\n",
              "      <th>2</th>\n",
              "      <td>3</td>\n",
              "      <td>47</td>\n",
              "      <td>35</td>\n",
              "      <td>4</td>\n",
              "      <td>881,22</td>\n",
              "      <td>3</td>\n",
              "    </tr>\n",
              "    <tr>\n",
              "      <th>3</th>\n",
              "      <td>4</td>\n",
              "      <td>294</td>\n",
              "      <td>5</td>\n",
              "      <td>1</td>\n",
              "      <td>3815,16</td>\n",
              "      <td>2</td>\n",
              "    </tr>\n",
              "    <tr>\n",
              "      <th>4</th>\n",
              "      <td>5</td>\n",
              "      <td>732</td>\n",
              "      <td>4</td>\n",
              "      <td>31</td>\n",
              "      <td>41868,11</td>\n",
              "      <td>29</td>\n",
              "    </tr>\n",
              "  </tbody>\n",
              "</table>\n",
              "</div>"
            ],
            "text/plain": [
              "   CustomerId  Profit  Recency  Frequency  Monetary  Variance\n",
              "0           1     187       63          1   2349,06         2\n",
              "1           2      96       10          6    922,62         4\n",
              "2           3      47       35          4    881,22         3\n",
              "3           4     294        5          1   3815,16         2\n",
              "4           5     732        4         31  41868,11        29"
            ]
          },
          "metadata": {
            "tags": []
          },
          "execution_count": 2
        }
      ]
    },
    {
      "cell_type": "code",
      "metadata": {
        "id": "SbHRp0Idt3Xr",
        "colab": {
          "base_uri": "https://localhost:8080/"
        },
        "outputId": "40b4c51f-82aa-4cf1-800f-447a487668ca"
      },
      "source": [
        "#praca na kopii danych i sprawdzenie podstawowych informacji\n",
        "df=df2.copy()\n",
        "df.info()"
      ],
      "execution_count": null,
      "outputs": [
        {
          "output_type": "stream",
          "text": [
            "<class 'pandas.core.frame.DataFrame'>\n",
            "RangeIndex: 1511 entries, 0 to 1510\n",
            "Data columns (total 6 columns):\n",
            " #   Column      Non-Null Count  Dtype \n",
            "---  ------      --------------  ----- \n",
            " 0   CustomerId  1511 non-null   int64 \n",
            " 1   Profit      1511 non-null   int64 \n",
            " 2   Recency     1511 non-null   int64 \n",
            " 3   Frequency   1511 non-null   int64 \n",
            " 4   Monetary    1511 non-null   object\n",
            " 5   Variance    1511 non-null   int64 \n",
            "dtypes: int64(5), object(1)\n",
            "memory usage: 71.0+ KB\n"
          ],
          "name": "stdout"
        }
      ]
    },
    {
      "cell_type": "markdown",
      "metadata": {
        "id": "iOrGmeUR-Pu6"
      },
      "source": [
        "###Przygotowanie danych do modelowania"
      ]
    },
    {
      "cell_type": "code",
      "metadata": {
        "id": "4cQqSaBBYE77"
      },
      "source": [
        "#konwersja zmiennej 'Monetary' z typu 'object' na 'float'\n",
        "df['Monetary']=df['Monetary'].str.replace(\",\",\".\").astype('float')"
      ],
      "execution_count": null,
      "outputs": []
    },
    {
      "cell_type": "markdown",
      "metadata": {
        "id": "_dDglv42-ttQ"
      },
      "source": [
        "####Normalizacja wartości"
      ]
    },
    {
      "cell_type": "code",
      "metadata": {
        "colab": {
          "base_uri": "https://localhost:8080/",
          "height": 300
        },
        "id": "4JrrZ68iWQdD",
        "outputId": "679a4bf7-925e-4719-9356-bb231fa96cb7"
      },
      "source": [
        "#Normalizacja wartości. Sprowadzenie wartości do skali od 0 do 1. \n",
        "df_norm=(df-df.min())/(df.max()-df.min())\n",
        "\n",
        "#sprawdzenie czy jest normalizacja z min 0 i max 1\n",
        "df_norm.describe()"
      ],
      "execution_count": null,
      "outputs": [
        {
          "output_type": "execute_result",
          "data": {
            "text/html": [
              "<div>\n",
              "<style scoped>\n",
              "    .dataframe tbody tr th:only-of-type {\n",
              "        vertical-align: middle;\n",
              "    }\n",
              "\n",
              "    .dataframe tbody tr th {\n",
              "        vertical-align: top;\n",
              "    }\n",
              "\n",
              "    .dataframe thead th {\n",
              "        text-align: right;\n",
              "    }\n",
              "</style>\n",
              "<table border=\"1\" class=\"dataframe\">\n",
              "  <thead>\n",
              "    <tr style=\"text-align: right;\">\n",
              "      <th></th>\n",
              "      <th>CustomerId</th>\n",
              "      <th>Profit</th>\n",
              "      <th>Recency</th>\n",
              "      <th>Frequency</th>\n",
              "      <th>Monetary</th>\n",
              "      <th>Variance</th>\n",
              "    </tr>\n",
              "  </thead>\n",
              "  <tbody>\n",
              "    <tr>\n",
              "      <th>count</th>\n",
              "      <td>1511.000000</td>\n",
              "      <td>1511.000000</td>\n",
              "      <td>1511.000000</td>\n",
              "      <td>1511.000000</td>\n",
              "      <td>1511.000000</td>\n",
              "      <td>1511.000000</td>\n",
              "    </tr>\n",
              "    <tr>\n",
              "      <th>mean</th>\n",
              "      <td>0.500000</td>\n",
              "      <td>0.010391</td>\n",
              "      <td>0.164968</td>\n",
              "      <td>0.124489</td>\n",
              "      <td>0.005389</td>\n",
              "      <td>0.113573</td>\n",
              "    </tr>\n",
              "    <tr>\n",
              "      <th>std</th>\n",
              "      <td>0.288962</td>\n",
              "      <td>0.051491</td>\n",
              "      <td>0.211687</td>\n",
              "      <td>0.132677</td>\n",
              "      <td>0.055043</td>\n",
              "      <td>0.128292</td>\n",
              "    </tr>\n",
              "    <tr>\n",
              "      <th>min</th>\n",
              "      <td>0.000000</td>\n",
              "      <td>0.000000</td>\n",
              "      <td>0.000000</td>\n",
              "      <td>0.000000</td>\n",
              "      <td>0.000000</td>\n",
              "      <td>0.000000</td>\n",
              "    </tr>\n",
              "    <tr>\n",
              "      <th>25%</th>\n",
              "      <td>0.250000</td>\n",
              "      <td>0.000736</td>\n",
              "      <td>0.033333</td>\n",
              "      <td>0.025641</td>\n",
              "      <td>0.000043</td>\n",
              "      <td>0.028986</td>\n",
              "    </tr>\n",
              "    <tr>\n",
              "      <th>50%</th>\n",
              "      <td>0.500000</td>\n",
              "      <td>0.002104</td>\n",
              "      <td>0.055556</td>\n",
              "      <td>0.102564</td>\n",
              "      <td>0.000178</td>\n",
              "      <td>0.072464</td>\n",
              "    </tr>\n",
              "    <tr>\n",
              "      <th>75%</th>\n",
              "      <td>0.750000</td>\n",
              "      <td>0.005269</td>\n",
              "      <td>0.200000</td>\n",
              "      <td>0.173077</td>\n",
              "      <td>0.000685</td>\n",
              "      <td>0.159420</td>\n",
              "    </tr>\n",
              "    <tr>\n",
              "      <th>max</th>\n",
              "      <td>1.000000</td>\n",
              "      <td>1.000000</td>\n",
              "      <td>1.000000</td>\n",
              "      <td>1.000000</td>\n",
              "      <td>1.000000</td>\n",
              "      <td>1.000000</td>\n",
              "    </tr>\n",
              "  </tbody>\n",
              "</table>\n",
              "</div>"
            ],
            "text/plain": [
              "        CustomerId       Profit  ...     Monetary     Variance\n",
              "count  1511.000000  1511.000000  ...  1511.000000  1511.000000\n",
              "mean      0.500000     0.010391  ...     0.005389     0.113573\n",
              "std       0.288962     0.051491  ...     0.055043     0.128292\n",
              "min       0.000000     0.000000  ...     0.000000     0.000000\n",
              "25%       0.250000     0.000736  ...     0.000043     0.028986\n",
              "50%       0.500000     0.002104  ...     0.000178     0.072464\n",
              "75%       0.750000     0.005269  ...     0.000685     0.159420\n",
              "max       1.000000     1.000000  ...     1.000000     1.000000\n",
              "\n",
              "[8 rows x 6 columns]"
            ]
          },
          "metadata": {
            "tags": []
          },
          "execution_count": 5
        }
      ]
    },
    {
      "cell_type": "markdown",
      "metadata": {
        "id": "0zcxzg1J-UjV"
      },
      "source": [
        "####Usunięcie wartości odstających"
      ]
    },
    {
      "cell_type": "code",
      "metadata": {
        "colab": {
          "base_uri": "https://localhost:8080/"
        },
        "id": "8TugtjfuWQOx",
        "outputId": "b564fa5d-901b-41d3-ee74-3e202002ab82"
      },
      "source": [
        "#określenie wartości odstającyh \"outliersów\" przy pomocy LocalOutlierFactor dla klasyfikatora nienadzorowanego\n",
        "\n",
        "from sklearn.neighbors import LocalOutlierFactor\n",
        "lof=LocalOutlierFactor(n_neighbors=20)\n",
        "y_pred=lof.fit_predict(df_norm)\n",
        "\n",
        "#usunięcie wartości odstających ze zbioru i sprawdzenie jak zmieniła się liczba obserwacji\n",
        "df_norm['y_pred']=y_pred\n",
        "df_norm=df_norm[df_norm['y_pred']==1]\n",
        "\n",
        "print(f'Jako wartości odstające zdefiniowano {df.shape[0]-df_norm.shape[0]} wartości')\n",
        "print(\"\")\n",
        "print(\"\")\n",
        "print(\"---------------------\")\n",
        "df_norm.info()"
      ],
      "execution_count": null,
      "outputs": [
        {
          "output_type": "stream",
          "text": [
            "Jako wartości odstające zdefiniowano 48 wartości\n",
            "\n",
            "\n",
            "---------------------\n",
            "<class 'pandas.core.frame.DataFrame'>\n",
            "Int64Index: 1463 entries, 0 to 1510\n",
            "Data columns (total 7 columns):\n",
            " #   Column      Non-Null Count  Dtype  \n",
            "---  ------      --------------  -----  \n",
            " 0   CustomerId  1463 non-null   float64\n",
            " 1   Profit      1463 non-null   float64\n",
            " 2   Recency     1463 non-null   float64\n",
            " 3   Frequency   1463 non-null   float64\n",
            " 4   Monetary    1463 non-null   float64\n",
            " 5   Variance    1463 non-null   float64\n",
            " 6   y_pred      1463 non-null   int64  \n",
            "dtypes: float64(6), int64(1)\n",
            "memory usage: 91.4 KB\n"
          ],
          "name": "stdout"
        }
      ]
    },
    {
      "cell_type": "code",
      "metadata": {
        "colab": {
          "base_uri": "https://localhost:8080/",
          "height": 143
        },
        "id": "apC5l0ytesnr",
        "outputId": "4ed573bf-bd26-4fc1-c37d-06700cb7f859"
      },
      "source": [
        "#wybranie zmiennych do modelowania\n",
        "df_norm2=df_norm.drop(columns=['CustomerId','y_pred'])\n",
        "df_norm2.head(3)"
      ],
      "execution_count": null,
      "outputs": [
        {
          "output_type": "execute_result",
          "data": {
            "text/html": [
              "<div>\n",
              "<style scoped>\n",
              "    .dataframe tbody tr th:only-of-type {\n",
              "        vertical-align: middle;\n",
              "    }\n",
              "\n",
              "    .dataframe tbody tr th {\n",
              "        vertical-align: top;\n",
              "    }\n",
              "\n",
              "    .dataframe thead th {\n",
              "        text-align: right;\n",
              "    }\n",
              "</style>\n",
              "<table border=\"1\" class=\"dataframe\">\n",
              "  <thead>\n",
              "    <tr style=\"text-align: right;\">\n",
              "      <th></th>\n",
              "      <th>Profit</th>\n",
              "      <th>Recency</th>\n",
              "      <th>Frequency</th>\n",
              "      <th>Monetary</th>\n",
              "      <th>Variance</th>\n",
              "    </tr>\n",
              "  </thead>\n",
              "  <tbody>\n",
              "    <tr>\n",
              "      <th>0</th>\n",
              "      <td>0.001755</td>\n",
              "      <td>0.688889</td>\n",
              "      <td>0.000000</td>\n",
              "      <td>0.000072</td>\n",
              "      <td>0.007246</td>\n",
              "    </tr>\n",
              "    <tr>\n",
              "      <th>1</th>\n",
              "      <td>0.000896</td>\n",
              "      <td>0.100000</td>\n",
              "      <td>0.064103</td>\n",
              "      <td>0.000028</td>\n",
              "      <td>0.021739</td>\n",
              "    </tr>\n",
              "    <tr>\n",
              "      <th>2</th>\n",
              "      <td>0.000434</td>\n",
              "      <td>0.377778</td>\n",
              "      <td>0.038462</td>\n",
              "      <td>0.000027</td>\n",
              "      <td>0.014493</td>\n",
              "    </tr>\n",
              "  </tbody>\n",
              "</table>\n",
              "</div>"
            ],
            "text/plain": [
              "     Profit   Recency  Frequency  Monetary  Variance\n",
              "0  0.001755  0.688889   0.000000  0.000072  0.007246\n",
              "1  0.000896  0.100000   0.064103  0.000028  0.021739\n",
              "2  0.000434  0.377778   0.038462  0.000027  0.014493"
            ]
          },
          "metadata": {
            "tags": []
          },
          "execution_count": 7
        }
      ]
    },
    {
      "cell_type": "markdown",
      "metadata": {
        "id": "uxCsDjSmAlH2"
      },
      "source": [
        "### Model K-średnich"
      ]
    },
    {
      "cell_type": "code",
      "metadata": {
        "colab": {
          "base_uri": "https://localhost:8080/",
          "height": 206
        },
        "id": "A95EQWqvzNyN",
        "outputId": "b2b39ea8-041b-447b-de14-6f613110ff52"
      },
      "source": [
        "from sklearn.cluster import KMeans\n",
        "\n",
        "#funkacja do wybór ilości klastrów\n",
        "wcss=[]\n",
        "for i in range(2,10):\n",
        "  kmeans=KMeans(n_clusters=i)\n",
        "  kmeans.fit(df_norm2)\n",
        "  wcss.append(kmeans.inertia_)\n",
        "\n",
        "#DataFrame z danymi funkcji\n",
        "df_wcss=pd.DataFrame(wcss, columns=['wcss'])\n",
        "df_wcss=df_wcss.reset_index()\n",
        "df_wcss=df_wcss.rename(columns={'index':'clusters'})\n",
        "df_wcss['clusters']+=1\n",
        "df_wcss.head()"
      ],
      "execution_count": null,
      "outputs": [
        {
          "output_type": "execute_result",
          "data": {
            "text/html": [
              "<div>\n",
              "<style scoped>\n",
              "    .dataframe tbody tr th:only-of-type {\n",
              "        vertical-align: middle;\n",
              "    }\n",
              "\n",
              "    .dataframe tbody tr th {\n",
              "        vertical-align: top;\n",
              "    }\n",
              "\n",
              "    .dataframe thead th {\n",
              "        text-align: right;\n",
              "    }\n",
              "</style>\n",
              "<table border=\"1\" class=\"dataframe\">\n",
              "  <thead>\n",
              "    <tr style=\"text-align: right;\">\n",
              "      <th></th>\n",
              "      <th>clusters</th>\n",
              "      <th>wcss</th>\n",
              "    </tr>\n",
              "  </thead>\n",
              "  <tbody>\n",
              "    <tr>\n",
              "      <th>0</th>\n",
              "      <td>1</td>\n",
              "      <td>36.614314</td>\n",
              "    </tr>\n",
              "    <tr>\n",
              "      <th>1</th>\n",
              "      <td>2</td>\n",
              "      <td>23.550257</td>\n",
              "    </tr>\n",
              "    <tr>\n",
              "      <th>2</th>\n",
              "      <td>3</td>\n",
              "      <td>17.446631</td>\n",
              "    </tr>\n",
              "    <tr>\n",
              "      <th>3</th>\n",
              "      <td>4</td>\n",
              "      <td>14.275162</td>\n",
              "    </tr>\n",
              "    <tr>\n",
              "      <th>4</th>\n",
              "      <td>5</td>\n",
              "      <td>11.611290</td>\n",
              "    </tr>\n",
              "  </tbody>\n",
              "</table>\n",
              "</div>"
            ],
            "text/plain": [
              "   clusters       wcss\n",
              "0         1  36.614314\n",
              "1         2  23.550257\n",
              "2         3  17.446631\n",
              "3         4  14.275162\n",
              "4         5  11.611290"
            ]
          },
          "metadata": {
            "tags": []
          },
          "execution_count": 8
        }
      ]
    },
    {
      "cell_type": "code",
      "metadata": {
        "colab": {
          "base_uri": "https://localhost:8080/",
          "height": 317
        },
        "id": "ilA9mNM4axkE",
        "outputId": "56ddb5a7-9e44-482a-8eee-f2ee1d3c3d02"
      },
      "source": [
        "#wizualizacja i wykorzystanie regułu \"łokcia\", wykorzystanie ostaniego załamania jako liczba klastrów\n",
        "px.line(df_wcss, x='clusters', y='wcss', height=300, width=500, color_discrete_sequence=['#51ace0'], template=\"plotly_white\")"
      ],
      "execution_count": null,
      "outputs": [
        {
          "output_type": "display_data",
          "data": {
            "text/html": [
              "<html>\n",
              "<head><meta charset=\"utf-8\" /></head>\n",
              "<body>\n",
              "    <div>\n",
              "            <script src=\"https://cdnjs.cloudflare.com/ajax/libs/mathjax/2.7.5/MathJax.js?config=TeX-AMS-MML_SVG\"></script><script type=\"text/javascript\">if (window.MathJax) {MathJax.Hub.Config({SVG: {font: \"STIX-Web\"}});}</script>\n",
              "                <script type=\"text/javascript\">window.PlotlyConfig = {MathJaxConfig: 'local'};</script>\n",
              "        <script src=\"https://cdn.plot.ly/plotly-latest.min.js\"></script>    \n",
              "            <div id=\"222d7b22-9fef-47c0-8e94-0d3fa14d3143\" class=\"plotly-graph-div\" style=\"height:300px; width:500px;\"></div>\n",
              "            <script type=\"text/javascript\">\n",
              "                \n",
              "                    window.PLOTLYENV=window.PLOTLYENV || {};\n",
              "                    \n",
              "                if (document.getElementById(\"222d7b22-9fef-47c0-8e94-0d3fa14d3143\")) {\n",
              "                    Plotly.newPlot(\n",
              "                        '222d7b22-9fef-47c0-8e94-0d3fa14d3143',\n",
              "                        [{\"hoverlabel\": {\"namelength\": 0}, \"hovertemplate\": \"clusters=%{x}<br>wcss=%{y}\", \"legendgroup\": \"\", \"line\": {\"color\": \"#51ace0\", \"dash\": \"solid\"}, \"mode\": \"lines\", \"name\": \"\", \"showlegend\": false, \"type\": \"scatter\", \"x\": [1, 2, 3, 4, 5, 6, 7, 8], \"xaxis\": \"x\", \"y\": [36.614314006525184, 23.550256967873025, 17.44663131109326, 14.275161708697901, 11.61128956694099, 9.9353010682605, 8.811120848995344, 7.780326090298849], \"yaxis\": \"y\"}],\n",
              "                        {\"height\": 300, \"legend\": {\"tracegroupgap\": 0}, \"margin\": {\"t\": 60}, \"template\": {\"data\": {\"bar\": [{\"error_x\": {\"color\": \"#2a3f5f\"}, \"error_y\": {\"color\": \"#2a3f5f\"}, \"marker\": {\"line\": {\"color\": \"white\", \"width\": 0.5}}, \"type\": \"bar\"}], \"barpolar\": [{\"marker\": {\"line\": {\"color\": \"white\", \"width\": 0.5}}, \"type\": \"barpolar\"}], \"carpet\": [{\"aaxis\": {\"endlinecolor\": \"#2a3f5f\", \"gridcolor\": \"#C8D4E3\", \"linecolor\": \"#C8D4E3\", \"minorgridcolor\": \"#C8D4E3\", \"startlinecolor\": \"#2a3f5f\"}, \"baxis\": {\"endlinecolor\": \"#2a3f5f\", \"gridcolor\": \"#C8D4E3\", \"linecolor\": \"#C8D4E3\", \"minorgridcolor\": \"#C8D4E3\", \"startlinecolor\": \"#2a3f5f\"}, \"type\": \"carpet\"}], \"choropleth\": [{\"colorbar\": {\"outlinewidth\": 0, \"ticks\": \"\"}, \"type\": \"choropleth\"}], \"contour\": [{\"colorbar\": {\"outlinewidth\": 0, \"ticks\": \"\"}, \"colorscale\": [[0.0, \"#0d0887\"], [0.1111111111111111, \"#46039f\"], [0.2222222222222222, \"#7201a8\"], [0.3333333333333333, \"#9c179e\"], [0.4444444444444444, \"#bd3786\"], [0.5555555555555556, \"#d8576b\"], [0.6666666666666666, \"#ed7953\"], [0.7777777777777778, \"#fb9f3a\"], [0.8888888888888888, \"#fdca26\"], [1.0, \"#f0f921\"]], \"type\": \"contour\"}], \"contourcarpet\": [{\"colorbar\": {\"outlinewidth\": 0, \"ticks\": \"\"}, \"type\": \"contourcarpet\"}], \"heatmap\": [{\"colorbar\": {\"outlinewidth\": 0, \"ticks\": \"\"}, \"colorscale\": [[0.0, \"#0d0887\"], [0.1111111111111111, \"#46039f\"], [0.2222222222222222, \"#7201a8\"], [0.3333333333333333, \"#9c179e\"], [0.4444444444444444, \"#bd3786\"], [0.5555555555555556, \"#d8576b\"], [0.6666666666666666, \"#ed7953\"], [0.7777777777777778, \"#fb9f3a\"], [0.8888888888888888, \"#fdca26\"], [1.0, \"#f0f921\"]], \"type\": \"heatmap\"}], \"heatmapgl\": [{\"colorbar\": {\"outlinewidth\": 0, \"ticks\": \"\"}, \"colorscale\": [[0.0, \"#0d0887\"], [0.1111111111111111, \"#46039f\"], [0.2222222222222222, \"#7201a8\"], [0.3333333333333333, \"#9c179e\"], [0.4444444444444444, \"#bd3786\"], [0.5555555555555556, \"#d8576b\"], [0.6666666666666666, \"#ed7953\"], [0.7777777777777778, \"#fb9f3a\"], [0.8888888888888888, \"#fdca26\"], [1.0, \"#f0f921\"]], \"type\": \"heatmapgl\"}], \"histogram\": [{\"marker\": {\"colorbar\": {\"outlinewidth\": 0, \"ticks\": \"\"}}, \"type\": \"histogram\"}], \"histogram2d\": [{\"colorbar\": {\"outlinewidth\": 0, \"ticks\": \"\"}, \"colorscale\": [[0.0, \"#0d0887\"], [0.1111111111111111, \"#46039f\"], [0.2222222222222222, \"#7201a8\"], [0.3333333333333333, \"#9c179e\"], [0.4444444444444444, \"#bd3786\"], [0.5555555555555556, \"#d8576b\"], [0.6666666666666666, \"#ed7953\"], [0.7777777777777778, \"#fb9f3a\"], [0.8888888888888888, \"#fdca26\"], [1.0, \"#f0f921\"]], \"type\": \"histogram2d\"}], \"histogram2dcontour\": [{\"colorbar\": {\"outlinewidth\": 0, \"ticks\": \"\"}, \"colorscale\": [[0.0, \"#0d0887\"], [0.1111111111111111, \"#46039f\"], [0.2222222222222222, \"#7201a8\"], [0.3333333333333333, \"#9c179e\"], [0.4444444444444444, \"#bd3786\"], [0.5555555555555556, \"#d8576b\"], [0.6666666666666666, \"#ed7953\"], [0.7777777777777778, \"#fb9f3a\"], [0.8888888888888888, \"#fdca26\"], [1.0, \"#f0f921\"]], \"type\": \"histogram2dcontour\"}], \"mesh3d\": [{\"colorbar\": {\"outlinewidth\": 0, \"ticks\": \"\"}, \"type\": \"mesh3d\"}], \"parcoords\": [{\"line\": {\"colorbar\": {\"outlinewidth\": 0, \"ticks\": \"\"}}, \"type\": \"parcoords\"}], \"pie\": [{\"automargin\": true, \"type\": \"pie\"}], \"scatter\": [{\"marker\": {\"colorbar\": {\"outlinewidth\": 0, \"ticks\": \"\"}}, \"type\": \"scatter\"}], \"scatter3d\": [{\"line\": {\"colorbar\": {\"outlinewidth\": 0, \"ticks\": \"\"}}, \"marker\": {\"colorbar\": {\"outlinewidth\": 0, \"ticks\": \"\"}}, \"type\": \"scatter3d\"}], \"scattercarpet\": [{\"marker\": {\"colorbar\": {\"outlinewidth\": 0, \"ticks\": \"\"}}, \"type\": \"scattercarpet\"}], \"scattergeo\": [{\"marker\": {\"colorbar\": {\"outlinewidth\": 0, \"ticks\": \"\"}}, \"type\": \"scattergeo\"}], \"scattergl\": [{\"marker\": {\"colorbar\": {\"outlinewidth\": 0, \"ticks\": \"\"}}, \"type\": \"scattergl\"}], \"scattermapbox\": [{\"marker\": {\"colorbar\": {\"outlinewidth\": 0, \"ticks\": \"\"}}, \"type\": \"scattermapbox\"}], \"scatterpolar\": [{\"marker\": {\"colorbar\": {\"outlinewidth\": 0, \"ticks\": \"\"}}, \"type\": \"scatterpolar\"}], \"scatterpolargl\": [{\"marker\": {\"colorbar\": {\"outlinewidth\": 0, \"ticks\": \"\"}}, \"type\": \"scatterpolargl\"}], \"scatterternary\": [{\"marker\": {\"colorbar\": {\"outlinewidth\": 0, \"ticks\": \"\"}}, \"type\": \"scatterternary\"}], \"surface\": [{\"colorbar\": {\"outlinewidth\": 0, \"ticks\": \"\"}, \"colorscale\": [[0.0, \"#0d0887\"], [0.1111111111111111, \"#46039f\"], [0.2222222222222222, \"#7201a8\"], [0.3333333333333333, \"#9c179e\"], [0.4444444444444444, \"#bd3786\"], [0.5555555555555556, \"#d8576b\"], [0.6666666666666666, \"#ed7953\"], [0.7777777777777778, \"#fb9f3a\"], [0.8888888888888888, \"#fdca26\"], [1.0, \"#f0f921\"]], \"type\": \"surface\"}], \"table\": [{\"cells\": {\"fill\": {\"color\": \"#EBF0F8\"}, \"line\": {\"color\": \"white\"}}, \"header\": {\"fill\": {\"color\": \"#C8D4E3\"}, \"line\": {\"color\": \"white\"}}, \"type\": \"table\"}]}, \"layout\": {\"annotationdefaults\": {\"arrowcolor\": \"#2a3f5f\", \"arrowhead\": 0, \"arrowwidth\": 1}, \"coloraxis\": {\"colorbar\": {\"outlinewidth\": 0, \"ticks\": \"\"}}, \"colorscale\": {\"diverging\": [[0, \"#8e0152\"], [0.1, \"#c51b7d\"], [0.2, \"#de77ae\"], [0.3, \"#f1b6da\"], [0.4, \"#fde0ef\"], [0.5, \"#f7f7f7\"], [0.6, \"#e6f5d0\"], [0.7, \"#b8e186\"], [0.8, \"#7fbc41\"], [0.9, \"#4d9221\"], [1, \"#276419\"]], \"sequential\": [[0.0, \"#0d0887\"], [0.1111111111111111, \"#46039f\"], [0.2222222222222222, \"#7201a8\"], [0.3333333333333333, \"#9c179e\"], [0.4444444444444444, \"#bd3786\"], [0.5555555555555556, \"#d8576b\"], [0.6666666666666666, \"#ed7953\"], [0.7777777777777778, \"#fb9f3a\"], [0.8888888888888888, \"#fdca26\"], [1.0, \"#f0f921\"]], \"sequentialminus\": [[0.0, \"#0d0887\"], [0.1111111111111111, \"#46039f\"], [0.2222222222222222, \"#7201a8\"], [0.3333333333333333, \"#9c179e\"], [0.4444444444444444, \"#bd3786\"], [0.5555555555555556, \"#d8576b\"], [0.6666666666666666, \"#ed7953\"], [0.7777777777777778, \"#fb9f3a\"], [0.8888888888888888, \"#fdca26\"], [1.0, \"#f0f921\"]]}, \"colorway\": [\"#636efa\", \"#EF553B\", \"#00cc96\", \"#ab63fa\", \"#FFA15A\", \"#19d3f3\", \"#FF6692\", \"#B6E880\", \"#FF97FF\", \"#FECB52\"], \"font\": {\"color\": \"#2a3f5f\"}, \"geo\": {\"bgcolor\": \"white\", \"lakecolor\": \"white\", \"landcolor\": \"white\", \"showlakes\": true, \"showland\": true, \"subunitcolor\": \"#C8D4E3\"}, \"hoverlabel\": {\"align\": \"left\"}, \"hovermode\": \"closest\", \"mapbox\": {\"style\": \"light\"}, \"paper_bgcolor\": \"white\", \"plot_bgcolor\": \"white\", \"polar\": {\"angularaxis\": {\"gridcolor\": \"#EBF0F8\", \"linecolor\": \"#EBF0F8\", \"ticks\": \"\"}, \"bgcolor\": \"white\", \"radialaxis\": {\"gridcolor\": \"#EBF0F8\", \"linecolor\": \"#EBF0F8\", \"ticks\": \"\"}}, \"scene\": {\"xaxis\": {\"backgroundcolor\": \"white\", \"gridcolor\": \"#DFE8F3\", \"gridwidth\": 2, \"linecolor\": \"#EBF0F8\", \"showbackground\": true, \"ticks\": \"\", \"zerolinecolor\": \"#EBF0F8\"}, \"yaxis\": {\"backgroundcolor\": \"white\", \"gridcolor\": \"#DFE8F3\", \"gridwidth\": 2, \"linecolor\": \"#EBF0F8\", \"showbackground\": true, \"ticks\": \"\", \"zerolinecolor\": \"#EBF0F8\"}, \"zaxis\": {\"backgroundcolor\": \"white\", \"gridcolor\": \"#DFE8F3\", \"gridwidth\": 2, \"linecolor\": \"#EBF0F8\", \"showbackground\": true, \"ticks\": \"\", \"zerolinecolor\": \"#EBF0F8\"}}, \"shapedefaults\": {\"line\": {\"color\": \"#2a3f5f\"}}, \"ternary\": {\"aaxis\": {\"gridcolor\": \"#DFE8F3\", \"linecolor\": \"#A2B1C6\", \"ticks\": \"\"}, \"baxis\": {\"gridcolor\": \"#DFE8F3\", \"linecolor\": \"#A2B1C6\", \"ticks\": \"\"}, \"bgcolor\": \"white\", \"caxis\": {\"gridcolor\": \"#DFE8F3\", \"linecolor\": \"#A2B1C6\", \"ticks\": \"\"}}, \"title\": {\"x\": 0.05}, \"xaxis\": {\"automargin\": true, \"gridcolor\": \"#EBF0F8\", \"linecolor\": \"#EBF0F8\", \"ticks\": \"\", \"title\": {\"standoff\": 15}, \"zerolinecolor\": \"#EBF0F8\", \"zerolinewidth\": 2}, \"yaxis\": {\"automargin\": true, \"gridcolor\": \"#EBF0F8\", \"linecolor\": \"#EBF0F8\", \"ticks\": \"\", \"title\": {\"standoff\": 15}, \"zerolinecolor\": \"#EBF0F8\", \"zerolinewidth\": 2}}}, \"width\": 500, \"xaxis\": {\"anchor\": \"y\", \"domain\": [0.0, 1.0], \"title\": {\"text\": \"clusters\"}}, \"yaxis\": {\"anchor\": \"x\", \"domain\": [0.0, 1.0], \"title\": {\"text\": \"wcss\"}}},\n",
              "                        {\"responsive\": true}\n",
              "                    ).then(function(){\n",
              "                            \n",
              "var gd = document.getElementById('222d7b22-9fef-47c0-8e94-0d3fa14d3143');\n",
              "var x = new MutationObserver(function (mutations, observer) {{\n",
              "        var display = window.getComputedStyle(gd).display;\n",
              "        if (!display || display === 'none') {{\n",
              "            console.log([gd, 'removed!']);\n",
              "            Plotly.purge(gd);\n",
              "            observer.disconnect();\n",
              "        }}\n",
              "}});\n",
              "\n",
              "// Listen for the removal of the full notebook cells\n",
              "var notebookContainer = gd.closest('#notebook-container');\n",
              "if (notebookContainer) {{\n",
              "    x.observe(notebookContainer, {childList: true});\n",
              "}}\n",
              "\n",
              "// Listen for the clearing of the current output cell\n",
              "var outputEl = gd.closest('.output');\n",
              "if (outputEl) {{\n",
              "    x.observe(outputEl, {childList: true});\n",
              "}}\n",
              "\n",
              "                        })\n",
              "                };\n",
              "                \n",
              "            </script>\n",
              "        </div>\n",
              "</body>\n",
              "</html>"
            ]
          },
          "metadata": {
            "tags": []
          }
        }
      ]
    },
    {
      "cell_type": "code",
      "metadata": {
        "colab": {
          "base_uri": "https://localhost:8080/",
          "height": 206
        },
        "id": "6swRQK7laxc7",
        "outputId": "8a7b2c47-d20d-430d-815f-c5328d18657a"
      },
      "source": [
        "#budowa modelu K-średnich\n",
        "kmeans=KMeans(n_clusters=3)\n",
        "kmeans.fit(df_norm2)\n",
        "SegmentId=kmeans.predict(df_norm2)\n",
        "\n",
        "#dodanie zmiennej z numerem klastra\n",
        "df_norm2['SegmentId']=SegmentId\n",
        "df_norm2.head()"
      ],
      "execution_count": null,
      "outputs": [
        {
          "output_type": "execute_result",
          "data": {
            "text/html": [
              "<div>\n",
              "<style scoped>\n",
              "    .dataframe tbody tr th:only-of-type {\n",
              "        vertical-align: middle;\n",
              "    }\n",
              "\n",
              "    .dataframe tbody tr th {\n",
              "        vertical-align: top;\n",
              "    }\n",
              "\n",
              "    .dataframe thead th {\n",
              "        text-align: right;\n",
              "    }\n",
              "</style>\n",
              "<table border=\"1\" class=\"dataframe\">\n",
              "  <thead>\n",
              "    <tr style=\"text-align: right;\">\n",
              "      <th></th>\n",
              "      <th>Profit</th>\n",
              "      <th>Recency</th>\n",
              "      <th>Frequency</th>\n",
              "      <th>Monetary</th>\n",
              "      <th>Variance</th>\n",
              "      <th>SegmentId</th>\n",
              "    </tr>\n",
              "  </thead>\n",
              "  <tbody>\n",
              "    <tr>\n",
              "      <th>0</th>\n",
              "      <td>0.001755</td>\n",
              "      <td>0.688889</td>\n",
              "      <td>0.000000</td>\n",
              "      <td>0.000072</td>\n",
              "      <td>0.007246</td>\n",
              "      <td>1</td>\n",
              "    </tr>\n",
              "    <tr>\n",
              "      <th>1</th>\n",
              "      <td>0.000896</td>\n",
              "      <td>0.100000</td>\n",
              "      <td>0.064103</td>\n",
              "      <td>0.000028</td>\n",
              "      <td>0.021739</td>\n",
              "      <td>0</td>\n",
              "    </tr>\n",
              "    <tr>\n",
              "      <th>2</th>\n",
              "      <td>0.000434</td>\n",
              "      <td>0.377778</td>\n",
              "      <td>0.038462</td>\n",
              "      <td>0.000027</td>\n",
              "      <td>0.014493</td>\n",
              "      <td>1</td>\n",
              "    </tr>\n",
              "    <tr>\n",
              "      <th>3</th>\n",
              "      <td>0.002764</td>\n",
              "      <td>0.044444</td>\n",
              "      <td>0.000000</td>\n",
              "      <td>0.000117</td>\n",
              "      <td>0.007246</td>\n",
              "      <td>0</td>\n",
              "    </tr>\n",
              "    <tr>\n",
              "      <th>4</th>\n",
              "      <td>0.006897</td>\n",
              "      <td>0.033333</td>\n",
              "      <td>0.384615</td>\n",
              "      <td>0.001286</td>\n",
              "      <td>0.202899</td>\n",
              "      <td>2</td>\n",
              "    </tr>\n",
              "  </tbody>\n",
              "</table>\n",
              "</div>"
            ],
            "text/plain": [
              "     Profit   Recency  Frequency  Monetary  Variance  SegmentId\n",
              "0  0.001755  0.688889   0.000000  0.000072  0.007246          1\n",
              "1  0.000896  0.100000   0.064103  0.000028  0.021739          0\n",
              "2  0.000434  0.377778   0.038462  0.000027  0.014493          1\n",
              "3  0.002764  0.044444   0.000000  0.000117  0.007246          0\n",
              "4  0.006897  0.033333   0.384615  0.001286  0.202899          2"
            ]
          },
          "metadata": {
            "tags": []
          },
          "execution_count": 11
        }
      ]
    },
    {
      "cell_type": "code",
      "metadata": {
        "colab": {
          "base_uri": "https://localhost:8080/",
          "height": 143
        },
        "id": "uMkJI2It58ek",
        "outputId": "8afe25ce-378d-4ffd-b46d-e0cc99d0b34d"
      },
      "source": [
        "#predykcja na podstawie modelu dla wszystkich zmiennych\n",
        "SegmentId_2=kmeans.predict(df.drop(columns=['CustomerId'], axis=1))\n",
        "df['SegmentId']=SegmentId_2\n",
        "df.head(3)"
      ],
      "execution_count": null,
      "outputs": [
        {
          "output_type": "execute_result",
          "data": {
            "text/html": [
              "<div>\n",
              "<style scoped>\n",
              "    .dataframe tbody tr th:only-of-type {\n",
              "        vertical-align: middle;\n",
              "    }\n",
              "\n",
              "    .dataframe tbody tr th {\n",
              "        vertical-align: top;\n",
              "    }\n",
              "\n",
              "    .dataframe thead th {\n",
              "        text-align: right;\n",
              "    }\n",
              "</style>\n",
              "<table border=\"1\" class=\"dataframe\">\n",
              "  <thead>\n",
              "    <tr style=\"text-align: right;\">\n",
              "      <th></th>\n",
              "      <th>CustomerId</th>\n",
              "      <th>Profit</th>\n",
              "      <th>Recency</th>\n",
              "      <th>Frequency</th>\n",
              "      <th>Monetary</th>\n",
              "      <th>Variance</th>\n",
              "      <th>SegmentId</th>\n",
              "    </tr>\n",
              "  </thead>\n",
              "  <tbody>\n",
              "    <tr>\n",
              "      <th>0</th>\n",
              "      <td>1</td>\n",
              "      <td>187</td>\n",
              "      <td>63</td>\n",
              "      <td>1</td>\n",
              "      <td>2349.06</td>\n",
              "      <td>2</td>\n",
              "      <td>1</td>\n",
              "    </tr>\n",
              "    <tr>\n",
              "      <th>1</th>\n",
              "      <td>2</td>\n",
              "      <td>96</td>\n",
              "      <td>10</td>\n",
              "      <td>6</td>\n",
              "      <td>922.62</td>\n",
              "      <td>4</td>\n",
              "      <td>1</td>\n",
              "    </tr>\n",
              "    <tr>\n",
              "      <th>2</th>\n",
              "      <td>3</td>\n",
              "      <td>47</td>\n",
              "      <td>35</td>\n",
              "      <td>4</td>\n",
              "      <td>881.22</td>\n",
              "      <td>3</td>\n",
              "      <td>1</td>\n",
              "    </tr>\n",
              "  </tbody>\n",
              "</table>\n",
              "</div>"
            ],
            "text/plain": [
              "   CustomerId  Profit  Recency  Frequency  Monetary  Variance  SegmentId\n",
              "0           1     187       63          1   2349.06         2          1\n",
              "1           2      96       10          6    922.62         4          1\n",
              "2           3      47       35          4    881.22         3          1"
            ]
          },
          "metadata": {
            "tags": []
          },
          "execution_count": 14
        }
      ]
    },
    {
      "cell_type": "markdown",
      "metadata": {
        "id": "jZhEfoYTEqud"
      },
      "source": [
        "#### Redukcja ilości zmiennych- PCA"
      ]
    },
    {
      "cell_type": "code",
      "metadata": {
        "id": "uDzI-sq3Kzmc",
        "colab": {
          "base_uri": "https://localhost:8080/"
        },
        "outputId": "5e8a9cda-d463-470b-e6a5-b6eb259f0ec6"
      },
      "source": [
        "!pip install factor_analyzer"
      ],
      "execution_count": null,
      "outputs": [
        {
          "output_type": "stream",
          "text": [
            "Collecting factor_analyzer\n",
            "\u001b[?25l  Downloading https://files.pythonhosted.org/packages/44/b5/cbd83484ca6dd4c6562c6d66a6a3a0ecf526e79b2b575b9fb4bf5ad172dd/factor_analyzer-0.3.2.tar.gz (40kB)\n",
            "\r\u001b[K     |████████▏                       | 10kB 15.2MB/s eta 0:00:01\r\u001b[K     |████████████████▍               | 20kB 20.7MB/s eta 0:00:01\r\u001b[K     |████████████████████████▌       | 30kB 24.9MB/s eta 0:00:01\r\u001b[K     |████████████████████████████████| 40kB 5.6MB/s \n",
            "\u001b[?25hRequirement already satisfied: pandas in /usr/local/lib/python3.7/dist-packages (from factor_analyzer) (1.1.5)\n",
            "Requirement already satisfied: scipy in /usr/local/lib/python3.7/dist-packages (from factor_analyzer) (1.4.1)\n",
            "Requirement already satisfied: numpy in /usr/local/lib/python3.7/dist-packages (from factor_analyzer) (1.19.5)\n",
            "Requirement already satisfied: scikit-learn in /usr/local/lib/python3.7/dist-packages (from factor_analyzer) (0.22.2.post1)\n",
            "Requirement already satisfied: python-dateutil>=2.7.3 in /usr/local/lib/python3.7/dist-packages (from pandas->factor_analyzer) (2.8.1)\n",
            "Requirement already satisfied: pytz>=2017.2 in /usr/local/lib/python3.7/dist-packages (from pandas->factor_analyzer) (2018.9)\n",
            "Requirement already satisfied: joblib>=0.11 in /usr/local/lib/python3.7/dist-packages (from scikit-learn->factor_analyzer) (1.0.1)\n",
            "Requirement already satisfied: six>=1.5 in /usr/local/lib/python3.7/dist-packages (from python-dateutil>=2.7.3->pandas->factor_analyzer) (1.15.0)\n",
            "Building wheels for collected packages: factor-analyzer\n",
            "  Building wheel for factor-analyzer (setup.py) ... \u001b[?25l\u001b[?25hdone\n",
            "  Created wheel for factor-analyzer: filename=factor_analyzer-0.3.2-cp37-none-any.whl size=40398 sha256=ea194e3177954b3c366bd9a4ccbb54931698b6abb201c69de0f59253aa43a2b4\n",
            "  Stored in directory: /root/.cache/pip/wheels/4a/d0/57/f1330cb9c80e82d8d05391c74c94ed61ce3f03bf6157f3d6db\n",
            "Successfully built factor-analyzer\n",
            "Installing collected packages: factor-analyzer\n",
            "Successfully installed factor-analyzer-0.3.2\n"
          ],
          "name": "stdout"
        }
      ]
    },
    {
      "cell_type": "code",
      "metadata": {
        "colab": {
          "base_uri": "https://localhost:8080/"
        },
        "id": "k9_SytM_IsGM",
        "outputId": "672d69bf-f7ac-4efc-c061-40ce7fb83762"
      },
      "source": [
        "# sprawdzenie czy redukcja wymiarów jest porządana dla danych, \n",
        "#wykorzystanie testu Kaisera-Meyera-Olkina(KMO).KMO szacuje proporcję wariancji wśród wszystkich zmiennych. Wartości KMO mieszczą się od 0 do 1. KMO<0,6 jest uważana za niewystarczającą. \n",
        "from factor_analyzer.factor_analyzer import calculate_kmo\n",
        "\n",
        "kmo_all,kmo_model=calculate_kmo(df_norm2)\n",
        "kmo_model\n",
        " \n",
        "#interpretacja otrzymanego wyniku\n",
        "if kmo_model >0.6:\n",
        "  print(f'Wartość testu KMO wynosi: {kmo_model.round(2)} czyli jest >0.6. Oznacza to że warto redukować wymiar zmiennych')\n",
        "else:\n",
        "  print(f'Wartość testu KMO wynosi: {kmo_model.round(2)} czyli jest <0.6. Oznacza to że nie warto redukować wymiaru zmiennych')\n",
        "print('') "
      ],
      "execution_count": null,
      "outputs": [
        {
          "output_type": "stream",
          "text": [
            "Wartość testu KMO wynosi: 0.63 czyli jest >0.6. Oznacza to że warto redukować wymiar zmiennych\n",
            "\n"
          ],
          "name": "stdout"
        },
        {
          "output_type": "stream",
          "text": [
            "/usr/local/lib/python3.7/dist-packages/factor_analyzer/utils.py:248: UserWarning:\n",
            "\n",
            "The inverse of the variance-covariance matrix was calculated using the Moore-Penrose generalized matrix inversion, due to its determinant being at or very close to zero.\n",
            "\n"
          ],
          "name": "stderr"
        }
      ]
    },
    {
      "cell_type": "code",
      "metadata": {
        "colab": {
          "base_uri": "https://localhost:8080/",
          "height": 295
        },
        "id": "vwp7XrZ2OUcd",
        "outputId": "563cca9d-e8a4-4a4b-fcf2-5a3eee15392b"
      },
      "source": [
        "#wybór ilości zmiennych\n",
        "from factor_analyzer import FactorAnalyzer\n",
        "fa = FactorAnalyzer(rotation=None)\n",
        "fa.fit(df_norm2)\n",
        "\n",
        "#sprawdzenie kryterium Keisera \n",
        "ev, v = fa.get_eigenvalues()\n",
        "\n",
        "#wykres osypiska. Ilość wartości większych  od 1 uważane za ilość zmiennych\n",
        "plt.scatter(range(1,df_norm2.shape[1]+1),ev)\n",
        "plt.plot(range(1,df_norm2.shape[1]+1),ev)\n",
        "plt.title('Wykres osypiska')\n",
        "plt.xlabel('Czynniki')\n",
        "plt.ylabel('Wartość')\n",
        "plt.grid()\n",
        "plt.show()"
      ],
      "execution_count": null,
      "outputs": [
        {
          "output_type": "display_data",
          "data": {
            "image/png": "[encoded data removed]",
            "text/plain": [
              "<Figure size 432x288 with 1 Axes>"
            ]
          },
          "metadata": {
            "tags": [],
            "needs_background": "light"
          }
        }
      ]
    },
    {
      "cell_type": "code",
      "metadata": {
        "colab": {
          "base_uri": "https://localhost:8080/",
          "height": 143
        },
        "id": "p3wXdSbChC1S",
        "outputId": "d0d31aea-b380-4f24-864d-89d66bc18c1e"
      },
      "source": [
        "#budowa modelu redukującego liczbę zmiennych- PCA\n",
        "from sklearn.decomposition import PCA\n",
        "\n",
        "pca=PCA(n_components=3)\n",
        "df_p=pca.fit_transform(df_norm2)\n",
        "\n",
        "df_pca=pd.DataFrame(df_p, columns=['Conponent_1', 'Conponent_2','Conponent_3'])\n",
        "df_pca['SegmentId']=df_norm2['SegmentId']\n",
        "df_pca.head(3)"
      ],
      "execution_count": null,
      "outputs": [
        {
          "output_type": "execute_result",
          "data": {
            "text/html": [
              "<div>\n",
              "<style scoped>\n",
              "    .dataframe tbody tr th:only-of-type {\n",
              "        vertical-align: middle;\n",
              "    }\n",
              "\n",
              "    .dataframe tbody tr th {\n",
              "        vertical-align: top;\n",
              "    }\n",
              "\n",
              "    .dataframe thead th {\n",
              "        text-align: right;\n",
              "    }\n",
              "</style>\n",
              "<table border=\"1\" class=\"dataframe\">\n",
              "  <thead>\n",
              "    <tr style=\"text-align: right;\">\n",
              "      <th></th>\n",
              "      <th>Conponent_1</th>\n",
              "      <th>Conponent_2</th>\n",
              "      <th>Conponent_3</th>\n",
              "      <th>SegmentId</th>\n",
              "    </tr>\n",
              "  </thead>\n",
              "  <tbody>\n",
              "    <tr>\n",
              "      <th>0</th>\n",
              "      <td>0.179865</td>\n",
              "      <td>0.547307</td>\n",
              "      <td>0.008764</td>\n",
              "      <td>1.0</td>\n",
              "    </tr>\n",
              "    <tr>\n",
              "      <th>1</th>\n",
              "      <td>-0.809482</td>\n",
              "      <td>-0.061252</td>\n",
              "      <td>-0.035494</td>\n",
              "      <td>0.0</td>\n",
              "    </tr>\n",
              "    <tr>\n",
              "      <th>2</th>\n",
              "      <td>0.183209</td>\n",
              "      <td>0.241609</td>\n",
              "      <td>-0.060333</td>\n",
              "      <td>1.0</td>\n",
              "    </tr>\n",
              "  </tbody>\n",
              "</table>\n",
              "</div>"
            ],
            "text/plain": [
              "   Conponent_1  Conponent_2  Conponent_3  SegmentId\n",
              "0     0.179865     0.547307     0.008764        1.0\n",
              "1    -0.809482    -0.061252    -0.035494        0.0\n",
              "2     0.183209     0.241609    -0.060333        1.0"
            ]
          },
          "metadata": {
            "tags": []
          },
          "execution_count": 19
        }
      ]
    },
    {
      "cell_type": "code",
      "metadata": {
        "colab": {
          "base_uri": "https://localhost:8080/"
        },
        "id": "Dm6f5VTDyJq6",
        "outputId": "75b7d440-7785-4b07-d306-2e1aa098c4fb"
      },
      "source": [
        "pca.explained_variance_ratio_"
      ],
      "execution_count": null,
      "outputs": [
        {
          "output_type": "execute_result",
          "data": {
            "text/plain": [
              "array([0.93117134, 0.05986564, 0.00487859])"
            ]
          },
          "metadata": {
            "tags": []
          },
          "execution_count": 20
        }
      ]
    },
    {
      "cell_type": "markdown",
      "metadata": {
        "id": "usU43x3mf6z4"
      },
      "source": [
        "####Wizualizacja grup klientów"
      ]
    },
    {
      "cell_type": "code",
      "metadata": {
        "colab": {
          "base_uri": "https://localhost:8080/",
          "height": 517
        },
        "id": "Wa_unA3KluT7",
        "outputId": "7624250a-189a-4eaa-f115-4405c7b68bd7"
      },
      "source": [
        "#wizualizacja skupień klientów na\n",
        "px.scatter_3d(df_pca,x='Conponent_1', y='Conponent_2',z=\"Conponent_3\", width=1200, height=500)\n",
        "                                                                   "
      ],
      "execution_count": null,
      "outputs": [
        {
          "output_type": "display_data",
          "data": {
            "text/html": [
              "<html>\n",
              "<head><meta charset=\"utf-8\" /></head>\n",
              "<body>\n",
              "    <div>\n",
              "            <script src=\"https://cdnjs.cloudflare.com/ajax/libs/mathjax/2.7.5/MathJax.js?config=TeX-AMS-MML_SVG\"></script><script type=\"text/javascript\">if (window.MathJax) {MathJax.Hub.Config({SVG: {font: \"STIX-Web\"}});}</script>\n",
              "                <script type=\"text/javascript\">window.PlotlyConfig = {MathJaxConfig: 'local'};</script>\n",
              "        <script src=\"https://cdn.plot.ly/plotly-latest.min.js\"></script>    \n",
              "            <div id=\"8e5f3c4e-0971-419d-8bcf-ebbb288ee3b6\" class=\"plotly-graph-div\" style=\"height:500px; width:1200px;\"></div>\n",
              "            <script type=\"text/javascript\">\n",
              "                \n",
              "                    window.PLOTLYENV=window.PLOTLYENV || {};\n",
              "                    \n",
              "                if (document.getElementById(\"8e5f3c4e-0971-419d-8bcf-ebbb288ee3b6\")) {\n",
              "                    Plotly.newPlot(\n",
              "                        '8e5f3c4e-0971-419d-8bcf-ebbb288ee3b6',\n",
              "                        [{\"hoverlabel\": {\"namelength\": 0}, \"hovertemplate\": \"Conponent_1=%{x}<br>Conponent_2=%{y}<br>Conponent_3=%{z}\", \"legendgroup\": \"\", \"marker\": {\"color\": \"#636efa\", \"symbol\": \"circle\"}, \"mode\": \"markers\", \"name\": \"\", \"scene\": \"scene\", \"showlegend\": false, \"type\": \"scatter3d\", \"x\": [0.1798653312501234, -0.8094815090957953, 0.18320852007933489, -0.8147974931848035, 1.215474073014749, -0.8100575872331007, -0.800147319353484, -0.8051075668922367, 1.2021435209199827, 1.2026533878326062, -0.8064400409224844, 1.1976348317824108, -0.7974371866180929, -0.8011359487429421, -0.8090836591965734, 1.1969421591865823, -0.8124029485444061, 0.18679920088994922, 0.18162470537258987, 0.18686319771354712, 0.17951716470172704, 1.1946909711007978, 0.18229294168821336, -0.8071972697052249, 1.2102896584315046, 0.18467069305208247, -0.804755133874064, -0.8131823881869176, -0.8139149120736957, -0.8052864722244502, 0.1878771745498297, 0.18461728372253527, 0.17934176681274655, -0.8066496015561373, 1.1961087951914438, -0.8039009375982284, 1.2104619379274144, -0.8009438773061452, 1.2076521577360135, 0.1795331312418714, 0.17934182792881292, 1.1966067226436612, 1.1971104607704717, -0.8111563544047, -0.7964465888031441, 1.1981646594638533, -0.8104877748097046, -0.8068045831160775, 1.196102025478933, 1.2081913120353212, 0.1804580845341912, 1.2182369081809987, -0.8127849820828053, 1.196799438962555, -0.7992262704859522, -0.8109589553633016, -0.8075570441207772, -0.7985460337912669, -0.7992135409377594, -0.813530509413738, 1.2011069370670644, -0.8027391077110575, 1.2147626527195232, -0.8026858318820492, 1.2142353177739056, -0.807848762962176, 0.18824673313096932, -0.8049176669949903, 1.2050768664751608, -0.7987197371399198, 1.1960708286613604, -0.812105280791598, -0.801286053226501, -0.8001245846855582, 1.2040551206639911, -0.8065416454978801, 1.2109560552705099, -0.8027079536659794, 1.1955712159854044, 0.18195307393867458, -0.8021837827890604, 0.17947557717283902, 0.18166568345034947, 1.1993063759897924, 1.209387966087796, 1.203874466207298, 0.182752759276665, -0.8124478672066157, 1.202771694177416, -0.8018438045791005, 1.2030434122752438, -0.8054711517330564, 1.205086878146358, 1.206608380818559, -0.800390731024461, -0.7969742785464565, -0.805298633169184, -0.7964634448594019, 0.17931754171561914, -0.801996010677013, -0.8114578678631316, -0.8058213027465683, 1.2176183204044002, 1.202507629189009, 1.194712166886328, -0.8053448233993623, 1.1988581578818087, -0.8092909030308851, 1.214062582863506, -0.7974893416351487, 0.18323642260329182, -0.804842863568706, 0.1832967214538144, -0.8048063327593252, -0.8052854670582622, 1.2090939843901105, 0.1797587994257874, -0.8030368390483247, 0.1794583349509604, 1.1994529533944522, -0.8024534031544408, 1.2007543960858564, -0.8029033685217669, 1.1973124061135394, 1.209230200478216, -0.8134888000595596, -0.807823690652982, 0.18369251310600662, -0.8029819071374307, -0.804208668851153, 1.1953928840028225, -0.8099999094685034, 1.2019811336806296, -0.8035629077662273, 1.2028541082453905, 1.1947131034534442, 0.1900650079357134, -0.8017108716633348, -0.8035503132973126, 1.2182225563895903, -0.7987304129419748, -0.8031491395721397, -0.8054592027470769, -0.8106370608918877, -0.8111489924271031, -0.8005853894495731, -0.806673437185088, -0.8023615098258431, 0.1791699684579112, -0.8009841563399449, -0.8026347603332592, -0.8117402870080153, -0.8030339239466022, 1.2108207761105831, 0.17930060446614898, -0.8117303307945962, -0.8054693018213345, -0.8058673388357308, 0.18200348518157208, -0.8077633518887974, -0.8071003760753948, 1.2099215741680176, -0.807422212271454, -0.7972196771003739, -0.8080623527483332, 0.19474824889171335, 0.18331287613500918, -0.8063107250346587, -0.8086980858408506, 1.2092593339762792, -0.8104374616502589, 1.2149528200489896, -0.8008401420516156, 0.17969393872843434, 0.17952530082462956, -0.7992443767935423, 1.2078683366024194, 0.18121023144270695, 1.1976663662786209, -0.8020727390360373, -0.8055998611761842, 0.18038410035858596, 1.2068032537980005, -0.8064872416262195, -0.8153077229261846, 0.17946725963748866, -0.8009676162047338, -0.8106703861200459, 1.2285532838010382, 0.18098352119889238, -0.8069004677010803, 0.1828161304481656, 1.2106276121857522, -0.8099285108496773, 1.2022796879894146, 1.204740126387151, -0.7964465838241402, -0.8078895787171536, -0.802523333902647, 1.1998484697032223, -0.8002598387217825, -0.80216543539896, -0.8032910754768823, -0.8111088416566469, -0.79958496497964, -0.804235299240416, 1.2137516366511776, -0.8109644988080922, 0.1795252994350906, 0.1813303666870662, 1.2052991544861689, -0.799424768634345, -0.8066818744700877, 1.2165273044748277, -0.8154442162325941, -0.8085615124542126, -0.8056968707692738, 1.2057754627384216, -0.8073284330304359, 1.1991963906784449, -0.8122751958476865, 1.2126906544024751, 1.1983307829605505, -0.8073288966612929, 1.1964482505530147, -0.811339279107598, 1.2043709701900034, 0.18415523355568783, -0.8104960752467568, -0.8115535175426002, 1.2000650624185525, 1.194038186066173, -0.8086329374539978, 1.2148167968974535, 1.1977561914242818, 0.183096063711559, 1.1998893216271205, 1.2074923624469256, 1.2064685372502333, -0.80096208288145, 0.18667628259506608, 1.1988368476312898, -0.8045788875586614, 1.2065271160159623, -0.8018331346809505, 1.2156276172504865, 1.199533417251828, -0.7980056328694513, -0.8071339792261847, -0.8112306358459573, 0.1875983530510084, -0.8084772858923979, 1.2063043681818824, 1.2073283548201807, 1.1979985313604902, -0.80014653016579, -0.8035453987782687, 1.208550216445452, 1.2114868433909298, -0.8153152795987721, 0.17978586182729708, -0.805266979313803, 0.1799524890192073, 0.18545624292196983, -0.8140147235570424, -0.8045758617837402, 0.17929387338162095, -0.8107542388336417, 1.1996961554751393, 1.20045769896374, 1.2117757783098195, 0.1792602336770305, 0.18277753277784597, -0.8071751511913396, 1.2107794562164307, -0.8096895268491165, -0.8105484611601144, 0.1831580943708434, 0.18138518176053917, 1.224838655697615, 0.17959123219904943, -0.8052738549370031, 1.2163335259902806, 1.2253711211721086, 0.17948457656330838, -0.8104287984992522, 1.215249524900114, 0.1875383088508709, -0.8140533939484359, 0.18098490942597975, -0.8016512706789541, -0.8104444972770971, -0.8093112425112792, -0.8044911321397709, 0.17970999412451089, -0.8097846862535316, -0.7974594681938078, 1.1990287106154975, -0.8038942674327471, 1.2074814136722938, 1.2059456408460099, 0.17940873528122728, 1.2192477360211733, 1.2019490058493503, 0.17951655650822154, 0.18114523530029064, -0.8002064822963442, 1.1947058664540697, -0.8044968069842346, 1.2235887687387055, -0.8104902682865862, -0.8058582216318834, -0.7956566397037471, 1.202989041023951, -0.8148972624366553, -0.7983903426403623, -0.7961418500887617, 1.2009245851470831, 0.18592809055475187, -0.7997555316874188, 1.1961022085381403, -0.8094323454663108, -0.797645321997833, -0.808099393056639, 1.1954021381536977, 1.22297715443688, 1.1952078734609206, 1.203526090148897, -0.8014931398672969, 0.17914287653783975, 0.17925045734160316, -0.8100401208428386, -0.8063582660283423, 1.2042200623111223, -0.7997365729163833, -0.8126111583236915, -0.7978610766754066, 0.17999306640049695, -0.814813270322201, 1.2163265920520885, 1.2073040447411567, 0.17990389478890045, 1.2037187068574682, 0.1859753310298843, 0.17995264500647426, 1.197482708824877, -0.8030298343123544, 1.2014606297090655, -0.8042507933687514, -0.8071358793149662, -0.8007246839415288, 1.2081901953186271, -0.8002586223553774, -0.8069577607166653, 1.2009139703547604, -0.8068075982732006, -0.8135765777491085, 1.2192713681865188, -0.8001515811126646, -0.8113324855615414, 0.1794238516054925, 1.2208295442357917, 1.2180469963811953, 0.18799176060444953, 1.2042278347888573, 1.203691399188786, 1.1985031945052307, 1.1978604955616337, -0.8129205538953216, 0.18000982316942574, 1.213359138004218, 0.1801182244225893, -0.8067185468747582, 1.214133420638489, 0.17923482527105786, 1.202772814605628, -0.7994115033458424, 1.202508100159644, -0.8049923767049582, -0.8052864460103002, 1.2054157324370414, 1.2085547731828234, 0.1950381698802507, -0.8148228032668928, -0.8047607869043331, -0.8031892050885601, 0.1835501031065645, 0.17999361261224775, -0.8047839441275707, 1.2011389800072476, -0.8007294950151126, 0.1795165565503445, -0.8073758478762638, 0.1815034860123251, -0.8011494170456801, -0.8006190269083181, -0.8061704932974886, -0.8051182274477462, -0.7974908895997377, -0.8087518396776118, 0.17941671580273028, -0.8030351791630724, 1.195066866814292, 1.2087078949619696, 1.1986586500185352, -0.8034241123268825, 0.18005128976540685, 0.1858578737908879, 1.2052474723966053, -0.801991072970066, 1.195400564686146, 0.18441960870212545, 1.2284453729855358, 1.2026514404263224, 1.1961115535552926, 0.1796607327742647, -0.8078848294217053, -0.7956019407083154, 0.18412896500570275, 0.18551403966175736, 1.2026564921126448, -0.8092752158807425, 0.18408262038353587, 0.1830993779051454, 1.219984112493596, -0.8064976752562348, 1.215091158869812, 0.17952481370652104, -0.8066018982549809, -0.8002641326235669, 1.197998600500756, -0.8138195441880144, 1.2004131021547753, -0.7960178364529443, -0.8028053416572956, -0.8047880480417609, 1.1971094365740989, 0.19003908004192258, 1.197288227977636, 0.18288504309534223, -0.8004295715294287, -0.8027126715010922, -0.8140143009029988, -0.8126231632769426, -0.807362271942867, -0.8082962092250937, -0.809941220173785, 0.18245436575827068, -0.8020065136017421, 1.1959105458653527, -0.8153991869246775, -0.8011209448484995, -0.799982088484254, 1.2017686510898353, 0.18887550146924215, 0.1884432649249664, -0.8034011632931728, -0.8011359454382267, -0.8120954570296093, -0.8153241460887218, 1.2021472221349658, 1.2028780230654765, 0.1792520766730515, 0.18407644732701994, 0.19473517867189116, 1.1957228300303, -0.8084484161213008, -0.8134617141173138, -0.8061046630621311, 1.2196343037409074, 1.2005471556024194, 1.1956076513549911, -0.7984076282518292, -0.8103235578403633, 1.1952271324836763, -0.8073813775678372, -0.8131492139179611, -0.8153651860386819, 0.18097496584500336, -0.7994450972032265, -0.8024061412543526, -0.8028510161141036, -0.8025249552709882, -0.8106164223540362, 1.2168503306055987, 1.2204764019821535, -0.8105913024659838, 1.2045639943753177, -0.8148476660733178, 1.2160025798630956, 0.18288226770501056, -0.8020113241982405, -0.805290899086651, -0.7989386975149402, 1.201422837082215, 0.18321376851178606, -0.8120307911850576, 1.2116420281664049, 0.18644505849808854, -0.806673437185088, 1.2175453720528588, 0.18855611493483324, 1.2036754264365739, -0.8032502106889815, -0.8089857585285705, 1.2184014954620341, -0.7990511745540567, -0.8090372721126662, 1.199879453039599, -0.8050010845284102, 0.1830000244671607, -0.7962840166106704, -0.8053534267470991, 1.201449133400623, -0.8047882107222514, 1.195561601859662, 1.1997099580242732, -0.807756195725146, 1.2114601415128041, 0.18415067204582355, 0.18225766082279263, -0.7981870277532642, -0.80670713709192, 1.2021183937470754, -0.8147916760943609, -0.808965049415627, 1.1959215267636047, -0.7966061271152048, -0.8094344927856382, -0.8047199109671123, -0.8148061098025196, 0.1799938009054791, -0.8040597749696577, -0.7977942715014074, -0.7983464345186349, -0.8004331639129683, -0.8063488070687641, -0.8024842052537814, -0.8070213969736131, 0.17943332052471272, -0.8046130319475905, -0.8153158286819941, 1.1955672666733252, -0.8070918119493474, 0.17940903638629357, 0.18132786868865633, -0.804594430129487, -0.8037513639803758, 0.17951990018911648, 1.2030060861399239, 1.2000507565379896, 0.18058443197614468, 0.18311626175243215, -0.802288995703307, -0.8140567724600752, -0.814106461221317, 1.2062834576977521, 1.211992952480481, -0.800449263048516, -0.8113818229845154, 1.205260047907915, -0.7994237584868427, 1.208883337820975, -0.814592019310158, 0.19050288445756353, -0.8027158807974072, -0.8149975327645134, -0.8110863349894406, -0.8067042878157754, -0.8139235386113949, 0.18265772807322087, -0.8053944033530819, -0.8056150054531107, -0.7994642509554685, -0.806162726570026, 1.2017615104290784, -0.8052283772323972, 1.2033582115814399, -0.8004016073550303, 1.2029996294084206, 1.1975043769891573, 1.2007441758148836, -0.813948888331554, 1.1969406471907522, 0.179283816375166, 0.17940017267888853, 0.19178587572411693, 1.2021016800484101, -0.8134053925623635, 1.1962887694636208, -0.8127480221023312, -0.808123333862428, -0.8040814585107996, -0.7992187786093601, 1.198690367352434, -0.8153076938789455, 0.18287804691212256, -0.8052500578368351, -0.8106594548603655, -0.8122177654048328, 0.17942779974362896, -0.803916257266666, 1.1981566960958705, -0.8026858318820492, -0.804629846659896, -0.8049640167278361, 1.1988759253016574, 1.197987996461947, -0.8154906798135314, 1.1961055143175043, 1.1957886790338257, -0.8139239658062287, -0.7980361151886669, 0.180419729975485, 1.203861057168324, -0.8051750894545459, -0.796642248617637, 0.18139645179664599, 0.18113805643088607, -0.7996512728300539, -0.7983506637631889, -0.8048437465606822, -0.8130462372909942, -0.7970054458246952, 0.18085045373978018, -0.8086476249211213, 0.18317496779884115, 0.17964415483666657, -0.8013039847729079, 0.19456508142889584, -0.81012953249734, -0.8097899004843595, 1.2219612514746017, -0.8049919400852958, 0.18085765191764314, 1.2062702465742599, -0.8096566833086916, -0.7970016508526042, 1.2067928657775344, -0.8038949801445351, -0.7978825057199178, 1.2059422640283808, 1.20142738070796, -0.8071663302782979, 0.17935834099689063, -0.7987218963511287, 1.1987372061315387, -0.7969662102223976, 0.18868494232586164, -0.815490618324772, 1.1947089552666852, -0.7973076925038924, 1.2118375395097876, -0.8021718053989572, -0.8099239727800566, -0.7964844302799731, 0.18320842048255764, 1.213334763124507, -0.8004368963201779, 0.17925846988877067, 0.17977717767563425, 0.17981553818085969, 1.19642103988897, -0.8061392011590479, -0.809254585220357, 0.1833302588707331, 1.2033397831006742, 0.1804531255642349, 1.2101285877302201, -0.7929626351928251, 1.1952248200092015, -0.8139903219328685, -0.8097183247686035, -0.8091687358628524, -0.7970072365218291, -0.7988871069728125, 0.18183063140409392, 1.1978081499148316, -0.7997637650738673, -0.8091386052241151, 0.18545469536070508, 1.2314581850277908, -0.8134053925623635, -0.8084634082474951, -0.7946395429520416, -0.8025228894129411, 0.1855868735543355, -0.8070217401067363, 1.2057432346440908, -0.7974131358851315, -0.799393755539117, 1.204554700020595, -0.8030435235425106, -0.802904395440131, -0.8139489164552072, -0.7975210641086493, -0.8068422140710543, -0.8077255730095241, 0.18441526470527925, 0.17965259663437427, -0.8125308114792991, 1.196926867802144, -0.8097766117407305, -0.7968101240997164, -0.801873495438901, -0.8104518910572889, 0.1852698274414537, -0.8139212875370546, 1.2002050521742298, -0.8032492814245452, -0.8050010845284102, -0.8129024190854444, -0.797387461595039, 1.2127152727083257, -0.8004589774075624, -0.8110155518439857, -0.8091319121286897, -0.8018170995393757, -0.7994247211534026, -0.8153077549223803, 1.205413648461046, 1.2056059368842729, -0.8088845681262328, 1.2090564783926114, -0.8061470185243503, 1.2068180586674468, 1.194861348006073, 1.1977959000882654, -0.8032261722082773, -0.8024544753652153, -0.8025010460891352, -0.8134053925623635, -0.8035758350388676, -0.8134053925623635, -0.8154905583604144, 1.1957459055573436, 1.218943372638249, -0.8088578480330731, -0.8085930855550475, 1.1974936264404346, -0.799207599182968, -0.8113477237779133, 1.2044880164859642, 0.1794620825102008, -0.8014605569566372, 1.2040029718311633, 0.18903522478718177, -0.8024094156815657, 1.1972969516898753, 1.2162220065677798, 1.2047356462692556, -0.804905628353464, 0.19152503026604986, 1.2045483137057507, 1.2045722293956562, 1.210791981914259, -0.8075392199659764, 0.1809750220874559, 1.210961329924598, -0.8023535661312824, 1.2019775761826712, 1.2059692753330504, -0.813932250057945, 0.17950866610235364, -0.8101364525609996, 1.1985085979572916, -0.8003150168328446, 0.18009281517247683, -0.8068557428262744, 0.18367603411659505, -0.8116770874272166, -0.8096258413753867, 1.2127365823817886, 1.2258644822667848, -0.8084044251517696, 0.1822536265447798, 1.2022840403613335, 1.2023174486609804, 1.2029266052461978, -0.8143454043586297, 0.17937607184775878, 0.18173454651262097, -0.811072988410226, 0.17990136017701805, -0.7985955211229683, 1.2154674937130137, 0.17945821230765174, 0.18138283259158153, -0.8130540886063842, -0.8028709404539314, 1.2133484509056531, 1.1948863272420576, -0.8111720666040353, -0.8089229257017896, 1.2296663046387122, 1.2194231901315196, -0.8021659134762522, -0.8016797150557595, 1.2042128584520908, 1.2002688924666318, 1.2012965367899804, 0.1829725903448116, 1.199021662335857, 1.2114937892501307, 0.18410444412556823, 0.18254117789109675, 1.1959289146660734, -0.8085262224563842, -0.8044234542966278, -0.8013039802196137, 1.2031945503743957, -0.8072784942763775, -0.7977579751686611, -0.8066800065895035, -0.804090601586062, 1.2237934503072887, -0.802760041447968, -0.8153656397821499, -0.7967078326662171, -0.8042576240403257, 1.1967823462139615, 0.18034072565304973, 1.2234258647094478, 0.18862710738870755, 1.1967664001136242, -0.8047708341204014, -0.8052909561129724, -0.8121595069489178, -0.8073509528524044, 1.2237675446749225, -0.7973345514919358, 0.17923391224075386, 1.2050729629200505, -0.8060244315406154, 1.1990170358062986, -0.8135815153184496, 1.218060038445072, 1.1974561128965027, 1.2021655892873118, 1.2017891442057116, 0.18457306465390308, 1.1979344854431904, 1.2010836353638856, 0.17959945799330215, 1.2052533974115744, -0.8004650682262892, -0.7985393709503171, -0.80276025557441, 1.2106005831377555, 1.2011232956346325, -0.8094382347115666, -0.8140404697471567, -0.7976664249659807, -0.8134053925623635, 0.18569154859301704, -0.8134053925623635, -0.8099746443715198, 1.2004079612690475, -0.8154242004172854, 1.2191219288810877, 0.18600013572467045, -0.8099263323313268, -0.8092567529218154, -0.8061553609743785, -0.809884382556273, -0.8129525985833863, -0.8129702351692437, 1.207333713232181, -0.8096074810167251, 1.2062868905126283, -0.7954563748416096, -0.7983446347855603, -0.8042199377426018, -0.7999120154022992, 0.18841389633203792, 0.17917179578613007, 0.17954144848426756, -0.8033927247653342, 0.18337229440462208, 1.2007502942643138, -0.808564977950022, 1.2194093066920508, -0.7961346497810693, 1.2128860897251703, 0.1833302588707331, 0.17986513358039524, -0.7971602633181402, 0.18363844232808005, 1.2229115826945423, 1.2061334034608426, -0.8044291740966311, -0.8019908762299678, -0.8004632795290471, -0.808942821205984, 1.1954189189392286, 0.1799931266534752, -0.8028604658197352, 1.194192684674559, -0.8042470656779638, 1.2010738137708754, -0.8099419530898749, -0.8071585864595856, 1.2173632459611035, -0.812557572761751, -0.8088685113872461, -0.8046587593008141, 1.2217967414685176, -0.8011696604851904, -0.8098476890268789, -0.8035989544954547, 1.2056176590997925, 1.1966154458642175, -0.8153034963213127, 0.18017842976556397, -0.81092589993705, 1.2116773856629512, -0.803619631945158, 1.1976248763112827, 1.2040148720489356, 1.1967083748300622, -0.8054500015723522, -0.8140737413658101, 1.2150506886299117, 1.1974772977122063, -0.8114822300650782, -0.8153226865696072, 1.2004098076027405, 1.1977924128070143, 1.1988543264785212, -0.7964508663413397, -0.8063203794798927, 0.1803337442417053, 1.205592843198809, 1.2052014933634092, 1.213560277038544, -0.8056794362715468, 0.17935882767886144, -0.8023151041381005, 0.17926225847921065, -0.8020998842734522, -0.793729471105746, 0.17959945798290142, -0.7951332450875911, -0.797306399371473, 1.2019253117073994, 1.2086880986932558, 1.202849545030023, -0.8153074206482613, -0.8073832061285425, 1.2122017449881808, 0.17924186578424547, -0.8019953916955608, 1.2036806003024036, -0.796457888842095, 1.208711469558159, -0.8098525773350913, -0.7962988642324411, -0.8129484888329194, 0.1839289559077141, -0.8099285283403064, -0.7985378520079723, -0.8070846262178256, 1.2172120365185277, 1.1945531414766133, 0.19497156491081255, -0.7980219865922903, 1.2014409363443317, -0.8020650983636275, -0.8071899359818803, -0.8080625850183475, -0.811343575203558, -0.8054650993074022, -0.802164647533743, 1.2029823426410153, -0.8063092800665765, 0.17959961056548585, -0.8049479634254524, 1.201993484901528, 1.1964366294158981, -0.813414061788761, 1.2115000581703086, 1.2147346497018727, -0.7946158454402557, -0.8026990623046621, -0.7954863819017418, 0.17940836821161588, 1.2104518679875356, 0.17940041668413456, -0.80440932972853, 1.235723711697443, -0.8070958606032137, -0.8011479296534721, -0.8071450303891771, -0.8000199446774876, 1.1963713132466423, 1.215997728838233, -0.7987019046321585, 0.17946659095906842, -0.808797239903711, -0.811508339629622, 1.2055011884391789, -0.8153656397821499, -0.7980054079150989, 1.1963799473290677, -0.8041158057234894, -0.8004339052891488, -0.7966173491216791, -0.7975007331055252, 0.18014630018598302, 1.2075139294232136, -0.7956093365683135, -0.8123127011479292, -0.8111631650853803, -0.8061505826213163, 1.2154486324378757, -0.8044165661550973, 0.1800361245776393, 1.197472432900756, 1.2269497739632855, 1.1998852980891626, 1.1995466913828938, 0.18494286861271428, -0.7969849117403158, 0.18242295701744501, 0.1827783270438513, 1.1947060944666381, -0.8006019141051329, -0.8047756138352891, 0.18756005244385363, 1.2255718158691045, -0.8071824268128213, 0.1823799625686884, 1.195232937567849, 1.1976737649730849, -0.8021318166210665, 1.2090925477184995, 0.18382234659341318, -0.8025308274570531, 0.18911035518406089, 1.2062764058095548, 1.2016113967055813, 0.18186180382049696, -0.8026937139636331, 0.17954421444922145, 0.1947921989661061, -0.7982234554244101, -0.8044638329605972, -0.8092520814811138, -0.8043088399616031, -0.8039106285573643, 0.18357458653340789, -0.8126485159278573, -0.8125564973479638, 0.18036543374092492, 1.2021421432283752, 1.2005919895822879, 1.2007446393358903, -0.7972650639970057, 0.17949403722032453, -0.8061595238736249, 1.213193826814281, -0.8104422755546135, -0.8087191845978723, 0.18269031267146954, 1.1965443867811736, 0.18120976996688376, -0.811222678347064, 1.195552943243651, 0.18562915062986374, 1.2118329842276359, 1.2109641242125537, -0.814090437689347, -0.7990618788838859, -0.803619631945158, 0.18928016048278362, -0.8050982374956422, 0.19322468668609283, 0.1795246919162465, -0.8011332447124885, 0.18173350755086629, 1.1947368002586882, 1.2029914478780117, 0.20227693669657043, -0.8014841259003622, 0.17996090203402826, -0.807067739630289, -0.8121632941426664, -0.8154483619832944, 0.17959141472281642, 1.195001040330056, 0.18923666735485895, -0.8118291576615851, 1.2057755327167594, -0.8072764907213318, -0.797317921524931, 1.2026511886444127, -0.8073606839658312, 0.18036261639343337, -0.7983659946546878, 0.1809106820575803, -0.8120717388154651, 1.1990175362805704, -0.8102951806262463, -0.8033835466881308, 1.2194411493791002, -0.814795501665337, -0.8036200729804832, 0.1837419311821457, -0.8073354060521636, -0.8140483600370563, -0.8076565369694186, -0.8153234156351752, 0.17993502768578554, 1.2371995055971305, -0.8042368549501396, 1.2206523263008924, -0.8074400754602398, 1.2215458359960696, 0.17938972989410978, -0.8154322745072962, 1.201763970195975, -0.7979615190941366, -0.8030005342187002, -0.8054592886341175, 1.1947177614634945, -0.8154904966948422, -0.8140563136963427, 1.2210777633634589, -0.8103167359321737, 0.18172070833947482, 1.2041755700452943, 1.202313535263104, 0.17940892619422774, 1.2220446009351869, 0.18241623888183944, -0.8061313869042108, -0.803030893764072, -0.8085403916191486, 1.1967958506205472, -0.8077634510904208, 1.208007557020461, -0.8068112063559861, 1.2068497767378408, 0.18845407791107105, -0.8078909246524274, 0.1793167232955769, 1.211875040731674, -0.8095921055353387, -0.8125459106493044, 1.2003526820371302, 0.18761975449755436, 0.17959988740973423, 1.1957196990093666, 1.2102676443825129, -0.8120854753871958, -0.8048388426629752, -0.7981895672406936, -0.8018318267323041, -0.8082689905342881, 1.2035716783221566, -0.8052593615269047, 1.1967956934347173, -0.798026194428799, -0.8088841587446487, 1.2068364315407958, -0.8037385822621668, -0.8017226590736029, 0.18084231035092, 1.200031922278515, 1.2004185991646883, -0.8001395705421148, 0.18321814312839435, 0.18367578372598745, 1.203338756621509, -0.8005583121835456, 0.17948334866943763, -0.8068343780956065, 0.18689062816773086, -0.8030293939020419, -0.80829826403546, -0.7986424944814168, -0.8104453375418156, 1.2133829882889775, 1.2102854266467291, 1.213564798048559, 1.2205332489064271, -0.806903493377738, 1.2076697308294608, 0.19018799772318254, -0.801147251767199, -0.8063072971124944, 1.2008550522192352, -0.8047238226056768, -0.8149057086980145, 0.17947552295107722, 0.18005223379314234, -0.8009492178098419, -0.8004652171495716, -0.8103242927312129, 0.18103798422448908, -0.8125484305939421, -0.8019944076605084, -0.8103497892647189, 1.19506143593771, -0.8065664213632238, 1.1964020097740016, 0.1794750324014175, -0.8096050643464441, 0.1792088686984491, -0.805355897433035, -0.8064557442835179, -0.8040831178434495, -0.8018411876313316, 0.17920091911243946, 1.200781874599454, -0.8097842507892419, -0.7969736392344788, 1.2025892342985116, 1.195403497974281, -0.7973131294615847, -0.7992568802098076, -0.8021659134762522, -0.8139906869589075, -0.7992170301837612, -0.8144494621307193, 0.18333864406097183, -0.797004433789781, -0.8064388307776514, -0.8069008249796075, 1.207883246841555, 0.18390764374918087, -0.800292039503054, -0.8075551515884809, 1.1979911773821745, 1.2194579557106717, 0.1830911518418602, -0.8154241998587656, -0.8041935340762495, 1.196432574349623, 0.17941650306042764, 1.2281369812518954, -0.8032212885879058, 0.18073182418139014, 0.17936665863191473, -0.8013055518237484, 0.1803030384055863, 0.18500845279055975, -0.8056383969068527, -0.8082188578910405, -0.813786426557259, -0.8048806425458729, 0.17920853399824666, -0.8046423287925303, -0.8069945149489881, 1.2032907531207833, -0.7959461786000055, -0.8013315037058004, -0.8021890536848377, 1.1968850243297857, 0.17935118052678603, 1.1986703755958326, 1.2026613273143962, 0.19187324531850755, -0.8021132743375796, -0.8088259125294583, 1.2081753525104486, -0.798363227567818, 1.1979059582927756, -0.8010233832673129, 1.19760293425457, 0.18245723335953692, -0.8075953912464177, 1.1948685996726682, -0.8049566687377201, 0.18561443557339105, 1.2291120897963128, -0.8083950313921213, 1.1981776198487133, -0.8079271358049408, -0.7957814999188221, 1.2106477704542105, -0.8045153844201524, 1.1966001432704774, 1.2123385657472285, 1.2246404954876027, 1.2099393821444435, -0.8051108034088511, -0.815332677161685, 0.18090016414501364, -0.8019845882690348, 1.2005977105279313, -0.7987218289384027, 0.18187874272593843, -0.8062017285221569, 1.2054279554681797, -0.8056577409140612, 1.20768644036787, 0.1841862434480668, 0.19424773877697848, -0.8070086626683859, 1.2098018648444662, 1.2186356583612965, 1.2033382211473134, -0.8126649975832206, 0.17976063207589613, -0.8088681107556075, 1.2170034948553683, 1.2014465893821087, -0.8147895366659035, -0.8080005153326187, -0.8134638480978345, 1.214090064386272, 1.2267024633247914, 0.179325156147079, 0.18370042344778642, 0.18477573273859296, 0.18090963658398915, 1.1945500362155863, -0.8130109438408447, 0.1837283478291783, -0.8002768303656433, -0.79752005133895, 1.2087408664466206, 1.2171788655809097, 0.17941674648045866, 1.1972460850206879, -0.8074684656295706, -0.8028727148638474, -0.7997747531774122, -0.813497302201252, -0.806132377227357, -0.8153159504551076, 1.2075132824116679, -0.799952169058912, 1.201047607841011, 0.18006630739547685, 1.195736961111224, 0.18536457147240243, -0.8134053925623635, 1.2111412036840754, -0.8026493984260842, -0.8140958973607783, -0.7967949307647438, 1.206442486425065, -0.8154739836267645, -0.8020086271363911, 0.1866753019920354, -0.7988785600706766, -0.8125258781269964, -0.8072361595705035, 0.18178704327750222, -0.8140645115593563, -0.801146501433453, -0.8042369086591971, 1.1978075523957263, 1.1979861706532804, -0.8137682039114157, 1.1990109028117015, 1.20770382333266, -0.813919190461757, 1.200164368279011, -0.8078351645520402, 1.1977990186141416, 1.2237739665021081, -0.8053036736987269, 0.1792085646766684, -0.7990662146669971, -0.8083991611453716, -0.8038978484442123, 0.18442377350037514, 0.18040708308324893, 0.17943429683865117, 1.2117788941202725, 1.2004505155174852, -0.8022346318318057, -0.799001820497519, 0.18181464969476735, 0.17923354794207327, 0.18294493677640228, -0.8072353954006272, -0.8036749094883724, -0.7992488821825191, -0.7976671528229852, -0.802514103203983, 1.196448690027927, 1.200209076646779, 1.2024489767285331, 1.2156210882598946, 0.18170935518363726, 1.2097804026754273, -0.795655492356309, 1.1957323115745806, 1.2047632777583523, -0.8009726105111046, 1.218589238648106, 0.1814849516933961, -0.8144665854136862, 1.2200047635138265, 1.2121734374313728, -0.8081197107484164, 1.2016209433603524, -0.8099548644963087, 0.19756759660577555, 1.1959130065141286, -0.8042946022740027, 0.1852073227570264, 1.1966047800850885, -0.8013079049053614, -0.8040724062527367, -0.809710049574525, -0.7971282590266326, 0.18225639564204402, -0.8073290588287554, 0.17926745766213234, 1.2066424655404895, -0.8096567464769974, -0.8125986415227993, -0.8135876386417975, -0.8116901928434481, -0.7980928818831518, 1.2075452732478267, 1.1984617739563037, 1.2012468809349524, 0.1795336192523635, -0.811019335773635, -0.8078456171924996, 1.2029912076550466, -0.8058051140730692, 1.1988809904640938, 0.1804033443901807, 0.18563895202453914, -0.8039149060666855, -0.8054522543928039, 0.1808583630166286, -0.80182914350475, 0.18744027884952472, 0.18138492831662062, -0.8154570443810454, 1.2179385468816177, -0.8021536926418453, -0.8002051295826601, -0.7995817119840903, 1.2019560974168964, 0.17915109539041094, 1.1991937945138378, 0.18754778320798385, -0.804784093113107, 0.19239725369592608, -0.807934140456167, 0.17966018052141686, -0.8031320570905337, 0.17940903653537085, 1.20112960383721, -0.8025205025492247, -0.80045277991948, -0.8104205822912386, 1.1992322032992246, -0.8115671032454418, -0.8054075257346054, -0.8028831703588232, 1.216333515689044, -0.8052505551346225, 0.18476368546618357], \"y\": [0.5473070885671841, -0.06125172398117043, 0.24160917443827218, -0.09532171793984108, -0.17574375187410748, 0.005446069211650717, -0.08127520854882683, -0.1380491313368237, -0.13118058272408492, -0.12009041092534907, 0.014171233544419987, -0.10315303322248284, -0.02322062376096671, 0.07132178183482955, -0.12609467152097012, -0.10186584924480921, -0.08178402979245676, 0.28192882793986196, 0.4989350960022173, 0.19972282892091536, 0.3276533257549746, -0.09413010032234029, 0.3079212810611353, -0.11959047775380564, -0.1654598476878296, 0.36354544493199836, -0.15023328306666103, 0.035325090648474985, -0.1300266313022241, -0.13619286749875048, 0.43917109546341726, 0.2054175688733357, 0.5487883535671875, -0.15469060676364133, -0.1303406009419302, -0.132314771713766, -0.16933248896569078, 0.05689525872492221, -0.12241375131538572, 0.30659437629691566, 0.548788226787208, -0.11074285055635052, -0.09115710866658049, -0.1286971277992979, -0.1778517401952641, -0.11719026287795942, -0.09839548842219169, -0.16136706626846076, -0.11778360242913383, -0.14053085317973818, 0.22974991352873014, -0.17884596615988108, -0.02951693012694665, -0.12720083277527822, -0.14759873397699275, 0.05918566624818062, -0.09890829124490207, -0.14885995660843596, -0.16865092237362872, 0.036987397309025914, -0.1302700015259537, -0.08240570241955544, -0.09713207943757059, -0.13711091144617127, -0.13123975157420642, 0.05036278383131781, 0.37181144432647634, -0.16095402240048243, -0.13409130599486452, -0.14701448657300878, -0.09024020702936433, -0.02026419534144799, -0.1587108324282992, -0.11931390328890361, -0.14778461616165717, -0.07026628528541859, -0.1226108673925266, -0.13097473271332388, -0.10135168052454525, 0.30956645375989805, -0.12803459730319322, 0.38030416245445475, 0.44628552289844287, -0.04418352525573241, -0.11817227711828611, -0.13744195356346212, 0.3801626445629006, -0.018613371633176702, -0.05671335567125096, -0.11916709517703984, -0.10929801321711535, -0.11532893563931276, -0.10460406795617239, -0.06486404756352145, 0.0048181570061857125, -0.1743318092353519, -0.11717193886837243, -0.16527377056001097, 0.5803773489149178, -0.1553576766083929, 0.03110717097086711, -0.10517961056407188, -0.196708206912368, -0.1518717573632373, -0.11316990806881186, -0.05399862400215667, -0.1269618572304023, 0.12867528514564103, -0.13990903343332917, -0.17083808531439915, 0.2100125583198643, -0.034409249701001766, 0.34710032666167767, -0.08704960279789681, -0.13619498665368554, -0.18136743386165682, 0.6841958923567977, -0.14392539226198403, 0.40136575521936485, -0.012403863081933439, 0.00016478856502569154, -0.12453832575798701, -0.049041251184841976, -0.1286601170675324, -0.11636002794149847, -0.015663691949906577, 0.01877202249445787, 0.28226165295516836, -0.1650652322864826, -0.16872815767613103, -0.09543663342165273, -0.05978117129198312, -0.12529853853788417, -0.13192602172377352, -0.14707796611655727, -0.11723196946289131, 0.29435392906970903, -0.06633332381753888, -0.14449516918732638, -0.16424300014028667, -0.1364794486186239, 0.0034883690924015264, -0.12789673089773654, -0.1301695359071915, -0.1287123986181704, -0.16407460450862582, -0.1231024163378192, 0.09513536133970561, 0.7699159168874348, -0.12025558880070171, 0.010508920614314913, -0.04298732678636015, -0.14393143228089494, -0.17949980288913822, 0.6014383092749358, -0.053520889086512806, -0.11736287606583808, -0.05251953892235347, 0.23587149355056194, -0.05494356529444096, -0.024630285112869976, -0.15324314436984696, -0.05456126353936601, -0.07329880106830858, -0.10797780064798343, 0.2764772552770592, 0.34706681922384824, -0.1458208186648899, 0.03243413387721227, -0.1605021029308101, 0.05770869400731318, -0.1702071784326931, -0.025393167461957886, 0.7579208955265625, 0.31712353392189196, -0.12450519007082599, -0.16197632124877095, 0.5848383512175938, -0.08219294335014364, -0.06058227536021431, 0.04263177550288976, 0.5458357584245918, -0.15085607228106226, -0.14396951206844485, -0.11489394138273991, 0.39083432986707617, -0.1392856993623905, -0.08804875430400495, -0.23784177291205977, 0.2177518504109172, -0.05806884348679519, 0.5277569444797183, -0.15861838079275148, -0.15251540321022108, -0.09531908876327123, -0.14905576776413995, -0.16733881772876405, -0.11627404424523498, -0.13690298512819185, -0.06230644472817072, -0.15720729238773554, -0.155551214304328, -0.03881385490339165, 0.02944299153409095, -0.13743162055645963, -0.15170683376571176, -0.17356016006184638, -0.14957597916285312, 0.31712353733904647, 0.4374083563664171, -0.16315369546899822, -0.12467595515025118, -0.11257200147016258, -0.15602675192826196, 0.06410872409314577, -0.13605581733776922, -0.05232817899450073, -0.14793376064104716, -0.1598850286734509, -0.10757790412244099, -0.020456703582541036, -0.16244839604848887, -0.10444731570716408, 0.048889178772856416, -0.1319848770794473, 0.10296642859985097, -0.10326813902412806, 0.21876773142387473, -0.08786536305770666, -0.06385561045978115, -0.1232582475907932, -0.12649463452618098, -0.043321520543473324, -0.1955559505056032, -0.03978227552898662, 0.5998264947108733, -0.11734843218757045, -0.1311102803027383, -0.13631619139816567, -0.13929717865410313, 0.22059145902604216, -0.08892624211792739, -0.15005392244343413, -0.14934523646725575, -0.1381849331836069, -0.1443411813614908, -0.10718706318526715, -0.17343208958188386, 0.017491074132724105, -0.03392681510358388, 0.5758723840740995, -0.030556407079037732, -0.11585770738865085, -0.12486215241441526, -0.12587340525691817, -0.08772960858397606, -0.14653548202196237, -0.1486680452121399, -0.1681886751758099, -0.10436535112568811, 0.6420881606318297, -0.14877634574531556, 0.4314842382726578, 0.4467139731491574, -0.003664619746124833, -0.1605730987907833, 0.6119651867206185, 0.01725432690298803, -0.08595398759501136, 0.04576892120420184, -0.09410777879499678, 0.6540866241009934, 0.34857251222977975, 0.0786238563071661, -0.13127226919845864, -0.01728345130108094, -0.024679222224140363, 0.3047912590271886, 0.36370424769746595, -0.20025365308514584, 0.23288345688190715, -0.14876207107764014, -0.15819860871859837, -0.21023618865567364, 0.36977257690688387, 0.04717781775657726, -0.1341336078602221, 0.21746793791007749, 0.04898017192807447, 0.21774896560750812, -0.14004733242484016, -0.1510498697459055, -0.06105995087720797, -0.046591958282400946, 0.736861762828972, 0.09855603120875274, 0.012787071761468151, -0.12677070551621433, -0.14284149934732343, -0.11006174216825515, -0.13722897634368977, 0.46454612588855376, -0.15222416856199517, -0.09978333823709933, 0.3276545862579339, 0.4582732466264236, -0.016044880094428882, -0.11518682705903308, -0.03403718193607559, -0.19335465223875845, -0.09839033240486077, -0.06305136716328111, -0.10114506707069901, -0.11766660155191118, 0.020527290324680883, -0.12761212593095664, -0.13331220762191198, -0.12028627458741055, 0.28710130478268364, -0.1440754676118136, -0.11778394678339767, 0.09688497045417756, -0.16902970905049985, -0.04279342194049672, -0.11445143663886424, -0.223411941001073, -0.08305465502285266, -0.13171895631638703, -0.1293174836475863, 0.8015108570435561, 0.6646198145951415, -0.015615992519870503, -0.05958887442244402, -0.13706887096776801, -0.1631106559666535, -0.018819606150137513, -0.13758822778338486, 0.37883549770341146, -0.08477607490527524, -0.17072717494338774, -0.12075147665720891, 0.5051754355841597, -0.14817677588189782, 0.2324086450248629, 0.4314839134603977, -0.11795553337077133, -0.1459700340336275, -0.13194386939548458, -0.13913164898397323, 0.017495017814878083, -0.004061951955090651, -0.13443793466378662, -0.15517970496150707, 0.01564039475470845, -0.10329860992860196, -0.1613607214016569, -0.12115572148273619, -0.18178224409841942, -0.07923625405641331, -0.12684662796401208, 0.454001825725825, -0.1987427091099372, -0.16442382512153342, 0.3002354217354794, -0.14759790962456062, -0.1250641314861659, -0.10628978531306214, -0.14106842615258347, -0.08031512650440098, 0.3577749106311881, -0.10909107192633857, 0.22088216800839636, -0.06841416176649645, -0.1902276839273935, 0.6961909938196811, -0.05468557934712307, -0.1457292846645823, -0.14338997166159007, -0.0661828211229122, -0.1277101526685102, -0.11231609130709302, -0.15273770415480845, 0.33210531724073555, -0.07424338889102032, -0.13970865698895016, -0.16518011839414623, 0.24199053861798153, 0.3788343661093323, -0.10812187621529865, -0.14084936647693333, -0.17925708557414327, 0.3276545861543451, -0.10925210983283147, 0.2162780501236982, -0.12248786413618819, -0.13891913102656078, -0.10351508576308559, -0.12751410736008745, -0.17083492526779448, -0.11518012487500771, 0.454016657918806, -0.1354460717644716, -0.11890599948589074, -0.1379372958005452, -0.08707147177871893, -0.08316461488838979, 0.30512432429661046, 0.5926664434560672, -0.12744753185710495, -0.14688515878916922, -0.10799540186082326, 0.2388515050994249, -0.19998815305498993, -0.12008639791330246, -0.1344064840323221, 0.8000414308444584, -0.11831399779530256, -0.15143059022378233, 0.3860902275807083, 0.3814864988533665, -0.11770436795330451, -0.10318632927815645, 0.293055434330166, 0.37850345693424087, -0.21225686054807819, -0.12495216102587058, -0.09229922760799916, 0.31712454370953697, -0.11273780161569102, 0.06614788680235645, -0.1279036483931532, -0.03506326270922163, -0.12492029505801552, -0.07197706203748704, 0.001835024638447258, -0.10811335948513204, -0.09963780431699264, 0.5492925311278987, -0.10149387028995299, 0.21168161960454351, -0.1553700463661142, -0.12248204451596835, -0.0036654945203921647, -0.01879471634933313, -0.11979329209090692, -0.1401212303460795, 0.09833575446663406, 0.31864431271480986, -0.13634014339792322, -0.10944841305887888, 0.0009378408672453293, -0.16256846059954025, -0.07259018892479616, -0.104376768798293, 0.276041002559084, 0.20171235641487748, -0.12120364866356836, -0.1415115220986602, -0.030797490708672604, -0.09383404537377377, -0.13118832078623482, -0.15764058769244713, 0.6751293549623743, 0.22999059638882213, 0.2680213622940315, -0.08654810523317351, -0.053672222772461003, -0.04725861740535806, 0.02507839348298354, -0.20210821254408862, -0.08905447339459853, -0.11636309293869278, -0.10655041470403835, -0.08970837519862315, -0.11021066253279178, 0.11207552969701927, -0.006795378507469131, -0.04118434363053541, 0.22828250860028465, -0.10157796923347359, -0.06098066534562606, -0.16479171273398224, -0.13486950091061473, 0.059565070498484585, -0.18678173740374848, -0.18655716597802657, 0.027974227430677425, -0.1387224865301777, -0.042653072213419796, -0.18811062919181373, 0.22220028603104042, -0.12784737994002915, -0.12770088310368055, -0.08402778751287372, -0.0962665127122143, 0.4524015243835405, -0.11503493764894786, -0.14490980831321945, 0.29411653665357607, -0.1231024163378192, -0.18198357511702798, 0.6697414003056291, -0.10197511716155802, -0.06840728918481166, -0.03113655560524083, -0.17661202297997936, -0.16641264636231828, 0.03204778098764416, -0.0939094613479377, -0.0556518467720227, 0.29609136884651044, -0.16713110870452424, -0.043467883061299714, -0.12379972637818143, -0.10811301821289611, -0.09930162119923701, -0.11955123461660057, -0.0569884971487537, -0.1325344186562912, 0.3650193716502925, 0.5713622768455607, -0.15902767156218015, -0.07046793147220429, -0.09755957808490343, -0.10584672395768999, -0.04169243426367257, -0.10098839323228534, -0.18857866853049693, -0.10137086913190313, -0.16727257470707052, -0.09530384380133117, 0.3788339736085701, -0.15355606455492377, -0.0045739721403066525, -0.16975495867203041, -0.15333251459410302, -0.10166005328348787, -0.14749704732245952, -0.12144044789469771, 0.4329563859688056, -0.10996155221634155, -0.10436421247008672, -0.10134347344193491, -0.035160964874729805, 0.4645455029942298, 0.447926422938972, -0.13102597113396922, -0.11105422494743815, 0.32764765689367836, -0.12176226858508218, -0.09611258654938261, 0.7231995700441393, 0.35744260438422093, 0.010881624045524127, 0.04898717518977125, 0.1121677296778222, -0.1283568997798882, -0.15506117618922297, -0.13430338271387277, -0.06366680814545081, -0.1464693624063631, -0.1416437392140222, -0.13775608865888017, 0.07151850028721488, 0.187376224380744, -0.1139925957842338, 0.14689025389632102, -0.11832961112742657, -0.05793093113710563, -0.11949582157428049, 0.2851985773425206, 0.011211806562883151, -0.15559707573672255, -0.0740595691180653, -0.11404412203713594, -0.09181904618278938, 0.009382276785116125, -0.12546296693459486, 0.015353652825327647, -0.11971872754118053, -0.13902628193938896, -0.1204569025853638, -0.08790449561163284, -0.10186276589425086, 0.6224989616160291, 0.4750768019033096, 0.29217355974791837, -0.07852921707087752, -0.11045295521973043, -0.13016902062761082, 0.1391579951444034, -0.03426091539200513, 0.09934382570858015, -0.16661001473377676, -0.1166460086888655, -0.11489400105738413, 0.22220904315599876, 0.0409659906574361, -0.09858433817150904, -0.09416623275188321, 0.4434807573692775, -0.1112571543594457, -0.11311362559004125, -0.13711091144617127, -0.0828109208051638, -0.11271604769586135, -0.1330890797016113, -0.1027958000617355, 0.11676968240608081, -0.1238810140179972, -0.10974058564787496, -0.11949493563330159, -0.13980000854883995, 0.49319729230714016, -0.12487108510902198, -0.05380576443883317, -0.13796930104115052, 0.35316796005255424, 0.23900207690781433, -0.06609637105738321, -0.16329341578149992, -0.042890222051309435, -0.10162517030296808, -0.13221554665481286, 0.3862344967813691, -0.030748025544855683, 0.28373043210028515, 0.8211016486846265, -0.1501907051520662, 0.2809172264118979, -0.11059173931978367, -0.11223640284515078, -0.1974585832196862, -0.07263649522266494, 0.3862195817455048, -0.11984657018556866, -0.05940320119601676, -0.13222339770116714, -0.11487323953435008, -0.15132281990071564, -0.10158226429758803, -0.1457047918189676, -0.10272868762905943, -0.1532235182895804, 0.5277281449575139, -0.13852722042750346, 0.028952630910060256, -0.17434859369327219, 0.2969171595345301, 0.11676955470957417, -0.1046803242819372, -0.1727000619704436, -0.1447710279348458, -0.13857238930655344, -0.15252484651552395, -0.1336915428756834, 0.2416093840916913, -0.07547179974337437, -0.13229892446892022, 0.6540902796262049, 0.6526190885273814, 0.6104878525362031, -0.09190687737038329, -0.14563165539984527, -0.13476787266945528, 0.3049790937938415, -0.11933445977383768, 0.4510763611898367, -0.18227394414883066, 0.001387270671020468, -0.11462844361976202, -0.035253978659214424, 0.014315061057562257, -0.020789050702556208, -0.13018174009047975, -0.1492423747091173, 0.45700124082477994, -0.10296757689425327, -0.12506268080878613, -0.06087309065581105, 0.45519999380828613, -0.23830014510674918, -0.11045295521973043, -0.04312821627931166, -0.07656670137967288, -0.136903913600722, 0.28671919332806917, -0.12143973340330026, -0.11632802390392229, -0.037843584686849174, -0.166791920872214, -0.1221000150786643, -0.13339861763294633, -0.07006475982543275, -0.08790443820827087, -0.13278080350217672, -0.13178009132157273, -0.09707354732594793, 0.23886050641592696, 0.8105712227193177, -0.13462834088355163, -0.08929116305088222, 0.08802636737058098, -0.14461869635111882, -0.08553664302619837, -0.1425517061470233, 0.3513944819340099, -0.1195004873002139, -0.05992615601129977, 0.12782094361070861, -0.0556518467720227, -0.10137857333027937, -0.08640114984078448, -0.17504245623494757, -0.12377032111538987, -0.0863925870168973, -0.07139988643701754, -0.159244039587981, -0.12467607191538989, -0.11489387445602092, -0.11267445272116847, -0.14609696476784587, -0.1554713559677906, -0.13554018135830864, -0.13510251811387108, -0.14646432091998032, -0.093938575002542, -0.08597650279215212, -0.12305177989196625, -0.008315765491708513, -0.16000516602814827, -0.11045295521973043, -0.11290347898128718, -0.11045295521973043, 0.11676943076187685, -0.09710916842765652, -0.1842216045748228, 0.023737723389626344, -0.0959687592063622, -0.12037089708365145, -0.18120624928090132, -0.105789199158291, -0.048371422820249046, 0.4223838431591178, -0.17143672194338996, -0.09750448249406603, 0.286767581752797, -0.06945669734444034, -0.1015120901036233, -0.19614173536874496, -0.11547788369284802, 0.03931133997499584, 0.21600429504299457, -0.12208687316817536, -0.12213685613047068, -0.1502942241712945, -0.11997110344939964, 0.2282823938054968, -0.14161743633020352, -0.12619726228192454, -0.1313813144324779, -0.14742839813774314, -0.10896483831346776, 0.3381838678902885, -0.11057735536412633, -0.11884384721784985, -0.09198522309105912, 0.2524736168504542, -0.10224340514375382, 0.524637820147844, 0.09409442512047683, -0.10151884006318876, -0.16660378031005352, -0.21774415578235617, -0.11684096405799728, 0.3710803343372551, -0.09532818122572403, -0.13947916967483961, -0.024951048171382356, -0.023064334480550615, 0.5066655386894002, 0.7941587686785514, -0.01268303103059347, 0.4946677815664782, -0.08567982692596016, -0.18015266262838497, 0.4013660097904878, 0.37422204233524486, 0.08816849255716636, -0.12472886834696176, -0.1260343819113177, -0.12552913097041254, -0.1076387097495539, -0.11537020028774105, -0.22785226958640548, -0.1459531342783471, -0.13858460936605674, -0.11693239824450376, -0.12045109364698245, -0.14619198685166032, -0.14063126416679922, 0.3171741217690121, -0.10776048037811031, -0.16414304690485995, 0.4176798327347543, 0.213335070744958, -0.1305123530067625, 0.051618329087262715, -0.13083566001371943, -0.1417079605701048, -0.11957877750651079, 0.08880593169366767, -0.055183746055721974, -0.1125758777042428, -0.11992327792614006, -0.17017922369389474, -0.059306322340129065, -0.04118340415948106, -0.0791783219665177, -0.12012180612937769, -0.11462233985785024, 0.37717415075509836, -0.19356172109883593, 0.3706275305780258, -0.10001614685496019, -0.11866205376749143, -0.12770076638120156, 0.053438676714753705, -0.14084248222289256, -0.18266764884047224, -0.14516578206212152, 0.6856799634415023, -0.1256004321417161, -0.07173436715811099, -0.1142036903383117, -0.11063256090839911, -0.16242078073690552, -0.09926728412830624, -0.13325649564017472, -0.10644953687221889, 0.48990294620281716, -0.050120085762954, -0.10955825175322692, 0.22235347980401662, -0.13797267394134755, -0.12172756234093976, -0.13836099669935367, -0.05285318363739685, -0.12093317604059645, -0.14081687452206768, -0.11390607404573326, 0.027927528357206285, -0.1625329727613017, -0.11045295521973043, 0.37115032534881004, -0.11045295521973043, -0.09985511547870271, -0.11881940867104533, 0.03252846932067881, -0.2050728885558178, 0.20081844773875374, -0.15251994929809926, -0.1327333035926479, -0.12457230118939998, 0.014114560329308445, -0.03819700015574369, -0.017134590429168272, -0.14589897691938944, -0.12258274749203261, -0.13039407441561285, -0.134584419811215, -0.17178871690757938, -0.16428171589911666, -0.1632916053425939, 0.20380335301433636, 0.7699121286214066, 0.2960642096047271, -0.13173407834594328, 0.6844467118463032, -0.1119868533900177, -0.13604860016459258, -0.14795440351024802, -0.13738730938341337, -0.17245939446930572, 0.3049790937938415, 0.5473074923682845, -0.1449823467515554, 0.3559642134523217, -0.20261246723716037, -0.1496164174660538, -0.1287936843069369, -0.15739844798169192, -0.1217313026389797, 0.12701305186563736, -0.13108935562298574, 0.3788353730459385, -0.14577639333350942, -0.11372710901891302, -0.13913940512210973, -0.0946023168785228, 0.07934154888879623, 0.04908083285508851, -0.15670240766282206, -0.09252116153734488, 0.03224269290067689, -0.055272013853316454, -0.20411561995881447, -0.0993899229529706, -0.038526134137017026, -0.08131679108338637, -0.14409126252843166, -0.11076088102761941, -0.1149027010422004, 0.798572337469347, 0.017065442316913492, -0.17818942787185402, -0.04973517966110566, -0.09261942571445843, -0.10361934580716285, -0.036818289455740595, -0.13842873036486883, 0.07004820164054992, -0.07967216933295115, -0.11794427231111118, -0.14810682503821843, -0.09383707022355856, -0.12085325799018404, -0.08596924380254395, -0.11847112553803643, 0.034990487559278374, -0.13325776075000198, 0.38770154973788507, -0.12504405725972398, -0.07681763835892688, -0.17610054627898492, -0.0733901740542254, 0.5277271362424186, -0.170358820958783, 0.664595355467818, -0.014051730358732204, 0.08047881243633373, 0.22235347982959414, -0.0982033283965645, -0.17270279522533513, -0.06819541344782151, -0.11687019817308558, -0.14706847273115786, -0.11489456716135371, -0.09872392522272384, -0.16952238795267371, 0.6751505500577543, -0.1489062456931511, -0.1124987412529602, -0.16731537876735522, -0.1379446401734457, -0.028003071188994963, -0.1460744405575021, -0.03820555475513955, 0.428011754158741, -0.1525153719555932, -0.15938983721290204, -0.03720598120068048, -0.17150677806067396, -0.12998815243640793, 0.1950306111748604, -0.13982948586328928, -0.10275692053680663, -0.06059818451208362, -0.13011860204235598, -0.11646013808723474, -0.10782791058155639, -0.11737158823918717, -0.14910011639975798, -0.10271719495953978, -0.14582381948910184, 0.2223531633901298, -0.12732232795510823, -0.15041008386491844, -0.11941772345038114, -0.11043495170594647, -0.17024623702112227, -0.13064054589106697, -0.10409451175973053, -0.1350533111310153, -0.09247055186434802, 0.46454688748623685, -0.1632212095225506, 0.47507629591221195, 0.06942537221726469, -0.23722197808940845, -0.026669757711363155, -0.1289436519627505, 0.03853969944407606, -0.02842988486466105, -0.02669621541031643, -0.1941908237196678, -0.1765601221318444, 0.39083571559788693, -0.05200845882868893, 0.10277214812169908, 0.011813793090248182, -0.04118340415948106, -0.1693724730600169, -0.04773984906150575, 0.1329838944636655, -0.1618137528976897, -0.18652527829614282, -0.1623316191781215, 0.8406906373082444, -0.1436981653503517, -0.13887238112222017, 0.032185669715866706, -0.1181700898857346, -0.13306500887088976, -0.15705790881401405, 0.07995328075022783, 0.32618160878536545, -0.10945138728613062, -0.219300998762741, -0.10240451004968515, -0.1302704287600778, 0.22685792493923335, -0.16379679375474626, 0.3607611220668523, 0.34857086468728116, -0.09822174688710446, -0.16404032832974322, -0.12713488957083222, 0.19436688370738717, -0.21822736692491446, -0.13216429618264555, 0.4134148777807026, -0.12718828642277105, -0.1368025925491527, -0.17461725736829553, -0.13119238689572307, 0.3351018705963488, -0.12434442995157706, 0.41331160915780124, -0.12834219164131394, -0.12359124646544266, 0.4148849303334819, -0.1350644295809771, 0.5483682051124302, 0.20740071905384788, -0.11044774183247444, -0.0676744146276177, -0.13477306568231529, -0.06542086326172139, -0.13026452343976833, 0.21040101381074408, 0.012796616820628638, -0.10303631760607873, 0.3455841557697287, -0.131177712071201, -0.1352593059192556, -0.12045783082635628, -0.03354546785855617, 0.35924004514583086, -0.12253354278003283, -0.136771690340925, -0.1510544868064067, -0.1552695028175171, 0.4643954923075102, -0.034993160271255784, 0.3740360399706979, -0.04445623821445629, -0.08877073258430543, 0.23406691957864942, -0.14679102749055123, -0.1501064994230755, 0.09110866358211638, -0.13891189735196835, -0.04973517966110566, 0.6348205094501455, -0.1485814108522057, 0.2138680225070407, 0.31712479618287837, -0.14354723737223077, 0.3620415202826185, -0.11525115290426384, -0.11564178891477218, 0.16180070587796047, -0.13984910504160167, 0.4209538713318981, -0.06674963154393208, 0.05344654390759224, 0.06411733194933343, 0.23288307856941204, -0.11986196034285009, 0.2618086177029061, -0.14644699517864218, -0.13945100057743304, -0.02277984939785747, -0.1641959724382254, -0.11602587944312691, -0.13030937942203605, 0.5669061598356513, -0.17432033806721917, 0.3125191688439015, -0.06238542766297595, -0.1162345356363687, -0.11079305934765381, -0.13378320644058347, -0.17955932179536113, -0.09532583943503088, -0.04770421009375804, 0.21908165831099308, 0.10995007620233627, 0.03845680970437157, -0.13926857985034674, -0.09383555950532504, 0.45254628756839693, -0.2816732248375456, -0.15170358412230053, -0.1863770840505445, -0.022985502939921115, -0.164117545002173, 0.5066371244849917, 0.04305813211912504, -0.09588419496352661, -0.18643068897633305, 0.0352637849090543, -0.12789655495930327, -0.12572442823014932, 0.11676930263055263, 0.04898622337288241, -0.21734620954020853, -0.058183760671052485, 0.5938971497283583, -0.07592920516738573, -0.13098823634137474, 0.47505866165612187, -0.21202160166297074, 0.3712879676685436, -0.15616077327823424, -0.15242056987760483, -0.13812976459060164, -0.13364606672162446, -0.05494333309612732, -0.11154809108479906, 0.04742009008161017, -0.16110318602238963, 0.3639887757836153, -0.10778843711646335, 0.580379044098698, -0.17399435037233058, 0.07564557044453467, -0.11357119522902714, -0.055627234354411546, 0.3334860046652358, 0.22235258839968303, -0.07805882547960952, -0.16135393645327098, -0.04133110378548245, -0.05138326198885918, -0.16105248726052213, -0.13818765584125137, -0.06604248908214198, -0.1449019767801713, -0.1613351711595024, -0.1251629596657779, -0.15678634270947747, -0.15547225689406569, -0.15701540672237707, -0.12362377410283124, -0.05579594022096607, 0.39676430648289546, -0.0896205475941415, -0.13138467343735832, -0.0918041890052898, 0.23107630211433272, 0.5246383418418231, -0.11084940308499118, -0.012344802747159826, 0.36977512621047326, -0.14230925085696008, 0.3789304788333006, -0.14597096423244124, -0.02393011938700281, -0.02453501204696669, -0.1510481208416955, -0.14916177197326866, -0.14036536537177863, -0.1510241906798202, -0.161590382988606, -0.056032505468818605, -0.14550607800790732, 0.3577212187920993, -0.13097514520233, -0.1437978232971534, -0.02552599327035535, -0.16726438972119964, 0.031057727267001668, 0.38030427227996, 0.3051223672516929, -0.16237971464478126, -0.1281801139482925, -0.08970685015485638, 0.36536463556743715, -0.11356596236385941, -0.14890830112406628, -0.04760229898791499, -0.1168646049580013, -0.03867612362169169, -0.0793243373394128, 0.380305290506476, 0.08821547279849654, 0.7172706540348249, -0.043462747816478964, 0.03522965337566769, -0.11993878939790872, -0.12765533413006885, 0.727800057686333, -0.12662541504886143, 0.0985551249315273, -0.1743331109898757, -0.025341136289863737, -0.0995186485160385, -0.17471881045919166, -0.12447925082465564, -0.13858460936605674, -0.03525322208708458, -0.1601608792562246, -0.107496749316786, 0.29444879527929735, -0.134247685257837, 0.014168727889266038, -0.05806810596734748, -0.1765804019198451, 0.24030868929434368, -0.12154153539755436, -0.09891221634414737, -0.12382803397007817, -0.17959432594690475, 0.3890334346737359, 0.032528467947166885, -0.16875983894335836, -0.09193085706064108, 0.4540170987863983, -0.19195545132643227, -0.12306190835911096, 0.5441742997184237, 0.5171979772997748, -0.15018746289356544, 0.6406201471648604, 0.3639347415527261, -0.13249261582275626, -0.12922395878993767, -0.07718361609715395, 0.009750887986031504, 0.717271347787983, -0.07633191616861386, -0.1530349541842157, -0.051732739419575687, -0.16674195753745405, -0.11859487950257207, -0.1259935374084724, -0.024096936042736366, 0.5382559137316505, -0.10812156747654086, -0.12416711881395193, 0.1933160175663065, -0.17465613078979145, -0.020410254592422013, -0.13237701587795533, -0.16123720788845794, -0.008009222260474251, -0.0655796023115889, -0.04646250532128703, 0.31863836599236883, -0.05474696801699887, -0.0939536686112164, -0.11679133626306727, 0.4338429754308891, -0.21724875976765334, -0.12737336658002227, -0.13621282825837797, -0.055148752536484824, -0.1539956336511336, -0.1796858630418969, -0.00652011678952892, -0.09615624701955797, -0.12720925447272716, -0.20480970476973648, -0.16140050440929787, -0.12955961566492671, -0.08330343513773349, 0.32305390082474067, -0.15944157398499106, -0.12881849338898788, -0.14701014198830895, 0.39382396590109925, -0.06988143538476037, -0.14424278489113007, 0.12482503601640708, -0.1350280034814566, 0.3123810134193428, 0.269972745767392, -0.10689402687745239, -0.17862585052937144, -0.17010036128668282, -0.10642571184691824, 0.03385663315850169, 0.6736792386006096, 0.03224186052558187, -0.1424727965337613, -0.12379438727721925, -0.11636404983492389, 0.02910677197058155, -0.04725419260324448, -0.16505204913591456, -0.17470611358516627, 0.5908745095556325, 0.49304849146565805, 0.22665968741644846, 0.31252134008949206, -0.1174387192686616, 0.03551442597591075, 0.24013566418453153, -0.14259890445061976, -0.1327829295973388, -0.17766462398438998, -0.16331736373150776, 0.45401659423446183, -0.015273060884197996, 0.006582074672952381, -0.13320795423872395, 0.09627628906585675, -0.005133141103321451, -0.14564580294775614, -0.1043639600389482, -0.1521796945071005, -0.10419100071593933, -0.05691908930524342, 0.7246695503304692, -0.10115052848152481, 0.4233032658074831, -0.11045295521973043, -0.15804871583206032, 0.02308235298329529, 0.10163290821838164, -0.1741589586971758, -0.1111761767007989, 0.09570922080085853, 0.09143308296587796, 0.22059349425860092, -0.1282345607311847, -0.12412563342394259, -0.06694524041603425, 0.5096562331029804, 0.05951614352059467, -0.13097669646494056, -0.14967342596780736, -0.0924535843058398, -0.11330486793515837, -0.09824724365426346, -0.10570793352210953, -0.16421012896234255, 0.09129840135504555, -0.03678580222080307, -0.1584389390258012, -0.09243567871138415, -0.16977540691208803, -0.11513135142369019, 0.7172712841019334, -0.13687283136986794, -0.11685188687055478, -0.14283408040633302, 0.22832995096561962, 0.2929331905752975, 0.43295436128398285, -0.06054583494091428, -0.14805386409579036, -0.056368845212828506, -0.18348199775412252, 0.39341211559229483, 0.685680718224912, 0.5700863771334528, -0.06694686097944358, 0.025999857220084643, -0.12855604389671182, -0.1605014036670085, -0.14743504544227057, -0.1299557083547791, -0.09792587011748459, -0.10157866362263382, -0.1504175316357428, 0.8257497521589187, -0.16400844407547846, -0.09469472386323009, -0.10556352644791248, -0.15113396773694873, -0.1307924488501746, -0.1829117838359208, 0.2373423265640064, -0.08643540201314476, -0.19366665790545973, -0.16098031852249534, -0.03426843787158098, -0.11715830177841215, 0.0983640643714344, 0.18563940480163696, -0.10945354713696984, -0.07799341677909079, 0.3304983370483147, -0.1107388259491385, -0.15018256982799355, -0.14946962937071212, 0.014297885448154177, -0.1830403098523188, 0.3605616598700132, -0.15988380718503, 0.6435587226474263, -0.14461483849129841, -0.05940306936916962, -0.050384323652741994, 0.1106963033142014, -0.1061687253840383, -0.05760908544857299, -0.15427596389452383, -0.0556692442239514, -0.09441637271052997, 0.3065933643147208, -0.08638472785113185, -0.1584170553481045, -0.11767109488999503, -0.12623901222587045, -0.14361244822794553, 0.5142571076644991, 0.22353367921712428, -0.11974280971016948, -0.13842406034489899, 0.37570518049982576, -0.13819321970181206, 0.34382625042851683, 0.3637047769001476, 0.0746482555316653, -0.1713790733603524, -0.15963575838361221, -0.009595006648666332, -0.15440396780776494, -0.1082809350095393, 0.8014938199891879, -0.1031498272173559, 0.6390547760853597, -0.11660437143443268, 0.40466709773536813, -0.05513421935471652, 0.8000425772948039, -0.019603009770657997, 0.4645455026276189, -0.1387998688156603, -0.145391645522669, -0.1407487689051606, 0.03664785249483856, -0.13476822371158712, -0.042801598807432034, 0.013269082391739248, 0.10509548784527419, -0.1687116827132622, -0.16577625089970377, 0.23719759248274042], \"z\": [0.00876438676413472, -0.03549426775466516, -0.060332602299315856, -0.09033376821657467, 0.05322976817209955, -0.00686315098111561, 0.04906897693875633, -0.013356394298138072, -0.05538881900873612, -0.030455511470744753, 0.027836021113009157, -0.0701322130748431, 0.12233031517346649, 0.1046963397708717, -0.055965225184917755, -0.08360742658965421, -0.06003184335342786, -0.015908510569477737, 0.00619044537900504, -0.026481524242139332, -0.06576868897203296, -0.10034685397659188, -0.04607988416740162, -0.019656019744771536, 0.03397435039123476, -0.0025645659437241747, -0.017627386120426553, -0.03769602500551849, -0.09494097632052353, -0.005205076828866321, 0.06789340764094712, -0.058612002867469405, 0.002470498770869041, -0.03858209998219296, -0.09850832995001606, -0.005813657865503892, 0.01027798255433441, 0.0778983559594173, 0.04324157006846266, -0.07227721848218656, 0.0024712910027854065, -0.08583129381909427, -0.0730791510425661, -0.06875988125055707, 0.05126892856942626, -0.08257435338448374, -0.045524216381662694, -0.018017806344238357, -0.07977878695197771, 3.343102916224987e-06, -0.08976618775678849, 0.12248746037501884, -0.058172764549243625, -0.12808008337691132, 0.03488750851931531, -0.011243162264569638, -0.027581669484386468, 0.04820073628691163, 0.028336798506296057, -0.036726954697848625, -0.08329929314739594, 0.03003852312317425, 0.1678852297976766, -0.001518785837845858, 0.1205402746725107, 0.02611581310919861, 0.02660918565182304, -0.028080731282431534, 0.021066856044817624, 0.05641949879065318, -0.10102912510467567, -0.04150840620050676, 0.034361951974832085, 0.06685158283255899, -0.04092757442182405, -0.005331821277387459, 0.07599969626101526, 0.04457230845238337, -0.12582936579709608, -0.045003764955733286, 0.007853795388632576, -0.049519010809144996, -0.01006712980760582, -0.02480820943971464, 0.057150848520607124, -0.04490023890847821, -0.017108044662938058, -0.04046758256164387, -0.003786720675217525, 0.01013690632134821, -0.012057782432422386, -0.005872193465367304, 0.015813648563020432, 0.06294785140138302, 0.0832462288908064, 0.06038079237478916, -0.014106357274085043, 0.06986749668944388, 0.012229724077094438, 0.03612187046347419, -0.011831573334468952, -0.017030921733494832, 0.1187164231461377, -0.04740700051627167, -0.09132780366429703, 0.005441330192665822, -0.05698747472731371, 0.037393549929894514, 0.12541302511858096, 0.06965639965814016, -0.07004419491658326, 0.018170690703025096, -0.020623008972799284, 0.0018554927654187265, -0.005191884951005344, -0.050722706843386686, 0.05103452785140506, 0.011514201172897781, -0.04302700341124283, -0.007846174610120774, 0.05512232851032676, -0.051468984413604, 0.04845376306584765, -0.12192355364557396, 0.06557696757662874, -0.05297505441681862, 0.016367610608811044, -0.04112066684652163, 0.005511057104706721, 0.013168659598697442, -0.08675099851359303, -0.041721215745760085, -0.016104112363157452, 0.008545617364696396, -0.07595803349460595, -0.12223458525907738, 0.03517198076531798, 0.03363768224074115, -0.01010810625091189, 0.15657732264004767, 0.0596389667446985, 0.05706694803100854, -0.024534347255747546, -0.06252134295407917, -0.06866445442060112, 0.01702131880579544, -0.02881784037921554, 0.09152206170148483, 0.07075633477401823, 0.030764917454567598, 0.05114049898187329, -0.04897428122474411, 0.0115519550181934, 0.021549168187325822, 0.018725683639333017, -0.05220299566464312, -0.021307466474578467, -0.0008389414787917883, -0.06785460507646797, -0.00635438051302231, 0.016808566542324377, 0.03804205669290389, 0.00804519298479678, 0.05487002221967119, -0.03699670872813319, 0.055535536911672685, -0.020413619267644213, -0.03631327288811112, 0.014365396440054986, 0.03706379636377992, -0.004976103295919514, 0.07788483760779465, 0.06784042916729939, 0.07369773538996148, -0.06902097222009289, 0.056827302343947055, -0.020877902253445428, 0.033161436555171175, -0.06300640127188599, 0.0653469719126516, 0.04282561396072104, 0.014996174363940006, 0.028138299555364447, -0.028130981223262116, -0.10317030870845585, -0.046269075614146185, 0.039723429779635326, -0.049522305192248005, 0.17281891356558368, -0.08680577936648717, -0.0011438236363213172, 0.03571076110451867, 0.020772594263215732, -0.05555620140683473, -0.007643370454878598, -0.027552355212621938, 0.05462665398065182, -0.017666794519199214, 0.00557621948356337, -0.06800966781133722, 0.0036582314909871846, 0.028936981682321918, 0.03680742194692288, -0.01278893419202533, 0.023617720474821913, -0.011381737695882152, 0.011932609969292013, -0.0679995839598049, -0.06902099278065407, -0.012289841151944866, -0.03961538548689573, 0.04950014342308966, -0.02556945291553995, 0.16201631671710545, -0.04785780235496016, -0.0375881611707246, 0.006359535968292243, 0.01580168914756416, -0.02431625469712599, -0.051368839641343006, -0.04869970967678029, 0.061001864747664024, -0.05661308282956169, 0.032361818020781946, -0.09958999071947225, 0.0027394846608767487, 0.0020346424733481343, -0.05027293454085801, -0.0422740281886507, -0.048279994945380184, -0.06490006077151872, -0.1388369001830579, -0.02375356586021459, 0.03349849780216223, -0.043424015892036774, 0.05736199853105151, -0.025788788484625725, 0.048283983812612785, -0.02584021203905048, 0.03979516108568626, -0.02717790966161421, -0.07475102146646424, -0.010353945571065523, 0.03005070771378754, 0.0190188702599182, 0.14422177179926685, -0.037022615980456884, 0.03253817086525713, 0.029803996345233702, -0.03950300081919377, 0.10294114377021814, 0.0020698474757292447, 0.04769944710863273, 0.013607631727999791, -0.07761522055011624, 0.07664022370667828, -0.02550358135286312, 0.026733895084350437, 0.05349600997113316, -0.09991051630763072, 0.03795402934407837, -0.023769279701320045, -0.027041087870590043, 0.043964934408267514, -0.05594176965232315, -0.013672542117109464, 0.021996178882522234, -0.01703174301021375, -0.023208135914598967, 0.008879386474371939, 0.0907235851389953, 0.034991123852036905, -0.026860164156510755, 0.03395757568163068, 0.08082300393317411, -0.014289142565720227, -0.02280652775998403, -0.04083974004267201, -0.03508353313260743, 0.18121063825452727, -0.09502834277297807, -0.02385846280599747, 0.13905045865932827, 0.19972138718439508, -0.052760089724724096, -0.008221597024370938, 0.13269948142960025, -0.021978366084588512, -0.03965430752148107, -0.08678776008114047, 0.01090589525707971, -0.06175180225747271, -0.028298379281041952, 0.013890662684766096, 0.06719035252816594, 0.02141244917515027, 0.08909412172151313, -0.04978774448645454, -0.009085054508216506, 0.054857568790616804, 0.026354592692135567, -0.023523431643390144, 0.1292168378728009, -0.05282566013119562, -0.06577656738711422, -0.012962915545772427, 0.08390775598698545, -0.10686927204430917, 0.032634164435975194, 0.19192126343081417, -0.04555646011839693, -0.004078501313430517, 0.1254163113039377, -0.0006679164484885205, -0.05469175652531663, 0.06192321616225775, 0.09408708539770463, -0.013355172510054426, -0.005766597012021952, 0.043978641828214704, -0.07977658265661766, 0.0204980806281965, 0.07810646861523197, -0.0018708819601698902, -0.0778878533576786, 0.09548493458627678, -0.07532171825811303, -0.01301575666174038, 0.021302282913562034, 0.0804784085176479, 0.03822216364014584, -0.013352233721564088, 0.0053921526346624865, -0.030443018345214175, 0.0529687948637815, -0.04757309077461178, 0.08039346003291006, -0.04330386349539381, -0.08718053624482872, 0.12014325371014947, 0.04421081822327046, -0.0041667244847738314, -0.0552656278314866, -0.037402281084248416, -0.02703905998432326, -0.11136931075223477, -0.0038542125201592404, -0.08419612455690524, 0.007234292444935742, 0.029779355911342863, 0.08104173649012082, 0.046365229036126346, 0.019133215046973504, 0.021617798429169464, -0.03769588434469191, -0.018057320884199375, -0.0926791631937133, 0.1349111484548012, 0.06447293384841749, -0.060572558929296666, -0.02668509646020755, 0.1348117352897194, 0.14931297236753596, 0.010268700647571087, -0.03370000983669382, -0.033445171158383274, -0.06485011911952714, -0.044726911566184094, -0.06624848473995178, -0.049802157321574635, 0.1064131616070348, -0.09204777539180196, 0.0028453932986268115, 0.0510615281220786, 0.0480927335135779, 0.011687067479900623, 0.04295651996564551, -0.05950216742183083, 0.0011705967745943091, -0.017306040073056538, -0.03178590962968259, -0.004125540614346709, 0.10650860429819624, -0.08394634341372932, -0.014342844663745493, -0.002165186625238739, -0.04592719634663221, -0.043296790121540675, -0.004569779821094815, -0.08624177139069031, 0.04983119181466065, -0.06577656676383373, -0.023601828959086052, -0.08055854096210774, 0.008174737575348772, 0.054220904667770485, -0.01607571242054051, -0.010136812828715562, 0.06963657720262166, -0.038328701727619235, -0.026777737068159807, -0.0005655593612377952, -0.12313042630598468, 0.03712459902083759, -0.06659040897004066, 0.0012038691024356643, -0.06605340072406804, 0.09568674128839888, 0.0007064028405734323, 0.02408461436965726, -0.1054693038266428, -0.04063071353524975, 0.22786768429742496, -0.030480627880797622, -0.12939129332460517, 0.08669831384491973, -0.0330644902158191, 0.05085728509502769, -0.002378454806616996, 0.009108349874103559, -0.08889443896488045, -0.04126243294802862, -0.022729277718966757, -0.018096602404876122, 0.08009191602449578, -0.037009897509672346, 0.13909274761480706, -0.06902728328718778, -0.024533235379390148, 0.09456335635630728, -0.09307359265885615, -0.05849621994878014, -0.06587061707644612, 0.10537045024016893, 0.056041864949636734, -0.004622994567753725, -0.060990881087460466, 0.13587085986856004, -0.06914349203272759, -0.06911733991377537, 0.01192840338558935, 0.032409219003143974, -0.055936300356400986, -0.047728643883169115, -0.02678309208267264, -0.06007962956473384, 0.014394651956980184, -0.03564087574148395, 0.027241872804067157, -0.09935185678909818, -0.06742065012351893, 0.010571972651747029, 0.0440981371795573, -0.017132409142780324, 0.009034343334303795, -0.03503938889697472, 0.01898875023498381, 0.017093057735200166, -0.04473880027447261, -0.09666769507153494, -0.05534055412701229, -0.07900531348204287, 0.04160097403372654, -0.042955040388640106, 0.06746854271847583, -0.08459895771486389, -0.019730689631836343, -0.0626972166124135, 0.04551869539748327, 0.06893746749968246, -0.01815229603857515, -0.08569332212772308, 0.06841452549696662, -0.05050815308278503, -0.12816571186005093, 0.05182802494869069, -0.05069701625495902, -0.08041092330510993, -0.08355891476447391, 0.07141193076646424, 0.05104787586205893, 0.012196219218960708, 0.021014369802811614, 0.0031745069409914142, 0.09216226724978896, 0.13907391402578936, -0.006573159674614651, -0.031466396668929184, -0.07419537721684, 0.13016870852010531, -0.06579554288035049, 0.015078139332955846, -0.01736391688700938, 0.06873901692841547, -0.043694317167739936, 0.011879297679662169, -0.07076259876713699, 0.08267173732137184, -0.01165972952118902, -0.02881784037921554, 0.1520461780064833, 0.16005028023898987, -0.011477226328364587, 0.04272326136869936, -0.019487643486494108, 0.14506761976430838, 0.050889475969179414, -8.860683783669733e-06, -0.07768127878115816, 0.004415485540673645, -0.03577599943273544, 0.0617229079019624, 0.008687652769430558, -0.022507579537593084, -0.004625121491494158, -0.11049479888365268, -0.048562818042689436, -0.021720945869380486, 0.09414202889421691, -0.00881257977384101, 0.04239539082839245, 0.05947434957243366, -0.012465966340116348, -0.03018220127832677, -0.09361599421052226, -0.02257692127264955, -0.1113109580523317, 0.04085429248796803, -0.03285626626116068, 0.007035076749919165, -0.09044546185419744, -0.043294340255740464, -0.019576975128133875, 0.09897957436225997, 0.049061828069265366, 0.02734120004412399, -0.007916706601516678, 0.00272558458083327, -0.027846661528167206, -0.033278000476950204, -0.012824742579794872, -0.09991763216971944, -0.1258806291946155, 0.013561831739113392, -0.023519536702871116, -0.008964331929501152, -0.019299098292585075, 0.007829399044082027, -0.06573325657367313, -0.03136498219786552, -0.01199151958081599, 0.06919308589607681, -0.024593240059189128, 0.06560004504773762, -0.039698077672810556, -0.02019565603906987, 0.028609253312638777, 0.09384258036608321, 0.01838870867631463, -0.04106555511194596, 0.009613257079749334, 0.07371655959228508, 0.0443867675401606, -0.0394278911004593, 0.0017892071271176538, 0.02026620926001175, -0.015698498610318294, -0.06449378108183068, 0.006388476854433201, -0.09169505291959248, -0.05354843571164126, 0.040404420722746415, -0.010697339204959301, 0.05031776569591045, -0.019332732955529182, 0.0015925417162280442, 0.032086071103584614, -0.04774148396950395, 0.08646289781323899, -0.015989636728976745, -0.1178040669941724, -0.020683038576855987, -0.08195039476573347, -0.0836267728684515, 0.025223570044581395, -0.02027667429435418, 0.07644895550308445, -0.03914244114462432, -0.08211354383850107, -0.091186340912105, 0.001019134716330588, -0.01428287725701821, 0.06571673680242264, 0.043728444728062275, -0.06079277280540074, -0.10316993494723457, -0.06585026287779186, 0.04187829501103011, -0.052738385511991365, -0.0714595224409043, -0.029991838420177212, 0.0007032102857790695, -0.051758655573125374, -0.001518785837845858, 0.040052392460256055, 0.031127870352606574, -0.103134648969298, -0.055576172467290845, -0.031671362978532305, -0.12611196208347286, -0.10592035931023391, -0.09170058940412497, 0.05767552559270026, -0.0013307890689089564, -0.02625722322969927, 0.012630402155123508, 0.0417157033223727, -0.038295217142267225, -0.0730982736771339, 0.10474263819789127, 0.021445956526615934, 0.03026071376560187, -0.07958215032139739, 0.07340800585165401, -0.03480662231393794, -0.005127000848656653, -0.0473365318678497, 0.09319891753220115, 0.022027441304570863, 0.08408064201709495, -0.049719673652317706, -0.050798944733418075, 0.10547824787470687, 0.02873729920390955, -0.034713395010231296, 0.016335958841737448, -0.027294579167396124, 0.0734570976129003, -0.0049428122385501904, 0.003007151886957421, 0.047168143926663506, 0.03841236685731826, -0.016074466324870303, -0.044787395376459635, -0.004030160455064009, 0.04429012141046547, -0.023648228686307702, 0.060485605998949095, 0.008290875504900633, -0.031670565231994324, -0.10347146424060367, 0.06154074965492824, 0.09019784434636939, 0.004651457039920099, -0.05549723509908772, 0.07966894222176486, -0.060333907876502973, 0.13163035036348675, 0.034008225429457285, 0.03496827604740109, 0.04119921233258128, 0.028265489151431313, -0.1019709690772982, -0.029101078381189978, -0.05106823108986769, -0.033619243294379236, -0.0016024660318778433, -0.01432889781055924, -0.022837726898517735, 0.15341966562625822, -0.08517580842298703, -0.06569871919319899, -0.004589341750907083, -0.023490531779864012, 0.08884409899864132, 0.03380192165251676, 0.00041757562735049235, -0.0628968320128092, 0.035128246855211764, -0.021071783514396116, 0.03184337450412596, 0.1904225902448438, -0.08211354383850107, -0.01656724313756493, 0.11676924546382182, 0.005582011874751377, -0.020167315522261166, -0.02785112230289454, 0.025456507035863652, 0.0883655834380611, 0.03647104083980041, 0.01814878342761826, 0.01478532975695827, 0.04172404918827185, -0.08195075486095302, 0.0517575604836271, -0.023892913041814397, -0.01929586920482596, -0.04068697633488948, 0.08995059684161558, -0.08346679119109793, -0.06498839651265334, 0.018159366385094165, 0.062111346106717556, 0.035284458900585555, -0.07394921891098095, 0.0013512641279566707, -0.09166589156243467, -0.03795027297639216, 0.08060271180093113, 0.004415485540673645, -0.07272891000180594, 0.10282786967986009, 0.042503861573566976, 0.02162055342613849, -0.04851488323634906, -0.024342784828685435, 0.012511299781621183, 0.04950084598331357, -0.10317072610444097, 0.042126949715719154, 0.024074643059346045, -0.04300957344326003, 0.06707919665453693, -0.02584469503517333, -0.01468911846202369, -0.09314944520506259, -0.08725882276888118, 0.010786632168750424, 0.0672097759289432, -0.016309547743068472, -0.08211354383850107, -0.000365713235164595, -0.08211354383850107, -0.03166979004154111, -0.08765624667011455, 0.10522122555536695, 0.019407347203703202, -0.04002573121953077, -0.052747507966914256, 0.009596741768483427, -0.05405454159944018, 0.04078927817782803, -0.03626308555998321, 0.008293606312784583, 0.03366498261558363, 0.019451212515401314, 0.06310699694100608, -0.0690298214619661, 0.0761671663530328, -0.0020767126212752865, 0.040861380175985416, 0.024126225905962306, 0.018066504212646512, 0.01837828986971986, 0.08973029796816043, -0.03406607495375932, -0.0835581946458532, 0.08481135555168463, 0.016123387663656737, -0.06252871638240245, -0.05063587912245624, -0.08845021776332973, -0.06252109667456539, -0.049809514328166715, -0.0835978607424524, 0.03854863138631753, -0.08230388600065587, -0.029454202894579236, 0.04088282033895901, 0.00048450195608716693, -0.04032576604718963, 0.030678257581685138, 0.15924145847451177, -0.03930693990947277, -0.026443077575153056, -0.007586647483447512, -0.036044187466731284, 0.013283661640082963, -0.061462054198430566, -0.010515834429851836, 0.11160891011906628, -0.0257552171194296, -0.007557340704223996, 0.06770580216019095, 0.0961642704559247, -0.043028593959113924, -0.031756270060044146, -0.014255400842772511, 0.009909884520911775, 0.13047695251058056, -0.1028989127969297, -0.06224803667270117, -0.04553520206773993, 0.2100631341301529, 0.1828590956236539, 0.004727821929109397, 0.032711942207143255, 0.0192009645691124, -0.07944405685221924, -0.07921046440691251, -0.029416192553183697, -0.058622285058175884, 0.08450535889381645, 0.007376954307885518, -0.06809297228490412, -0.10582921205372334, 0.012838186623717154, -0.01209406029367072, 0.009926269634518703, -0.008470920334306378, 0.030988086622507932, 0.0981206383528927, -0.02554523301455617, 0.005555957641697594, 0.2217422344842914, 0.051941804321400484, -0.08041679657981468, 0.10403181819211102, -0.0015977567887636333, -0.10948473731009598, -0.044278928866262265, 0.18482092241747217, 0.031045431635555402, -0.0754151590771729, -0.007757264608021852, -0.01736464860429001, -0.018707008962696187, -0.03335243052781606, 0.20258535843124428, 0.04034719950170524, 0.04472319716080778, 0.008914918571908953, 0.000879701280338391, -0.031121029417709854, -0.08938543632753622, 0.16494130497338438, -0.04651812520897706, -0.07056185733581363, -0.032325281390361914, 0.03646285210914645, -0.03948173868826885, -0.0029472542442161988, -0.09827946730720087, -0.002574842684537909, 0.037000752774374715, 0.05164548744665271, 0.02437833801122343, 0.07687283106549456, -0.08644487458825004, -0.051722012298864174, -0.04620224939828345, 0.05027096021846363, -0.08211354383850107, 0.013040411424207558, -0.08211354383850107, -0.03936555074929399, -0.019559084683827162, -0.057671633374458034, 0.105809226690925, -0.04715399505750941, -0.05552783343019265, -0.035636931774607625, -0.02259507245321984, -0.01173068772865008, -0.05323285297828825, -0.04674595231874609, 0.00696102311970323, -0.046803302267660316, 0.013194263692227311, 0.1074688036709057, 0.03362553237565212, -0.029999618244983827, 0.04570539895364984, -0.019960695551158123, 0.0707800106761302, -0.07552715801193442, 0.015740437202619504, 0.09778239020468103, -0.03270489713684924, -0.03763321839882088, 0.16721971448956238, 0.06326172203009532, -0.0087720342642845, -0.033619243294379236, 0.008761854198840081, 0.047595196669628956, -0.01831730675837938, 0.17528885448924986, 0.014959813376064831, 0.0032910124435389355, 0.020729257275407812, 0.03702408123204641, 0.03642400868755096, -0.12740638158581447, -0.04330308403431503, 0.00333001237799734, -0.11302852923348791, 0.00728272491492329, -0.042737025554495295, 0.023128907657094935, 0.03955840792536479, 0.10839249891401566, -0.07038273378475939, 0.007167436065790193, 0.01883047255771443, 0.12592066228721735, 0.030086999970715598, -0.02804375815770966, 0.009407910428457351, 0.039686248365023394, -0.08571852718636112, -0.10311555875438672, 0.0929161430804373, -0.024245687825565864, -0.016341771640404797, 0.019213240409507382, -0.06690371181719307, -0.012559143436570505, -0.05602084701386115, -0.027772832724609824, -0.033202530476709284, 0.1573847199073567, -0.11143962603713915, -0.0742178081308161, -0.09664878902527287, -0.03499480292592728, -0.08730414630772099, -0.06913851271720331, 0.13881653174015243, -0.017621482706434453, -0.04101168929701841, 0.030620805671713824, 0.0014396640547870037, 0.06294192325845924, -0.00012996263430704709, -0.004023855841358835, -0.012268228987859535, 0.03837503720276176, 0.035406215370088145, 0.19340628701391235, -0.09827946746109727, 0.08868776923653596, 0.06155775414503974, -0.043059699280583966, 0.04358251374372454, -0.07601731583446365, -0.10316639641355098, -0.020339492886774894, 0.06726135820037914, 0.04146854859250872, 0.008569106181390928, -0.014768017205675802, 0.054480168636659485, 0.03717059807507019, -0.02474941447331617, 0.06824575203022952, -0.05317943979127632, 0.0034713740768267123, -0.0555564041686182, 0.0449490165781288, -0.0018042400695638039, 0.0671671248978873, -0.1481138205397321, 0.05700576535855589, 0.05785947532818693, -0.015898209914233036, 0.06544629833435103, -0.02291871876382547, -0.02489817797059471, -0.06946000514426116, -0.021253016944958465, 0.0013863240289874279, -0.04041696668402657, -0.03629452610737547, -0.09827748995282229, -0.0029409622674746567, -0.05357853817627791, -0.08092377043491163, -0.08222601590984559, 0.03820827600695479, 0.14197882157164485, 0.13792223686839883, 0.013768716658427887, 0.12051099890615743, -0.023528190557204814, 0.056524819408387265, -0.0202735121586505, 0.05687510513205831, 0.26557751743169206, 0.00140785936946227, 0.03575474629089437, 0.03637685089553264, 0.0724975968294596, -0.06700943259569125, 0.08372782271216882, 0.0620366801267184, -0.04627773692219629, -0.018770725860368594, -0.004440743709736539, 0.07308423405523579, -0.08041679657981468, 0.06346017766953341, -0.07361351255388836, 0.0908041332886868, 0.039432926260085634, 0.056168038303169944, 0.05740711585470187, 0.10593068685392668, 0.029747163777899186, 0.06957913235007275, -0.03239713764126096, -0.06549039564174676, -0.010431703995008932, 0.11809597554699018, 0.06013913173736141, -0.05953447093772461, -0.12360410566801941, 0.18279572230334637, -0.06550347175231626, -0.059025783959431095, -0.03769836680961569, 0.06360049849863059, -0.02261701094310217, -0.02684986873507909, -0.1310689927587397, 0.016807127206121594, 0.004281992994906498, -0.043871177221604704, 0.14547192715173204, -0.03828056518559901, -0.006385572615205127, -0.10388764943250131, -0.09516027061726094, 0.03811928381174301, 0.024526688585811498, -0.017660148028640365, 0.024296116813106283, 0.06570719237238688, 0.028517462071534175, -0.01541593453555008, -0.012609393697486234, 0.013838159172981824, 0.005095673521221263, 0.06850898381856928, 0.04487239538616379, 0.007529027218752037, -0.05103577946285012, 0.02998622114716425, 0.009519772168944963, -0.055683103604004434, -0.03798402909475523, -0.07372649046282802, -0.05403190417662058, -0.05540673844539769, -0.06192079230786139, -0.020677188751329033, 0.12619181197760462, -0.05599524009044533, -0.007189876910622297, 0.12012690456456385, -0.06172296312744665, -0.03587674718649587, 0.008944500176293469, -0.047675254856329514, -0.03898826274650834, -0.04275759086068574, -0.10724935013517803, -0.03640802359676485, 0.07467642612424065, 0.09695125078651204, -0.026703454342365974, 0.02990542726391847, 0.019213240409507382, 0.1483986274465182, -0.016593150633531974, 0.06512778726959821, -0.06902886121298783, 0.0016688608287206467, -0.03604996886987314, -0.10646753987564266, 0.014823953831637567, 0.12598552037455105, 0.018061419681245108, -0.030289778410863014, 0.0038005699906708016, -0.01875615375457643, -0.04791158010156841, -0.09502597827608486, -0.1339490522210479, -0.01058262989554516, -0.0732332616750876, 0.00370064492948945, 0.024996245252959494, 0.04930636854184392, 0.000435613763178192, -0.030120833687163902, 0.021433151768284937, 0.012904686738337272, -0.05753019163394883, -0.05450462910228229, -0.046575204831467196, -0.056855854703959686, 0.00040009071637530036, 0.15755981030942254, -0.09030799907795761, 0.03466700636951353, -0.06062658934779806, 0.0369646252554739, -0.04294677696978961, -0.031831177378693246, -0.09665823177966555, -0.02055193030570407, 0.2063308635686596, -0.011402011002199113, 0.14634292634270712, 0.017887064909323104, 0.11564637606898841, -0.01033839894024553, -0.05441854432851262, -0.02929483990134988, 0.08823949087124933, 0.07405545915631043, -0.024535449974373746, -0.1100727733119802, -0.03166898967876407, -0.03969213011487069, 0.07782449362641931, -0.040346585400616475, 0.04264342197302508, -0.026332459914064223, -0.048196438704146964, -0.020163291275201438, 0.15120768148971148, -0.01934632409887491, -0.0323575637931844, 0.023692930927950107, -0.052773482543633204, -0.10056598787345614, -0.006355792326089633, 0.06118361966461855, 0.03857960436724301, -0.0485544654704952, 0.05137450757273831, -0.029785763318414427, 0.012219127297575391, 0.022128064696287968, 0.006722903831722395, -0.07694699664402213, -0.00012923994769038828, 0.02100146992945809, -0.09827389795039387, -0.09674092132520752, 0.06460730739714779, -0.04796719449114855, 0.04242605195035644, 0.04398208591886802, 0.01903586981528109, -0.031232969542421874, -0.03622839361054332, -0.04248750692692994, -0.11266938462100218, 0.08200776137801966, -0.04300402032854164, -0.017808425478228637, -0.010821834111106815, 0.03684255145281218, -0.03155444657791426, -0.039797661732307504, -0.03823733181200046, 0.04581163526367669, -0.06356563000935736, 0.04087956372111552, -0.01371782877032793, 0.10028812660788008, -0.052776016818186534, -0.0271491331023529, 0.03594439426983321, -0.003848424449021006, -0.01818137714833992, 0.07178418801769014, -0.061762722265634465, 0.10874901291089634, 0.07155507465576699, 0.10063596383899794, 0.17745113700498286, 0.014276405697338786, 0.021294334777173508, 0.061901720782380654, 0.020304204731010814, -0.020809600635845492, 0.015964124346587973, 0.006984034546730866, -0.051443501881942924, -0.04951970102825701, -0.06604116953363438, 0.01778678100691991, 0.06456030423161555, -0.05051768203199541, -0.03410247651260658, -0.07697968805704558, 0.008581929347213751, -0.03741720824093358, -0.10774169491755801, 0.004420151151585754, -0.08340087107033808, -0.04952606287090946, 0.025371908890286177, 0.054471825315597765, 0.008655578138714315, 0.03434788438553044, 0.005652905982282703, 0.022272328143583826, 0.057726532441483146, -0.066572114045276, 0.02141810802015827, 0.06038896311561888, -0.00106720928513645, -0.1175329122164989, 0.04601065679456925, 0.056665214259959525, 0.004727821929109397, -0.06570344786893284, 0.016190094769140972, -0.09466176847827948, -0.036868345546039336, 0.05796156796032049, 0.027851685579672616, -0.0011484376746148427, -0.054960734258505686, -0.04677415134888789, 0.04423252403891852, -0.027557140861371805, -0.06225135802797644, 0.15777833790263948, -0.01484548185144068, -0.057671625110220476, 0.013366208481253115, -0.1018212008264019, -0.02678049265757575, 0.20179051462370426, 0.010849926899813045, 0.014021840252608605, -0.007280094175222112, 0.022007168311670513, 0.04416511089998349, 0.011791273213771067, 0.011174171345065867, -0.05072966381834472, -0.07149793717260007, 0.046571180811366, 0.05446748932008464, 0.01232791157201276, -0.03757144873719879, -0.025111166597538728, 0.07607968106213325, 0.03174398125685535, 0.023244613754419965, -0.029924281699549648, -0.0007652341121223299, -0.07315418109171365, -0.06127094626276736, 0.016442623973384297, 0.03836159231829674, -0.00906907111442447, 0.06163195586043496, 0.036742145884749326, -0.026420671942098576, 0.06250471672659805, -0.0228364486638336, -0.03560371266230646, 0.0008114226594752484, -0.093055202280109, 0.0003038515729502628, 0.02719770223350176, 0.27069971458265896, -0.04254291200974368, -0.07366281304087544, -0.01346639593525164, 0.10202041376831654, 0.01431762615287448, 0.011548134642601106, -0.05163953927631318, 0.0874531550021249, 0.2166709702985564, -0.023564080725714497, -0.025499806811275675, -0.09342052723389803, -0.05430877972992634, 0.005351414562719373, -0.08940725526135265, 0.05639235793855443, -0.019105328756850407, 0.00905184680140475, 0.032238734755284826, 0.05347815606297607, 0.024869530223006236, -0.02514023646594658, 0.0666313161358955, 0.006596013532441086, -0.006132370439494036, 0.12553232149657714, -0.056744660534850874, -0.03148216887450962, 0.04770023847134509, 0.007172635544695452, 0.12802704370102838, -0.022540851329714326, -0.09694613658006447, 0.012444440798425884, -0.06272486953569797, 0.08813512929775015, 0.20847966756724692, 0.015685977709879964, 0.031125688902779117, -0.04485381551861897, -0.0575437557617874, -0.1293369489275888, -0.030484895188728788, -0.05408716781505859, 0.037714132478456716, 0.05177080882677351, -0.034359321644147185, 0.12857323369764667, -0.02677733918111039, -0.02736839303683521, 0.012132831419882787, 0.021988174636153764, 0.11048730977124081, -0.04972751453390547, -0.02901266013913559, -0.09991920984159033, 0.04184056648410215, 0.03441274531041061, 0.013375166496128323, 0.06296971433822261, -0.11869208576187487, 0.015612931511369808, -0.08211354383850107, 0.04239579596637013, 0.06976751436191997, -0.023416500148579353, 0.06769480038767738, 0.011456387531006968, -0.038170441136613484, 0.07515541968966295, -0.027190626003495113, 0.04062956845082097, -0.08004522093699491, -0.003371356766981234, 0.01664129428244485, -0.03644064833251208, 0.0203139061423653, 0.004056813602846646, -0.05954606012238423, -0.05895786991353948, -0.07797723087820459, -0.04330309707652595, -0.04345847964010578, -0.01949484893436088, -0.016303025754395715, -0.030390717366599273, -0.05965764888887658, 0.1475463903407561, 0.001287421415340815, 0.05446788721739379, 0.04530862511383925, -0.03923868922588404, -0.00913142869433627, -0.04393447381095484, -0.07028077978883747, -0.03326534759938638, 0.11629856458562887, -0.08756026088302293, 0.015239771116556873, 0.07573867238371491, -0.02492572986060557, 0.04471847924756321, 0.05580022296580518, -0.003361282502590783, 0.05746082952339342, 0.02585036553972043, 0.06572098654320938, 0.0023381148295081415, -0.08412493341701045, -0.020411003050345565, 0.027103783123245143, 0.09775740266670199, 0.12135568777047329, 0.027866796584893945, 0.09787035633767191, -0.07573216768481245, -0.042711162005524037, 0.027556809888408557, 0.18006306754495424, -0.07408329856860568, -0.08816822534527981, 0.14555572754316334, 0.0547903536365762, -0.014235880093076246, -0.04285313112885917, 0.014217755782962176, 0.07273339685111649, -0.0993198185921742, 0.011353785472701104, -0.006174576543182907, -0.08585645058197168, 0.0219766096685767, 0.011177666969511309, -0.004482027551881396, 0.06549814977304788, -0.029764855642225377, -0.02432400131501911, 0.03172702523722, -0.006495292162737174, -0.02729540176564035, -0.05748404006524278, -0.013963245369598438, -0.06847143277446878, 0.06834263163138046, 0.026795069485051837, -0.0640582620256506, -0.035504741534617086, -0.07227089421077916, -0.04856397973040406, -0.0305271682605901, -0.0006398364465694083, -0.02353661273928311, -0.10642699225431242, 0.0051723245448139395, -0.039638748632668315, 0.012822425109428773, -0.027802019918410966, -0.038061869840083896, 0.019070641024522838, 0.01704395019683069, -0.03508683492930873, -0.0446663711609999, 0.0915516668693393, -0.0018294066124491606, 0.05636467163468545, 0.047862783989413, -0.04063187459959699, 0.0805848890495279, -0.09442291237606944, 0.1224320974802614, 0.007529759104367088, 0.11034573924204923, -0.013557208018990533, 0.08669115108289822, 0.03511368622552065, -0.023519534497022494, -0.07090379560612635, 0.017714309424437667, 0.04590374963095808, -0.011472807361665909, -0.10399838151555381, -0.04174060818297097, 0.05569380207535384, 0.07315135134965928, 0.13569343907665532, 0.000647640553163537, -0.041652230988783526]}],\n",
              "                        {\"height\": 500, \"legend\": {\"tracegroupgap\": 0}, \"margin\": {\"t\": 60}, \"scene\": {\"domain\": {\"x\": [0.0, 1.0], \"y\": [0.0, 1.0]}, \"xaxis\": {\"title\": {\"text\": \"Conponent_1\"}}, \"yaxis\": {\"title\": {\"text\": \"Conponent_2\"}}, \"zaxis\": {\"title\": {\"text\": \"Conponent_3\"}}}, \"template\": {\"data\": {\"bar\": [{\"error_x\": {\"color\": \"#2a3f5f\"}, \"error_y\": {\"color\": \"#2a3f5f\"}, \"marker\": {\"line\": {\"color\": \"#E5ECF6\", \"width\": 0.5}}, \"type\": \"bar\"}], \"barpolar\": [{\"marker\": {\"line\": {\"color\": \"#E5ECF6\", \"width\": 0.5}}, \"type\": \"barpolar\"}], \"carpet\": [{\"aaxis\": {\"endlinecolor\": \"#2a3f5f\", \"gridcolor\": \"white\", \"linecolor\": \"white\", \"minorgridcolor\": \"white\", \"startlinecolor\": \"#2a3f5f\"}, \"baxis\": {\"endlinecolor\": \"#2a3f5f\", \"gridcolor\": \"white\", \"linecolor\": \"white\", \"minorgridcolor\": \"white\", \"startlinecolor\": \"#2a3f5f\"}, \"type\": \"carpet\"}], \"choropleth\": [{\"colorbar\": {\"outlinewidth\": 0, \"ticks\": \"\"}, \"type\": \"choropleth\"}], \"contour\": [{\"colorbar\": {\"outlinewidth\": 0, \"ticks\": \"\"}, \"colorscale\": [[0.0, \"#0d0887\"], [0.1111111111111111, \"#46039f\"], [0.2222222222222222, \"#7201a8\"], [0.3333333333333333, \"#9c179e\"], [0.4444444444444444, \"#bd3786\"], [0.5555555555555556, \"#d8576b\"], [0.6666666666666666, \"#ed7953\"], [0.7777777777777778, \"#fb9f3a\"], [0.8888888888888888, \"#fdca26\"], [1.0, \"#f0f921\"]], \"type\": \"contour\"}], \"contourcarpet\": [{\"colorbar\": {\"outlinewidth\": 0, \"ticks\": \"\"}, \"type\": \"contourcarpet\"}], \"heatmap\": [{\"colorbar\": {\"outlinewidth\": 0, \"ticks\": \"\"}, \"colorscale\": [[0.0, \"#0d0887\"], [0.1111111111111111, \"#46039f\"], [0.2222222222222222, \"#7201a8\"], [0.3333333333333333, \"#9c179e\"], [0.4444444444444444, \"#bd3786\"], [0.5555555555555556, \"#d8576b\"], [0.6666666666666666, \"#ed7953\"], [0.7777777777777778, \"#fb9f3a\"], [0.8888888888888888, \"#fdca26\"], [1.0, \"#f0f921\"]], \"type\": \"heatmap\"}], \"heatmapgl\": [{\"colorbar\": {\"outlinewidth\": 0, \"ticks\": \"\"}, \"colorscale\": [[0.0, \"#0d0887\"], [0.1111111111111111, \"#46039f\"], [0.2222222222222222, \"#7201a8\"], [0.3333333333333333, \"#9c179e\"], [0.4444444444444444, \"#bd3786\"], [0.5555555555555556, \"#d8576b\"], [0.6666666666666666, \"#ed7953\"], [0.7777777777777778, \"#fb9f3a\"], [0.8888888888888888, \"#fdca26\"], [1.0, \"#f0f921\"]], \"type\": \"heatmapgl\"}], \"histogram\": [{\"marker\": {\"colorbar\": {\"outlinewidth\": 0, \"ticks\": \"\"}}, \"type\": \"histogram\"}], \"histogram2d\": [{\"colorbar\": {\"outlinewidth\": 0, \"ticks\": \"\"}, \"colorscale\": [[0.0, \"#0d0887\"], [0.1111111111111111, \"#46039f\"], [0.2222222222222222, \"#7201a8\"], [0.3333333333333333, \"#9c179e\"], [0.4444444444444444, \"#bd3786\"], [0.5555555555555556, \"#d8576b\"], [0.6666666666666666, \"#ed7953\"], [0.7777777777777778, \"#fb9f3a\"], [0.8888888888888888, \"#fdca26\"], [1.0, \"#f0f921\"]], \"type\": \"histogram2d\"}], \"histogram2dcontour\": [{\"colorbar\": {\"outlinewidth\": 0, \"ticks\": \"\"}, \"colorscale\": [[0.0, \"#0d0887\"], [0.1111111111111111, \"#46039f\"], [0.2222222222222222, \"#7201a8\"], [0.3333333333333333, \"#9c179e\"], [0.4444444444444444, \"#bd3786\"], [0.5555555555555556, \"#d8576b\"], [0.6666666666666666, \"#ed7953\"], [0.7777777777777778, \"#fb9f3a\"], [0.8888888888888888, \"#fdca26\"], [1.0, \"#f0f921\"]], \"type\": \"histogram2dcontour\"}], \"mesh3d\": [{\"colorbar\": {\"outlinewidth\": 0, \"ticks\": \"\"}, \"type\": \"mesh3d\"}], \"parcoords\": [{\"line\": {\"colorbar\": {\"outlinewidth\": 0, \"ticks\": \"\"}}, \"type\": \"parcoords\"}], \"pie\": [{\"automargin\": true, \"type\": \"pie\"}], \"scatter\": [{\"marker\": {\"colorbar\": {\"outlinewidth\": 0, \"ticks\": \"\"}}, \"type\": \"scatter\"}], \"scatter3d\": [{\"line\": {\"colorbar\": {\"outlinewidth\": 0, \"ticks\": \"\"}}, \"marker\": {\"colorbar\": {\"outlinewidth\": 0, \"ticks\": \"\"}}, \"type\": \"scatter3d\"}], \"scattercarpet\": [{\"marker\": {\"colorbar\": {\"outlinewidth\": 0, \"ticks\": \"\"}}, \"type\": \"scattercarpet\"}], \"scattergeo\": [{\"marker\": {\"colorbar\": {\"outlinewidth\": 0, \"ticks\": \"\"}}, \"type\": \"scattergeo\"}], \"scattergl\": [{\"marker\": {\"colorbar\": {\"outlinewidth\": 0, \"ticks\": \"\"}}, \"type\": \"scattergl\"}], \"scattermapbox\": [{\"marker\": {\"colorbar\": {\"outlinewidth\": 0, \"ticks\": \"\"}}, \"type\": \"scattermapbox\"}], \"scatterpolar\": [{\"marker\": {\"colorbar\": {\"outlinewidth\": 0, \"ticks\": \"\"}}, \"type\": \"scatterpolar\"}], \"scatterpolargl\": [{\"marker\": {\"colorbar\": {\"outlinewidth\": 0, \"ticks\": \"\"}}, \"type\": \"scatterpolargl\"}], \"scatterternary\": [{\"marker\": {\"colorbar\": {\"outlinewidth\": 0, \"ticks\": \"\"}}, \"type\": \"scatterternary\"}], \"surface\": [{\"colorbar\": {\"outlinewidth\": 0, \"ticks\": \"\"}, \"colorscale\": [[0.0, \"#0d0887\"], [0.1111111111111111, \"#46039f\"], [0.2222222222222222, \"#7201a8\"], [0.3333333333333333, \"#9c179e\"], [0.4444444444444444, \"#bd3786\"], [0.5555555555555556, \"#d8576b\"], [0.6666666666666666, \"#ed7953\"], [0.7777777777777778, \"#fb9f3a\"], [0.8888888888888888, \"#fdca26\"], [1.0, \"#f0f921\"]], \"type\": \"surface\"}], \"table\": [{\"cells\": {\"fill\": {\"color\": \"#EBF0F8\"}, \"line\": {\"color\": \"white\"}}, \"header\": {\"fill\": {\"color\": \"#C8D4E3\"}, \"line\": {\"color\": \"white\"}}, \"type\": \"table\"}]}, \"layout\": {\"annotationdefaults\": {\"arrowcolor\": \"#2a3f5f\", \"arrowhead\": 0, \"arrowwidth\": 1}, \"coloraxis\": {\"colorbar\": {\"outlinewidth\": 0, \"ticks\": \"\"}}, \"colorscale\": {\"diverging\": [[0, \"#8e0152\"], [0.1, \"#c51b7d\"], [0.2, \"#de77ae\"], [0.3, \"#f1b6da\"], [0.4, \"#fde0ef\"], [0.5, \"#f7f7f7\"], [0.6, \"#e6f5d0\"], [0.7, \"#b8e186\"], [0.8, \"#7fbc41\"], [0.9, \"#4d9221\"], [1, \"#276419\"]], \"sequential\": [[0.0, \"#0d0887\"], [0.1111111111111111, \"#46039f\"], [0.2222222222222222, \"#7201a8\"], [0.3333333333333333, \"#9c179e\"], [0.4444444444444444, \"#bd3786\"], [0.5555555555555556, \"#d8576b\"], [0.6666666666666666, \"#ed7953\"], [0.7777777777777778, \"#fb9f3a\"], [0.8888888888888888, \"#fdca26\"], [1.0, \"#f0f921\"]], \"sequentialminus\": [[0.0, \"#0d0887\"], [0.1111111111111111, \"#46039f\"], [0.2222222222222222, \"#7201a8\"], [0.3333333333333333, \"#9c179e\"], [0.4444444444444444, \"#bd3786\"], [0.5555555555555556, \"#d8576b\"], [0.6666666666666666, \"#ed7953\"], [0.7777777777777778, \"#fb9f3a\"], [0.8888888888888888, \"#fdca26\"], [1.0, \"#f0f921\"]]}, \"colorway\": [\"#636efa\", \"#EF553B\", \"#00cc96\", \"#ab63fa\", \"#FFA15A\", \"#19d3f3\", \"#FF6692\", \"#B6E880\", \"#FF97FF\", \"#FECB52\"], \"font\": {\"color\": \"#2a3f5f\"}, \"geo\": {\"bgcolor\": \"white\", \"lakecolor\": \"white\", \"landcolor\": \"#E5ECF6\", \"showlakes\": true, \"showland\": true, \"subunitcolor\": \"white\"}, \"hoverlabel\": {\"align\": \"left\"}, \"hovermode\": \"closest\", \"mapbox\": {\"style\": \"light\"}, \"paper_bgcolor\": \"white\", \"plot_bgcolor\": \"#E5ECF6\", \"polar\": {\"angularaxis\": {\"gridcolor\": \"white\", \"linecolor\": \"white\", \"ticks\": \"\"}, \"bgcolor\": \"#E5ECF6\", \"radialaxis\": {\"gridcolor\": \"white\", \"linecolor\": \"white\", \"ticks\": \"\"}}, \"scene\": {\"xaxis\": {\"backgroundcolor\": \"#E5ECF6\", \"gridcolor\": \"white\", \"gridwidth\": 2, \"linecolor\": \"white\", \"showbackground\": true, \"ticks\": \"\", \"zerolinecolor\": \"white\"}, \"yaxis\": {\"backgroundcolor\": \"#E5ECF6\", \"gridcolor\": \"white\", \"gridwidth\": 2, \"linecolor\": \"white\", \"showbackground\": true, \"ticks\": \"\", \"zerolinecolor\": \"white\"}, \"zaxis\": {\"backgroundcolor\": \"#E5ECF6\", \"gridcolor\": \"white\", \"gridwidth\": 2, \"linecolor\": \"white\", \"showbackground\": true, \"ticks\": \"\", \"zerolinecolor\": \"white\"}}, \"shapedefaults\": {\"line\": {\"color\": \"#2a3f5f\"}}, \"ternary\": {\"aaxis\": {\"gridcolor\": \"white\", \"linecolor\": \"white\", \"ticks\": \"\"}, \"baxis\": {\"gridcolor\": \"white\", \"linecolor\": \"white\", \"ticks\": \"\"}, \"bgcolor\": \"#E5ECF6\", \"caxis\": {\"gridcolor\": \"white\", \"linecolor\": \"white\", \"ticks\": \"\"}}, \"title\": {\"x\": 0.05}, \"xaxis\": {\"automargin\": true, \"gridcolor\": \"white\", \"linecolor\": \"white\", \"ticks\": \"\", \"title\": {\"standoff\": 15}, \"zerolinecolor\": \"white\", \"zerolinewidth\": 2}, \"yaxis\": {\"automargin\": true, \"gridcolor\": \"white\", \"linecolor\": \"white\", \"ticks\": \"\", \"title\": {\"standoff\": 15}, \"zerolinecolor\": \"white\", \"zerolinewidth\": 2}}}, \"width\": 1200},\n",
              "                        {\"responsive\": true}\n",
              "                    ).then(function(){\n",
              "                            \n",
              "var gd = document.getElementById('8e5f3c4e-0971-419d-8bcf-ebbb288ee3b6');\n",
              "var x = new MutationObserver(function (mutations, observer) {{\n",
              "        var display = window.getComputedStyle(gd).display;\n",
              "        if (!display || display === 'none') {{\n",
              "            console.log([gd, 'removed!']);\n",
              "            Plotly.purge(gd);\n",
              "            observer.disconnect();\n",
              "        }}\n",
              "}});\n",
              "\n",
              "// Listen for the removal of the full notebook cells\n",
              "var notebookContainer = gd.closest('#notebook-container');\n",
              "if (notebookContainer) {{\n",
              "    x.observe(notebookContainer, {childList: true});\n",
              "}}\n",
              "\n",
              "// Listen for the clearing of the current output cell\n",
              "var outputEl = gd.closest('.output');\n",
              "if (outputEl) {{\n",
              "    x.observe(outputEl, {childList: true});\n",
              "}}\n",
              "\n",
              "                        })\n",
              "                };\n",
              "                \n",
              "            </script>\n",
              "        </div>\n",
              "</body>\n",
              "</html>"
            ]
          },
          "metadata": {
            "tags": []
          }
        }
      ]
    },
    {
      "cell_type": "markdown",
      "metadata": {
        "id": "PNyeIjgBYeAr"
      },
      "source": [
        "Klienci zostali pogrupowani na trzy skupienia według algorytmu KMeans. W dalszym kroku można sprawdzi, które zmienne definiują najlepiej zmienną."
      ]
    },
    {
      "cell_type": "markdown",
      "metadata": {
        "id": "7SWRFO1cpyF-"
      },
      "source": [
        "### Zapis"
      ]
    },
    {
      "cell_type": "code",
      "metadata": {
        "id": "G-6K5z7761eA"
      },
      "source": [
        "#zapis pliku\n",
        "df.to_csv('Customers.csv')"
      ],
      "execution_count": null,
      "outputs": []
    },
    {
      "cell_type": "markdown",
      "metadata": {
        "id": "0R4Kk0Qp7jmS"
      },
      "source": [
        "## Zadanie dodatkowe"
      ]
    },
    {
      "cell_type": "code",
      "metadata": {
        "colab": {
          "base_uri": "https://localhost:8080/",
          "height": 206
        },
        "id": "C3XGP8ANlt9w",
        "outputId": "c4dca379-fac6-4c74-fa5d-b3185ca5db60"
      },
      "source": [
        "df_rfm=df2.copy()\n",
        "df_rfm.head()"
      ],
      "execution_count": null,
      "outputs": [
        {
          "output_type": "execute_result",
          "data": {
            "text/html": [
              "<div>\n",
              "<style scoped>\n",
              "    .dataframe tbody tr th:only-of-type {\n",
              "        vertical-align: middle;\n",
              "    }\n",
              "\n",
              "    .dataframe tbody tr th {\n",
              "        vertical-align: top;\n",
              "    }\n",
              "\n",
              "    .dataframe thead th {\n",
              "        text-align: right;\n",
              "    }\n",
              "</style>\n",
              "<table border=\"1\" class=\"dataframe\">\n",
              "  <thead>\n",
              "    <tr style=\"text-align: right;\">\n",
              "      <th></th>\n",
              "      <th>CustomerId</th>\n",
              "      <th>Profit</th>\n",
              "      <th>Recency</th>\n",
              "      <th>Frequency</th>\n",
              "      <th>Monetary</th>\n",
              "      <th>Variance</th>\n",
              "    </tr>\n",
              "  </thead>\n",
              "  <tbody>\n",
              "    <tr>\n",
              "      <th>0</th>\n",
              "      <td>1</td>\n",
              "      <td>187</td>\n",
              "      <td>63</td>\n",
              "      <td>1</td>\n",
              "      <td>2349,06</td>\n",
              "      <td>2</td>\n",
              "    </tr>\n",
              "    <tr>\n",
              "      <th>1</th>\n",
              "      <td>2</td>\n",
              "      <td>96</td>\n",
              "      <td>10</td>\n",
              "      <td>6</td>\n",
              "      <td>922,62</td>\n",
              "      <td>4</td>\n",
              "    </tr>\n",
              "    <tr>\n",
              "      <th>2</th>\n",
              "      <td>3</td>\n",
              "      <td>47</td>\n",
              "      <td>35</td>\n",
              "      <td>4</td>\n",
              "      <td>881,22</td>\n",
              "      <td>3</td>\n",
              "    </tr>\n",
              "    <tr>\n",
              "      <th>3</th>\n",
              "      <td>4</td>\n",
              "      <td>294</td>\n",
              "      <td>5</td>\n",
              "      <td>1</td>\n",
              "      <td>3815,16</td>\n",
              "      <td>2</td>\n",
              "    </tr>\n",
              "    <tr>\n",
              "      <th>4</th>\n",
              "      <td>5</td>\n",
              "      <td>732</td>\n",
              "      <td>4</td>\n",
              "      <td>31</td>\n",
              "      <td>41868,11</td>\n",
              "      <td>29</td>\n",
              "    </tr>\n",
              "  </tbody>\n",
              "</table>\n",
              "</div>"
            ],
            "text/plain": [
              "   CustomerId  Profit  Recency  Frequency  Monetary  Variance\n",
              "0           1     187       63          1   2349,06         2\n",
              "1           2      96       10          6    922,62         4\n",
              "2           3      47       35          4    881,22         3\n",
              "3           4     294        5          1   3815,16         2\n",
              "4           5     732        4         31  41868,11        29"
            ]
          },
          "metadata": {
            "tags": []
          },
          "execution_count": 18
        }
      ]
    },
    {
      "cell_type": "code",
      "metadata": {
        "colab": {
          "base_uri": "https://localhost:8080/",
          "height": 363
        },
        "id": "sN06xNlziu2h",
        "outputId": "6eb2c241-653d-4d1d-8b2f-661388211ccb"
      },
      "source": [
        "#podział według skali RFM 1-5\n",
        "\n",
        "  #Recency im niższa wartość tym lepiej\n",
        "df_rfm['recency_rfm']=pd.cut(df_rfm['Recency'], bins=5, labels=[5,4,3,2,1])\n",
        "  #Frequency im wyższa wartość tym lepiej\n",
        "df_rfm['frequency_rfm']=pd.cut(df_rfm['Frequency'], bins=5, labels=[1,2,3,4,5])\n",
        "  #Monetary im wyższa wartość tym lepiej\n",
        "df_rfm['monetary_rfm']=pd.cut(df_rfm['Monetary'].str.replace(\",\",\".\").astype('float'), bins=5, labels=[1,2,3,4,5])\n",
        "df_rfm.head(10)"
      ],
      "execution_count": null,
      "outputs": [
        {
          "output_type": "execute_result",
          "data": {
            "text/html": [
              "<div>\n",
              "<style scoped>\n",
              "    .dataframe tbody tr th:only-of-type {\n",
              "        vertical-align: middle;\n",
              "    }\n",
              "\n",
              "    .dataframe tbody tr th {\n",
              "        vertical-align: top;\n",
              "    }\n",
              "\n",
              "    .dataframe thead th {\n",
              "        text-align: right;\n",
              "    }\n",
              "</style>\n",
              "<table border=\"1\" class=\"dataframe\">\n",
              "  <thead>\n",
              "    <tr style=\"text-align: right;\">\n",
              "      <th></th>\n",
              "      <th>CustomerId</th>\n",
              "      <th>Profit</th>\n",
              "      <th>Recency</th>\n",
              "      <th>Frequency</th>\n",
              "      <th>Monetary</th>\n",
              "      <th>Variance</th>\n",
              "      <th>recency_rfm</th>\n",
              "      <th>frequency_rfm</th>\n",
              "      <th>monetary_rfm</th>\n",
              "    </tr>\n",
              "  </thead>\n",
              "  <tbody>\n",
              "    <tr>\n",
              "      <th>0</th>\n",
              "      <td>1</td>\n",
              "      <td>187</td>\n",
              "      <td>63</td>\n",
              "      <td>1</td>\n",
              "      <td>2349,06</td>\n",
              "      <td>2</td>\n",
              "      <td>2</td>\n",
              "      <td>1</td>\n",
              "      <td>1</td>\n",
              "    </tr>\n",
              "    <tr>\n",
              "      <th>1</th>\n",
              "      <td>2</td>\n",
              "      <td>96</td>\n",
              "      <td>10</td>\n",
              "      <td>6</td>\n",
              "      <td>922,62</td>\n",
              "      <td>4</td>\n",
              "      <td>5</td>\n",
              "      <td>1</td>\n",
              "      <td>1</td>\n",
              "    </tr>\n",
              "    <tr>\n",
              "      <th>2</th>\n",
              "      <td>3</td>\n",
              "      <td>47</td>\n",
              "      <td>35</td>\n",
              "      <td>4</td>\n",
              "      <td>881,22</td>\n",
              "      <td>3</td>\n",
              "      <td>4</td>\n",
              "      <td>1</td>\n",
              "      <td>1</td>\n",
              "    </tr>\n",
              "    <tr>\n",
              "      <th>3</th>\n",
              "      <td>4</td>\n",
              "      <td>294</td>\n",
              "      <td>5</td>\n",
              "      <td>1</td>\n",
              "      <td>3815,16</td>\n",
              "      <td>2</td>\n",
              "      <td>5</td>\n",
              "      <td>1</td>\n",
              "      <td>1</td>\n",
              "    </tr>\n",
              "    <tr>\n",
              "      <th>4</th>\n",
              "      <td>5</td>\n",
              "      <td>732</td>\n",
              "      <td>4</td>\n",
              "      <td>31</td>\n",
              "      <td>41868,11</td>\n",
              "      <td>29</td>\n",
              "      <td>5</td>\n",
              "      <td>2</td>\n",
              "      <td>1</td>\n",
              "    </tr>\n",
              "    <tr>\n",
              "      <th>5</th>\n",
              "      <td>6</td>\n",
              "      <td>37</td>\n",
              "      <td>16</td>\n",
              "      <td>3</td>\n",
              "      <td>2053,4</td>\n",
              "      <td>8</td>\n",
              "      <td>5</td>\n",
              "      <td>1</td>\n",
              "      <td>1</td>\n",
              "    </tr>\n",
              "    <tr>\n",
              "      <th>6</th>\n",
              "      <td>7</td>\n",
              "      <td>264</td>\n",
              "      <td>11</td>\n",
              "      <td>12</td>\n",
              "      <td>4861,49</td>\n",
              "      <td>12</td>\n",
              "      <td>5</td>\n",
              "      <td>1</td>\n",
              "      <td>1</td>\n",
              "    </tr>\n",
              "    <tr>\n",
              "      <th>7</th>\n",
              "      <td>8</td>\n",
              "      <td>188</td>\n",
              "      <td>4</td>\n",
              "      <td>8</td>\n",
              "      <td>4010,69</td>\n",
              "      <td>9</td>\n",
              "      <td>5</td>\n",
              "      <td>1</td>\n",
              "      <td>1</td>\n",
              "    </tr>\n",
              "    <tr>\n",
              "      <th>8</th>\n",
              "      <td>9</td>\n",
              "      <td>316</td>\n",
              "      <td>4</td>\n",
              "      <td>21</td>\n",
              "      <td>12636,8</td>\n",
              "      <td>20</td>\n",
              "      <td>5</td>\n",
              "      <td>2</td>\n",
              "      <td>1</td>\n",
              "    </tr>\n",
              "    <tr>\n",
              "      <th>9</th>\n",
              "      <td>10</td>\n",
              "      <td>528</td>\n",
              "      <td>5</td>\n",
              "      <td>18</td>\n",
              "      <td>17741,24</td>\n",
              "      <td>26</td>\n",
              "      <td>5</td>\n",
              "      <td>2</td>\n",
              "      <td>1</td>\n",
              "    </tr>\n",
              "  </tbody>\n",
              "</table>\n",
              "</div>"
            ],
            "text/plain": [
              "   CustomerId  Profit  Recency  ...  recency_rfm frequency_rfm  monetary_rfm\n",
              "0           1     187       63  ...            2             1             1\n",
              "1           2      96       10  ...            5             1             1\n",
              "2           3      47       35  ...            4             1             1\n",
              "3           4     294        5  ...            5             1             1\n",
              "4           5     732        4  ...            5             2             1\n",
              "5           6      37       16  ...            5             1             1\n",
              "6           7     264       11  ...            5             1             1\n",
              "7           8     188        4  ...            5             1             1\n",
              "8           9     316        4  ...            5             2             1\n",
              "9          10     528        5  ...            5             2             1\n",
              "\n",
              "[10 rows x 9 columns]"
            ]
          },
          "metadata": {
            "tags": []
          },
          "execution_count": 19
        }
      ]
    },
    {
      "cell_type": "code",
      "metadata": {
        "id": "wzna6JTH-Mmi",
        "colab": {
          "base_uri": "https://localhost:8080/",
          "height": 394
        },
        "outputId": "ce90cdad-d0cb-4dfc-e696-6a6141916c80"
      },
      "source": [
        "#pobranie tabeli z charakterystyką klentów\n",
        "df_opis=pd.read_html('https://rfm.rsquaredacademy.com/articles/rfm-customer-level-data.html#segments')\n",
        "df_opis=df_opis[1]\n",
        "df_opis"
      ],
      "execution_count": null,
      "outputs": [
        {
          "output_type": "execute_result",
          "data": {
            "text/html": [
              "<div>\n",
              "<style scoped>\n",
              "    .dataframe tbody tr th:only-of-type {\n",
              "        vertical-align: middle;\n",
              "    }\n",
              "\n",
              "    .dataframe tbody tr th {\n",
              "        vertical-align: top;\n",
              "    }\n",
              "\n",
              "    .dataframe thead th {\n",
              "        text-align: right;\n",
              "    }\n",
              "</style>\n",
              "<table border=\"1\" class=\"dataframe\">\n",
              "  <thead>\n",
              "    <tr style=\"text-align: right;\">\n",
              "      <th></th>\n",
              "      <th>Segment</th>\n",
              "      <th>Description</th>\n",
              "      <th>R</th>\n",
              "      <th>F</th>\n",
              "      <th>M</th>\n",
              "    </tr>\n",
              "  </thead>\n",
              "  <tbody>\n",
              "    <tr>\n",
              "      <th>0</th>\n",
              "      <td>Champions</td>\n",
              "      <td>Bought recently, buy often and spend the most</td>\n",
              "      <td>4 - 5</td>\n",
              "      <td>4 - 5</td>\n",
              "      <td>4 - 5</td>\n",
              "    </tr>\n",
              "    <tr>\n",
              "      <th>1</th>\n",
              "      <td>Loyal Customers</td>\n",
              "      <td>Spend good money. Responsive to promotions</td>\n",
              "      <td>2 - 5</td>\n",
              "      <td>3 - 5</td>\n",
              "      <td>3 - 5</td>\n",
              "    </tr>\n",
              "    <tr>\n",
              "      <th>2</th>\n",
              "      <td>Potential Loyalist</td>\n",
              "      <td>Recent customers, spent good amount, bought mo...</td>\n",
              "      <td>3 - 5</td>\n",
              "      <td>1 - 3</td>\n",
              "      <td>1 - 3</td>\n",
              "    </tr>\n",
              "    <tr>\n",
              "      <th>3</th>\n",
              "      <td>New Customers</td>\n",
              "      <td>Bought more recently, but not often</td>\n",
              "      <td>4 - 5</td>\n",
              "      <td>&lt;= 1</td>\n",
              "      <td>&lt;= 1</td>\n",
              "    </tr>\n",
              "    <tr>\n",
              "      <th>4</th>\n",
              "      <td>Promising</td>\n",
              "      <td>Recent shoppers, but haven’t spent much</td>\n",
              "      <td>3 - 4</td>\n",
              "      <td>&lt;= 1</td>\n",
              "      <td>&lt;= 1</td>\n",
              "    </tr>\n",
              "    <tr>\n",
              "      <th>5</th>\n",
              "      <td>Need Attention</td>\n",
              "      <td>Above average recency, frequency &amp; monetary va...</td>\n",
              "      <td>2 - 3</td>\n",
              "      <td>2 - 3</td>\n",
              "      <td>2 - 3</td>\n",
              "    </tr>\n",
              "    <tr>\n",
              "      <th>6</th>\n",
              "      <td>About To Sleep</td>\n",
              "      <td>Below average recency, frequency &amp; monetary va...</td>\n",
              "      <td>2 - 3</td>\n",
              "      <td>&lt;= 2</td>\n",
              "      <td>&lt;= 2</td>\n",
              "    </tr>\n",
              "    <tr>\n",
              "      <th>7</th>\n",
              "      <td>At Risk</td>\n",
              "      <td>Spent big money, purchased often but long time...</td>\n",
              "      <td>&lt;= 2</td>\n",
              "      <td>2 - 5</td>\n",
              "      <td>2 - 5</td>\n",
              "    </tr>\n",
              "    <tr>\n",
              "      <th>8</th>\n",
              "      <td>Can’t Lose Them</td>\n",
              "      <td>Made big purchases and often, but long time ago</td>\n",
              "      <td>&lt;= 1</td>\n",
              "      <td>4 - 5</td>\n",
              "      <td>4 - 5</td>\n",
              "    </tr>\n",
              "    <tr>\n",
              "      <th>9</th>\n",
              "      <td>Hibernating</td>\n",
              "      <td>Low spenders, low frequency, purchased long ti...</td>\n",
              "      <td>1 - 2</td>\n",
              "      <td>1 - 2</td>\n",
              "      <td>1 - 2</td>\n",
              "    </tr>\n",
              "    <tr>\n",
              "      <th>10</th>\n",
              "      <td>Lost</td>\n",
              "      <td>Lowest recency, frequency &amp; monetary scores</td>\n",
              "      <td>&lt;= 2</td>\n",
              "      <td>&lt;= 2</td>\n",
              "      <td>&lt;= 2</td>\n",
              "    </tr>\n",
              "  </tbody>\n",
              "</table>\n",
              "</div>"
            ],
            "text/plain": [
              "               Segment  ...      M\n",
              "0            Champions  ...  4 - 5\n",
              "1      Loyal Customers  ...  3 - 5\n",
              "2   Potential Loyalist  ...  1 - 3\n",
              "3        New Customers  ...   <= 1\n",
              "4            Promising  ...   <= 1\n",
              "5       Need Attention  ...  2 - 3\n",
              "6       About To Sleep  ...   <= 2\n",
              "7              At Risk  ...  2 - 5\n",
              "8      Can’t Lose Them  ...  4 - 5\n",
              "9          Hibernating  ...  1 - 2\n",
              "10                Lost  ...   <= 2\n",
              "\n",
              "[11 rows x 5 columns]"
            ]
          },
          "metadata": {
            "tags": []
          },
          "execution_count": 20
        }
      ]
    },
    {
      "cell_type": "code",
      "metadata": {
        "colab": {
          "base_uri": "https://localhost:8080/"
        },
        "id": "Lj-IzVnkp3lt",
        "outputId": "b4430476-2051-40f7-d80a-09245f8f8cfc"
      },
      "source": [
        "df_opis['M'].tolist()"
      ],
      "execution_count": null,
      "outputs": [
        {
          "output_type": "execute_result",
          "data": {
            "text/plain": [
              "['4 - 5',\n",
              " '3 - 5',\n",
              " '1 - 3',\n",
              " '<= 1',\n",
              " '<= 1',\n",
              " '2 - 3',\n",
              " '<= 2',\n",
              " '2 - 5',\n",
              " '4 - 5',\n",
              " '1 - 2',\n",
              " '<= 2']"
            ]
          },
          "metadata": {
            "tags": []
          },
          "execution_count": 21
        }
      ]
    },
    {
      "cell_type": "code",
      "metadata": {
        "colab": {
          "base_uri": "https://localhost:8080/",
          "height": 394
        },
        "id": "0pt0Tm-MpXAt",
        "outputId": "be27cbca-f669-48e7-a416-4c54ffb93afa"
      },
      "source": [
        "df_opis['R_p']=[[4,5], [2,5], [3,5], [4,5], [3,4], [2,3], [2,3], [1,2], [1,1], [1,2], [1,2]]\n",
        "df_opis['R_f']=[[4,5], [3,5], [1,3], [1,1], [1,1], [2,3], [1,2], [2,5], [4,5], [1,2], [1,2]]\n",
        "df_opis['R_m']=[[4,5], [3,5], [1,3], [1,1], [1,1], [2,3], [1,2], [2,5], [4,5], [1,2], [1,2]]\n",
        "df_opis"
      ],
      "execution_count": null,
      "outputs": [
        {
          "output_type": "execute_result",
          "data": {
            "text/html": [
              "<div>\n",
              "<style scoped>\n",
              "    .dataframe tbody tr th:only-of-type {\n",
              "        vertical-align: middle;\n",
              "    }\n",
              "\n",
              "    .dataframe tbody tr th {\n",
              "        vertical-align: top;\n",
              "    }\n",
              "\n",
              "    .dataframe thead th {\n",
              "        text-align: right;\n",
              "    }\n",
              "</style>\n",
              "<table border=\"1\" class=\"dataframe\">\n",
              "  <thead>\n",
              "    <tr style=\"text-align: right;\">\n",
              "      <th></th>\n",
              "      <th>Segment</th>\n",
              "      <th>Description</th>\n",
              "      <th>R</th>\n",
              "      <th>F</th>\n",
              "      <th>M</th>\n",
              "      <th>R_p</th>\n",
              "      <th>R_f</th>\n",
              "      <th>R_m</th>\n",
              "    </tr>\n",
              "  </thead>\n",
              "  <tbody>\n",
              "    <tr>\n",
              "      <th>0</th>\n",
              "      <td>Champions</td>\n",
              "      <td>Bought recently, buy often and spend the most</td>\n",
              "      <td>4 - 5</td>\n",
              "      <td>4 - 5</td>\n",
              "      <td>4 - 5</td>\n",
              "      <td>[4, 5]</td>\n",
              "      <td>[4, 5]</td>\n",
              "      <td>[4, 5]</td>\n",
              "    </tr>\n",
              "    <tr>\n",
              "      <th>1</th>\n",
              "      <td>Loyal Customers</td>\n",
              "      <td>Spend good money. Responsive to promotions</td>\n",
              "      <td>2 - 5</td>\n",
              "      <td>3 - 5</td>\n",
              "      <td>3 - 5</td>\n",
              "      <td>[2, 5]</td>\n",
              "      <td>[3, 5]</td>\n",
              "      <td>[3, 5]</td>\n",
              "    </tr>\n",
              "    <tr>\n",
              "      <th>2</th>\n",
              "      <td>Potential Loyalist</td>\n",
              "      <td>Recent customers, spent good amount, bought mo...</td>\n",
              "      <td>3 - 5</td>\n",
              "      <td>1 - 3</td>\n",
              "      <td>1 - 3</td>\n",
              "      <td>[3, 5]</td>\n",
              "      <td>[1, 3]</td>\n",
              "      <td>[1, 3]</td>\n",
              "    </tr>\n",
              "    <tr>\n",
              "      <th>3</th>\n",
              "      <td>New Customers</td>\n",
              "      <td>Bought more recently, but not often</td>\n",
              "      <td>4 - 5</td>\n",
              "      <td>&lt;= 1</td>\n",
              "      <td>&lt;= 1</td>\n",
              "      <td>[4, 5]</td>\n",
              "      <td>[1, 1]</td>\n",
              "      <td>[1, 1]</td>\n",
              "    </tr>\n",
              "    <tr>\n",
              "      <th>4</th>\n",
              "      <td>Promising</td>\n",
              "      <td>Recent shoppers, but haven’t spent much</td>\n",
              "      <td>3 - 4</td>\n",
              "      <td>&lt;= 1</td>\n",
              "      <td>&lt;= 1</td>\n",
              "      <td>[3, 4]</td>\n",
              "      <td>[1, 1]</td>\n",
              "      <td>[1, 1]</td>\n",
              "    </tr>\n",
              "    <tr>\n",
              "      <th>5</th>\n",
              "      <td>Need Attention</td>\n",
              "      <td>Above average recency, frequency &amp; monetary va...</td>\n",
              "      <td>2 - 3</td>\n",
              "      <td>2 - 3</td>\n",
              "      <td>2 - 3</td>\n",
              "      <td>[2, 3]</td>\n",
              "      <td>[2, 3]</td>\n",
              "      <td>[2, 3]</td>\n",
              "    </tr>\n",
              "    <tr>\n",
              "      <th>6</th>\n",
              "      <td>About To Sleep</td>\n",
              "      <td>Below average recency, frequency &amp; monetary va...</td>\n",
              "      <td>2 - 3</td>\n",
              "      <td>&lt;= 2</td>\n",
              "      <td>&lt;= 2</td>\n",
              "      <td>[2, 3]</td>\n",
              "      <td>[1, 2]</td>\n",
              "      <td>[1, 2]</td>\n",
              "    </tr>\n",
              "    <tr>\n",
              "      <th>7</th>\n",
              "      <td>At Risk</td>\n",
              "      <td>Spent big money, purchased often but long time...</td>\n",
              "      <td>&lt;= 2</td>\n",
              "      <td>2 - 5</td>\n",
              "      <td>2 - 5</td>\n",
              "      <td>[1, 2]</td>\n",
              "      <td>[2, 5]</td>\n",
              "      <td>[2, 5]</td>\n",
              "    </tr>\n",
              "    <tr>\n",
              "      <th>8</th>\n",
              "      <td>Can’t Lose Them</td>\n",
              "      <td>Made big purchases and often, but long time ago</td>\n",
              "      <td>&lt;= 1</td>\n",
              "      <td>4 - 5</td>\n",
              "      <td>4 - 5</td>\n",
              "      <td>[1, 1]</td>\n",
              "      <td>[4, 5]</td>\n",
              "      <td>[4, 5]</td>\n",
              "    </tr>\n",
              "    <tr>\n",
              "      <th>9</th>\n",
              "      <td>Hibernating</td>\n",
              "      <td>Low spenders, low frequency, purchased long ti...</td>\n",
              "      <td>1 - 2</td>\n",
              "      <td>1 - 2</td>\n",
              "      <td>1 - 2</td>\n",
              "      <td>[1, 2]</td>\n",
              "      <td>[1, 2]</td>\n",
              "      <td>[1, 2]</td>\n",
              "    </tr>\n",
              "    <tr>\n",
              "      <th>10</th>\n",
              "      <td>Lost</td>\n",
              "      <td>Lowest recency, frequency &amp; monetary scores</td>\n",
              "      <td>&lt;= 2</td>\n",
              "      <td>&lt;= 2</td>\n",
              "      <td>&lt;= 2</td>\n",
              "      <td>[1, 2]</td>\n",
              "      <td>[1, 2]</td>\n",
              "      <td>[1, 2]</td>\n",
              "    </tr>\n",
              "  </tbody>\n",
              "</table>\n",
              "</div>"
            ],
            "text/plain": [
              "               Segment  ...     R_m\n",
              "0            Champions  ...  [4, 5]\n",
              "1      Loyal Customers  ...  [3, 5]\n",
              "2   Potential Loyalist  ...  [1, 3]\n",
              "3        New Customers  ...  [1, 1]\n",
              "4            Promising  ...  [1, 1]\n",
              "5       Need Attention  ...  [2, 3]\n",
              "6       About To Sleep  ...  [1, 2]\n",
              "7              At Risk  ...  [2, 5]\n",
              "8      Can’t Lose Them  ...  [4, 5]\n",
              "9          Hibernating  ...  [1, 2]\n",
              "10                Lost  ...  [1, 2]\n",
              "\n",
              "[11 rows x 8 columns]"
            ]
          },
          "metadata": {
            "tags": []
          },
          "execution_count": 22
        }
      ]
    },
    {
      "cell_type": "code",
      "metadata": {
        "id": "YpO3iJRqhzrd"
      },
      "source": [
        ""
      ],
      "execution_count": null,
      "outputs": []
    },
    {
      "cell_type": "code",
      "metadata": {
        "id": "mN_0gL6g3Uib"
      },
      "source": [
        ""
      ],
      "execution_count": null,
      "outputs": []
    }
  ]
}